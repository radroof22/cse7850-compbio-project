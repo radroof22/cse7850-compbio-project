{
 "cells": [
  {
   "cell_type": "code",
   "execution_count": 1,
   "metadata": {},
   "outputs": [],
   "source": [
    "import pickle\n",
    "\n",
    "START_INDEX = 2000\n",
    "END_INDEX = 5000"
   ]
  },
  {
   "cell_type": "code",
   "execution_count": 4,
   "metadata": {},
   "outputs": [],
   "source": [
    "filename = f\"structural_embeddings_{START_INDEX}_{END_INDEX}.pkl\"\n",
    "with open(filename, \"rb\") as f:\n",
    "    embeddings_data = pickle.load(f)"
   ]
  },
  {
   "cell_type": "code",
   "execution_count": 13,
   "metadata": {},
   "outputs": [
    {
     "data": {
      "text/html": [
       "<div>\n",
       "<style scoped>\n",
       "    .dataframe tbody tr th:only-of-type {\n",
       "        vertical-align: middle;\n",
       "    }\n",
       "\n",
       "    .dataframe tbody tr th {\n",
       "        vertical-align: top;\n",
       "    }\n",
       "\n",
       "    .dataframe thead th {\n",
       "        text-align: right;\n",
       "    }\n",
       "</style>\n",
       "<table border=\"1\" class=\"dataframe\">\n",
       "  <thead>\n",
       "    <tr style=\"text-align: right;\">\n",
       "      <th></th>\n",
       "      <th>protein_id</th>\n",
       "      <th>sequence</th>\n",
       "      <th>embedding</th>\n",
       "    </tr>\n",
       "  </thead>\n",
       "  <tbody>\n",
       "    <tr>\n",
       "      <th>2992</th>\n",
       "      <td>O60220</td>\n",
       "      <td>MDSSSSSSAAGLGAVDPQLQHFIEVETQKQRFQQLVHQMTELCWEK...</td>\n",
       "      <td>[-11.257034, 7.7092805, 16.920538, 7.350616, -...</td>\n",
       "    </tr>\n",
       "    <tr>\n",
       "      <th>2993</th>\n",
       "      <td>B7U540</td>\n",
       "      <td>MTAASRANPYSIVSLEEDGLHLVTMSGANGFGNGKVHTRRRCRNRF...</td>\n",
       "      <td>[-11.770274, 17.846876, 10.080414, 1.2716439, ...</td>\n",
       "    </tr>\n",
       "    <tr>\n",
       "      <th>2994</th>\n",
       "      <td>Q96A11</td>\n",
       "      <td>MPPILQRLQQATKMMSRRKILLLVLGCSTVSLLIHQGAQLSWYPKL...</td>\n",
       "      <td>[-4.1618466, 9.359269, 3.4375758, -5.8182945, ...</td>\n",
       "    </tr>\n",
       "    <tr>\n",
       "      <th>2995</th>\n",
       "      <td>P0C851</td>\n",
       "      <td>MTMETLPKVLEVDEKSPEAKDLLPSQTASSLCISSRSESVWTTTPR...</td>\n",
       "      <td>[-20.593853, 21.956104, 15.01557, 6.2226315, -...</td>\n",
       "    </tr>\n",
       "    <tr>\n",
       "      <th>2996</th>\n",
       "      <td>Q8N140</td>\n",
       "      <td>MKMDVSVRAAGCSDDLSSGEADVDPKLLELTADEEKCRSIRRQYRQ...</td>\n",
       "      <td>[-29.929707, 25.56587, 25.70722, 7.4252124, -9...</td>\n",
       "    </tr>\n",
       "  </tbody>\n",
       "</table>\n",
       "</div>"
      ],
      "text/plain": [
       "     protein_id                                           sequence  \\\n",
       "2992     O60220  MDSSSSSSAAGLGAVDPQLQHFIEVETQKQRFQQLVHQMTELCWEK...   \n",
       "2993     B7U540  MTAASRANPYSIVSLEEDGLHLVTMSGANGFGNGKVHTRRRCRNRF...   \n",
       "2994     Q96A11  MPPILQRLQQATKMMSRRKILLLVLGCSTVSLLIHQGAQLSWYPKL...   \n",
       "2995     P0C851  MTMETLPKVLEVDEKSPEAKDLLPSQTASSLCISSRSESVWTTTPR...   \n",
       "2996     Q8N140  MKMDVSVRAAGCSDDLSSGEADVDPKLLELTADEEKCRSIRRQYRQ...   \n",
       "\n",
       "                                              embedding  \n",
       "2992  [-11.257034, 7.7092805, 16.920538, 7.350616, -...  \n",
       "2993  [-11.770274, 17.846876, 10.080414, 1.2716439, ...  \n",
       "2994  [-4.1618466, 9.359269, 3.4375758, -5.8182945, ...  \n",
       "2995  [-20.593853, 21.956104, 15.01557, 6.2226315, -...  \n",
       "2996  [-29.929707, 25.56587, 25.70722, 7.4252124, -9...  "
      ]
     },
     "execution_count": 13,
     "metadata": {},
     "output_type": "execute_result"
    }
   ],
   "source": [
    "embeddings_data.tail()"
   ]
  },
  {
   "cell_type": "code",
   "execution_count": 30,
   "metadata": {},
   "outputs": [
    {
     "data": {
      "text/html": [
       "<div>\n",
       "<style scoped>\n",
       "    .dataframe tbody tr th:only-of-type {\n",
       "        vertical-align: middle;\n",
       "    }\n",
       "\n",
       "    .dataframe tbody tr th {\n",
       "        vertical-align: top;\n",
       "    }\n",
       "\n",
       "    .dataframe thead th {\n",
       "        text-align: right;\n",
       "    }\n",
       "</style>\n",
       "<table border=\"1\" class=\"dataframe\">\n",
       "  <thead>\n",
       "    <tr style=\"text-align: right;\">\n",
       "      <th></th>\n",
       "      <th>organism</th>\n",
       "      <th>organism_id</th>\n",
       "      <th>name</th>\n",
       "      <th>evidence</th>\n",
       "      <th>function</th>\n",
       "      <th>id</th>\n",
       "      <th>embedding</th>\n",
       "      <th>sequence</th>\n",
       "    </tr>\n",
       "  </thead>\n",
       "  <tbody>\n",
       "    <tr>\n",
       "      <th>0</th>\n",
       "      <td>Homo sapiens (Human)</td>\n",
       "      <td>9606</td>\n",
       "      <td>EPHA7</td>\n",
       "      <td>1</td>\n",
       "      <td>Receptor tyrosine kinase which binds promiscuo...</td>\n",
       "      <td>Q15375</td>\n",
       "      <td>[-0.015253728, 0.016237658, -0.016555615, 0.02...</td>\n",
       "      <td>MVFQTRYPSWIILCYIWLLRFAHTGEAQAAKEVLLLDSKAQQTELE...</td>\n",
       "    </tr>\n",
       "    <tr>\n",
       "      <th>1</th>\n",
       "      <td>Homo sapiens (Human)</td>\n",
       "      <td>9606</td>\n",
       "      <td>ANXA8</td>\n",
       "      <td>1</td>\n",
       "      <td>This protein is an anticoagulant protein that ...</td>\n",
       "      <td>P13928</td>\n",
       "      <td>[-0.008352073, 0.00474287, 0.006541474, -0.002...</td>\n",
       "      <td>MAWWKSWIEQEGVTVKSSSHFNPDPDAETLYKAMKGIGTNEQAIID...</td>\n",
       "    </tr>\n",
       "    <tr>\n",
       "      <th>2</th>\n",
       "      <td>Homo sapiens (Human)</td>\n",
       "      <td>9606</td>\n",
       "      <td>DPY19L2P1</td>\n",
       "      <td>2</td>\n",
       "      <td>Probable C-mannosyltransferase that mediates C...</td>\n",
       "      <td>Q6NXN4</td>\n",
       "      <td>[-0.00039709447, -0.02393247, -0.014100584, 0....</td>\n",
       "      <td>MKKQGVNPKPLQSSRPSPSKRPYGASPARELEVEKSALGGGKLPGG...</td>\n",
       "    </tr>\n",
       "    <tr>\n",
       "      <th>3</th>\n",
       "      <td>Homo sapiens (Human)</td>\n",
       "      <td>9606</td>\n",
       "      <td>NR1D1</td>\n",
       "      <td>1</td>\n",
       "      <td>Transcriptional repressor which coordinates ci...</td>\n",
       "      <td>P20393</td>\n",
       "      <td>[0.008172105, -0.0116752, -0.016805198, -0.005...</td>\n",
       "      <td>MTTLDSNNNTGGVITYIGSSGSSPSRTSPESLYSDNSNGSFQSLTQ...</td>\n",
       "    </tr>\n",
       "    <tr>\n",
       "      <th>4</th>\n",
       "      <td>Homo sapiens (Human)</td>\n",
       "      <td>9606</td>\n",
       "      <td>SLC15A2</td>\n",
       "      <td>1</td>\n",
       "      <td>Proton-coupled amino-acid transporter that tra...</td>\n",
       "      <td>Q16348</td>\n",
       "      <td>[0.0031013805, -0.0019497981, -0.003831747, 0....</td>\n",
       "      <td>MNPFQKNESKETLFSPVSIEEVPPRPPSPPKKPSPTICGSNYPLSI...</td>\n",
       "    </tr>\n",
       "  </tbody>\n",
       "</table>\n",
       "</div>"
      ],
      "text/plain": [
       "               organism organism_id       name  evidence  \\\n",
       "0  Homo sapiens (Human)        9606      EPHA7         1   \n",
       "1  Homo sapiens (Human)        9606      ANXA8         1   \n",
       "2  Homo sapiens (Human)        9606  DPY19L2P1         2   \n",
       "3  Homo sapiens (Human)        9606      NR1D1         1   \n",
       "4  Homo sapiens (Human)        9606    SLC15A2         1   \n",
       "\n",
       "                                            function      id  \\\n",
       "0  Receptor tyrosine kinase which binds promiscuo...  Q15375   \n",
       "1  This protein is an anticoagulant protein that ...  P13928   \n",
       "2  Probable C-mannosyltransferase that mediates C...  Q6NXN4   \n",
       "3  Transcriptional repressor which coordinates ci...  P20393   \n",
       "4  Proton-coupled amino-acid transporter that tra...  Q16348   \n",
       "\n",
       "                                           embedding  \\\n",
       "0  [-0.015253728, 0.016237658, -0.016555615, 0.02...   \n",
       "1  [-0.008352073, 0.00474287, 0.006541474, -0.002...   \n",
       "2  [-0.00039709447, -0.02393247, -0.014100584, 0....   \n",
       "3  [0.008172105, -0.0116752, -0.016805198, -0.005...   \n",
       "4  [0.0031013805, -0.0019497981, -0.003831747, 0....   \n",
       "\n",
       "                                            sequence  \n",
       "0  MVFQTRYPSWIILCYIWLLRFAHTGEAQAAKEVLLLDSKAQQTELE...  \n",
       "1  MAWWKSWIEQEGVTVKSSSHFNPDPDAETLYKAMKGIGTNEQAIID...  \n",
       "2  MKKQGVNPKPLQSSRPSPSKRPYGASPARELEVEKSALGGGKLPGG...  \n",
       "3  MTTLDSNNNTGGVITYIGSSGSSPSRTSPESLYSDNSNGSFQSLTQ...  \n",
       "4  MNPFQKNESKETLFSPVSIEEVPPRPPSPPKKPSPTICGSNYPLSI...  "
      ]
     },
     "execution_count": 30,
     "metadata": {},
     "output_type": "execute_result"
    }
   ],
   "source": [
    "# from proteinclip.fasta_utils import read_fasta\n",
    "import pandas as pd\n",
    "df = pd.read_parquet(\"./data/dataset/sequence_and_embeddings.parquet\")\n",
    "df.head()"
   ]
  },
  {
   "cell_type": "code",
   "execution_count": 37,
   "metadata": {},
   "outputs": [],
   "source": [
    "indexed_ids = df.id.tolist()[START_INDEX:END_INDEX]\n",
    "excluded = set(indexed_ids) ^ set(embeddings_data.protein_id)"
   ]
  },
  {
   "cell_type": "code",
   "execution_count": 41,
   "metadata": {},
   "outputs": [
    {
     "name": "stdout",
     "output_type": "stream",
     "text": [
      "True\n",
      "True\n",
      "True\n"
     ]
    }
   ],
   "source": [
    "excluded_df = df[df.id.isin(excluded)]\n",
    "for s in excluded_df.sequence:\n",
    "    print(\"U\" in s)"
   ]
  },
  {
   "cell_type": "code",
   "execution_count": null,
   "metadata": {},
   "outputs": [],
   "source": []
  }
 ],
 "metadata": {
  "kernelspec": {
   "display_name": "compbio",
   "language": "python",
   "name": "python3"
  },
  "language_info": {
   "codemirror_mode": {
    "name": "ipython",
    "version": 3
   },
   "file_extension": ".py",
   "mimetype": "text/x-python",
   "name": "python",
   "nbconvert_exporter": "python",
   "pygments_lexer": "ipython3",
   "version": "3.13.2"
  },
  "orig_nbformat": 4
 },
 "nbformat": 4,
 "nbformat_minor": 2
}
