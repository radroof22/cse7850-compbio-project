{
 "cells": [
  {
   "attachments": {},
   "cell_type": "markdown",
   "metadata": {},
   "source": [
    "Imports"
   ]
  },
  {
   "cell_type": "code",
   "execution_count": null,
   "metadata": {},
   "outputs": [],
   "source": [
    "import torch\n",
    "import pandas as pd\n",
    "from transformers import AutoTokenizer, EsmModel"
   ]
  },
  {
   "cell_type": "code",
   "execution_count": null,
   "metadata": {},
   "outputs": [],
   "source": [
    "# Load ESM model and tokenizer\n",
    "model_name = \"facebook/esmfold_v1\"  # Adjust if needed\n",
    "tokenizer = AutoTokenizer.from_pretrained(model_name)\n",
    "model = EsmModel.from_pretrained(model_name)\n",
    "model.eval()  # Set model to evaluation mode\n",
    "\n",
    "# Load the CSV file\n",
    "input_csv = \"protein_sequences.csv\"  # Change to your filename\n",
    "df = pd.read_csv(input_csv)\n",
    "\n",
    "# Initialize list to store embeddings\n",
    "embeddings_list = []\n",
    "\n",
    "# Process each protein sequence\n",
    "for idx, row in df.iterrows():\n",
    "    protein_id = row[\"id\"]\n",
    "    sequence = row[\"sequence\"]\n",
    "\n",
    "    # Tokenize the sequence\n",
    "    inputs = tokenizer(sequence, return_tensors=\"pt\", add_special_tokens=True)\n",
    "\n",
    "    # Compute embeddings (disable gradient calculations)\n",
    "    with torch.no_grad():\n",
    "        outputs = model(**inputs)\n",
    "        embeddings = outputs.last_hidden_state.mean(dim=1)  # Mean pooling\n",
    "\n",
    "    # Convert tensor to list\n",
    "    embedding_vector = embeddings.squeeze().tolist()\n",
    "    \n",
    "    # Store in list\n",
    "    embeddings_list.append([protein_id] + embedding_vector)\n",
    "\n",
    "# Convert to DataFrame\n",
    "columns = [\"id\"] + [f\"dim_{i}\" for i in range(len(embedding_vector))]\n",
    "embedding_df = pd.DataFrame(embeddings_list, columns=columns)\n",
    "\n",
    "# Save as Parquet file\n",
    "embedding_df.to_parquet(\"protein_embeddings.parquet\", index=False)\n",
    "\n",
    "print(\"Embeddings saved to protein_embeddings.parquet\")"
   ]
  }
 ],
 "metadata": {
  "language_info": {
   "name": "python"
  },
  "orig_nbformat": 4
 },
 "nbformat": 4,
 "nbformat_minor": 2
}
