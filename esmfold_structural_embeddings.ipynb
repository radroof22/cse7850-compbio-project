{
 "cells": [
  {
   "attachments": {},
   "cell_type": "markdown",
   "metadata": {},
   "source": [
    "# Version 2 Workspace"
   ]
  },
  {
   "cell_type": "code",
   "execution_count": null,
   "metadata": {},
   "outputs": [],
   "source": [
    "!pip install --upgrade py3Dmol accelerate"
   ]
  },
  {
   "cell_type": "code",
   "execution_count": null,
   "metadata": {},
   "outputs": [],
   "source": [
    "from transformers import AutoTokenizer, EsmForProteinFolding\n",
    "\n",
    "tokenizer = AutoTokenizer.from_pretrained(\"facebook/esmfold_v1\")\n",
    "model = EsmForProteinFolding.from_pretrained(\"facebook/esmfold_v1\", low_cpu_mem_usage=True)\n",
    "\n",
    "model = model.cuda()"
   ]
  },
  {
   "cell_type": "code",
   "execution_count": null,
   "metadata": {},
   "outputs": [],
   "source": [
    "import torch\n",
    "\n",
    "torch.backends.cuda.matmul.allow_tf32 = True"
   ]
  },
  {
   "cell_type": "code",
   "execution_count": null,
   "metadata": {},
   "outputs": [],
   "source": [
    "test_protein = \"MGAGASAEEKHSRELEKKLKEDAEKDARTVKLLLLGAGESGKSTIVKQMKIIHQDGYSLEECLEFIAIIYGNTLQSILAIVRAMTTLNIQYGDSARQDDARKLMHMADTIEEGTMPKEMSDIIQRLWKDSGIQACFERASEYQLNDSAGYYLSDLERLVTPGYVPTEQDVLRSRVKTTGIIETQFSFKDLNFRMFDVGGQRSERKKWIHCFEGVTCIIFIAALSAYDMVLVEDDEVNRMHESLHLFNSICNHRYFATTSIVLFLNKKDVFFEKIKKAHLSICFPDYDGPNTYEDAGNYIKVQFLELNMRRDVKEIYSHMTCATDTQNVKFVFDAVTDIIIKENLKDCGLF\"\n",
    "\n",
    "tokenized_input = tokenizer([test_protein], return_tensors=\"pt\", add_special_tokens=False)['input_ids']\n",
    "tokenized_input = tokenized_input.cuda()\n",
    "\n",
    "with torch.no_grad():\n",
    "    output = model(tokenized_input)\n"
   ]
  },
  {
   "attachments": {},
   "cell_type": "markdown",
   "metadata": {},
   "source": [
    "# Real Structual Embedding Generations"
   ]
  },
  {
   "attachments": {},
   "cell_type": "markdown",
   "metadata": {},
   "source": [
    "## Load Dataset"
   ]
  },
  {
   "cell_type": "code",
   "execution_count": 1,
   "metadata": {},
   "outputs": [],
   "source": [
    "import torch\n",
    "torch.cuda.empty_cache()\n",
    "torch.cuda.ipc_collect()\n"
   ]
  },
  {
   "cell_type": "code",
   "execution_count": 2,
   "metadata": {},
   "outputs": [
    {
     "data": {
      "text/html": [
       "<div>\n",
       "<style scoped>\n",
       "    .dataframe tbody tr th:only-of-type {\n",
       "        vertical-align: middle;\n",
       "    }\n",
       "\n",
       "    .dataframe tbody tr th {\n",
       "        vertical-align: top;\n",
       "    }\n",
       "\n",
       "    .dataframe thead th {\n",
       "        text-align: right;\n",
       "    }\n",
       "</style>\n",
       "<table border=\"1\" class=\"dataframe\">\n",
       "  <thead>\n",
       "    <tr style=\"text-align: right;\">\n",
       "      <th></th>\n",
       "      <th>organism</th>\n",
       "      <th>organism_id</th>\n",
       "      <th>name</th>\n",
       "      <th>evidence</th>\n",
       "      <th>function</th>\n",
       "      <th>id</th>\n",
       "      <th>embedding</th>\n",
       "      <th>sequence</th>\n",
       "    </tr>\n",
       "  </thead>\n",
       "  <tbody>\n",
       "    <tr>\n",
       "      <th>0</th>\n",
       "      <td>Homo sapiens (Human)</td>\n",
       "      <td>9606</td>\n",
       "      <td>EPHA7</td>\n",
       "      <td>1</td>\n",
       "      <td>Receptor tyrosine kinase which binds promiscuo...</td>\n",
       "      <td>Q15375</td>\n",
       "      <td>[-0.015253728, 0.016237658, -0.016555615, 0.02...</td>\n",
       "      <td>MVFQTRYPSWIILCYIWLLRFAHTGEAQAAKEVLLLDSKAQQTELE...</td>\n",
       "    </tr>\n",
       "    <tr>\n",
       "      <th>1</th>\n",
       "      <td>Homo sapiens (Human)</td>\n",
       "      <td>9606</td>\n",
       "      <td>ANXA8</td>\n",
       "      <td>1</td>\n",
       "      <td>This protein is an anticoagulant protein that ...</td>\n",
       "      <td>P13928</td>\n",
       "      <td>[-0.008352073, 0.00474287, 0.006541474, -0.002...</td>\n",
       "      <td>MAWWKSWIEQEGVTVKSSSHFNPDPDAETLYKAMKGIGTNEQAIID...</td>\n",
       "    </tr>\n",
       "    <tr>\n",
       "      <th>2</th>\n",
       "      <td>Homo sapiens (Human)</td>\n",
       "      <td>9606</td>\n",
       "      <td>DPY19L2P1</td>\n",
       "      <td>2</td>\n",
       "      <td>Probable C-mannosyltransferase that mediates C...</td>\n",
       "      <td>Q6NXN4</td>\n",
       "      <td>[-0.00039709447, -0.02393247, -0.014100584, 0....</td>\n",
       "      <td>MKKQGVNPKPLQSSRPSPSKRPYGASPARELEVEKSALGGGKLPGG...</td>\n",
       "    </tr>\n",
       "    <tr>\n",
       "      <th>3</th>\n",
       "      <td>Homo sapiens (Human)</td>\n",
       "      <td>9606</td>\n",
       "      <td>NR1D1</td>\n",
       "      <td>1</td>\n",
       "      <td>Transcriptional repressor which coordinates ci...</td>\n",
       "      <td>P20393</td>\n",
       "      <td>[0.008172105, -0.0116752, -0.016805198, -0.005...</td>\n",
       "      <td>MTTLDSNNNTGGVITYIGSSGSSPSRTSPESLYSDNSNGSFQSLTQ...</td>\n",
       "    </tr>\n",
       "    <tr>\n",
       "      <th>4</th>\n",
       "      <td>Homo sapiens (Human)</td>\n",
       "      <td>9606</td>\n",
       "      <td>SLC15A2</td>\n",
       "      <td>1</td>\n",
       "      <td>Proton-coupled amino-acid transporter that tra...</td>\n",
       "      <td>Q16348</td>\n",
       "      <td>[0.0031013805, -0.0019497981, -0.003831747, 0....</td>\n",
       "      <td>MNPFQKNESKETLFSPVSIEEVPPRPPSPPKKPSPTICGSNYPLSI...</td>\n",
       "    </tr>\n",
       "  </tbody>\n",
       "</table>\n",
       "</div>"
      ],
      "text/plain": [
       "               organism organism_id       name  evidence  \\\n",
       "0  Homo sapiens (Human)        9606      EPHA7         1   \n",
       "1  Homo sapiens (Human)        9606      ANXA8         1   \n",
       "2  Homo sapiens (Human)        9606  DPY19L2P1         2   \n",
       "3  Homo sapiens (Human)        9606      NR1D1         1   \n",
       "4  Homo sapiens (Human)        9606    SLC15A2         1   \n",
       "\n",
       "                                            function      id  \\\n",
       "0  Receptor tyrosine kinase which binds promiscuo...  Q15375   \n",
       "1  This protein is an anticoagulant protein that ...  P13928   \n",
       "2  Probable C-mannosyltransferase that mediates C...  Q6NXN4   \n",
       "3  Transcriptional repressor which coordinates ci...  P20393   \n",
       "4  Proton-coupled amino-acid transporter that tra...  Q16348   \n",
       "\n",
       "                                           embedding  \\\n",
       "0  [-0.015253728, 0.016237658, -0.016555615, 0.02...   \n",
       "1  [-0.008352073, 0.00474287, 0.006541474, -0.002...   \n",
       "2  [-0.00039709447, -0.02393247, -0.014100584, 0....   \n",
       "3  [0.008172105, -0.0116752, -0.016805198, -0.005...   \n",
       "4  [0.0031013805, -0.0019497981, -0.003831747, 0....   \n",
       "\n",
       "                                            sequence  \n",
       "0  MVFQTRYPSWIILCYIWLLRFAHTGEAQAAKEVLLLDSKAQQTELE...  \n",
       "1  MAWWKSWIEQEGVTVKSSSHFNPDPDAETLYKAMKGIGTNEQAIID...  \n",
       "2  MKKQGVNPKPLQSSRPSPSKRPYGASPARELEVEKSALGGGKLPGG...  \n",
       "3  MTTLDSNNNTGGVITYIGSSGSSPSRTSPESLYSDNSNGSFQSLTQ...  \n",
       "4  MNPFQKNESKETLFSPVSIEEVPPRPPSPPKKPSPTICGSNYPLSI...  "
      ]
     },
     "execution_count": 2,
     "metadata": {},
     "output_type": "execute_result"
    }
   ],
   "source": [
    "import pandas as pd\n",
    "df = pd.read_parquet(\"./data/dataset/sequence_and_embeddings.parquet\")\n",
    "df.head()"
   ]
  },
  {
   "cell_type": "code",
   "execution_count": 3,
   "metadata": {},
   "outputs": [
    {
     "name": "stderr",
     "output_type": "stream",
     "text": [
      "/usr/local/pace-apps/manual/packages/anaconda3/2023.03/lib/python3.10/site-packages/tqdm/auto.py:21: TqdmWarning: IProgress not found. Please update jupyter and ipywidgets. See https://ipywidgets.readthedocs.io/en/stable/user_install.html\n",
      "  from .autonotebook import tqdm as notebook_tqdm\n",
      "Some weights of EsmForProteinFolding were not initialized from the model checkpoint at facebook/esmfold_v1 and are newly initialized: ['esm.contact_head.regression.bias', 'esm.contact_head.regression.weight']\n",
      "You should probably TRAIN this model on a down-stream task to be able to use it for predictions and inference.\n"
     ]
    }
   ],
   "source": [
    "from transformers import AutoTokenizer, EsmForProteinFolding\n",
    "\n",
    "tokenizer = AutoTokenizer.from_pretrained(\"facebook/esmfold_v1\")\n",
    "model = EsmForProteinFolding.from_pretrained(\"facebook/esmfold_v1\")\n",
    "\n",
    "model = model.cuda()"
   ]
  },
  {
   "cell_type": "code",
   "execution_count": null,
   "metadata": {},
   "outputs": [],
   "source": [
    "print(torch.cuda.memory_summary())\n"
   ]
  },
  {
   "cell_type": "code",
   "execution_count": null,
   "metadata": {},
   "outputs": [],
   "source": [
    "df.shape"
   ]
  },
  {
   "attachments": {},
   "cell_type": "markdown",
   "metadata": {},
   "source": [
    "## Single Batch"
   ]
  },
  {
   "cell_type": "code",
   "execution_count": null,
   "metadata": {},
   "outputs": [],
   "source": [
    "import torch\n",
    "import pandas as pd\n",
    "from tqdm.auto import tqdm\n",
    "import numpy as np\n",
    "\n",
    "output_dict = {\"protein_id\": [], \"sequence\": [], \"pdb\": []}\n",
    "\n",
    "START_IDX = 0\n",
    "END_IDX = 1000 # len(df)\n",
    "\n",
    "with torch.no_grad():\n",
    "    for i in tqdm(range(START_IDX, END_IDX)):\n",
    "\n",
    "        tokenized_input = tokenizer([df.iloc[i][\"sequence\"]], return_tensors=\"pt\", add_special_tokens=False)['input_ids']\n",
    "        tokenized_input = tokenized_input.cuda()\n",
    "\n",
    "        output = model(tokenized_input)\n",
    "        if len(output_dict.keys()) < 4:\n",
    "            for k in output.keys():\n",
    "                output_dict[k] = []\n",
    "\n",
    "        for k in output.keys():\n",
    "            output_dict[k].append(output[k].cpu().numpy())\n",
    "\n",
    "        output_dict[\"protein_id\"].append(df.iloc[i][\"id\"])\n",
    "        output_dict[\"sequence\"].append(df.iloc[i][\"sequence\"])\n",
    "        output_dict[\"pdb\"].append(model.output_to_pdb(output))\n",
    "\n",
    "        if i % 50 == 0:\n",
    "            # Create a DataFrame from the completed dictionary.\n",
    "            output_df = pd.DataFrame(output_dict)\n",
    "            np.save(f\"structural_test_{START_IDX}_{END_IDX}.npy\", output_df.to_numpy())"
   ]
  },
  {
   "attachments": {},
   "cell_type": "markdown",
   "metadata": {},
   "source": [
    "# S_S Embeddings"
   ]
  },
  {
   "cell_type": "code",
   "execution_count": 8,
   "metadata": {},
   "outputs": [
    {
     "name": "stderr",
     "output_type": "stream",
     "text": [
      " 19%|█▉        | 375/2000 [52:34<4:08:59,  9.19s/it] "
     ]
    }
   ],
   "source": [
    "import torch\n",
    "import pandas as pd\n",
    "from tqdm.auto import tqdm\n",
    "import numpy as np\n",
    "\n",
    "output_dict = {\"protein_id\": [], \"sequence\": [], \"embedding\": []}\n",
    "\n",
    "START_IDX = 0\n",
    "END_IDX = 2000  # len(df)\n",
    "\n",
    "VALID_AAS = set(\"ACDEFGHIKLMNPQRSTVWY\")\n",
    "MAX_LEN = 1024\n",
    "\n",
    "def is_valid_sequence(seq):\n",
    "    return isinstance(seq, str) and 0 < len(seq) <= MAX_LEN and all(aa in VALID_AAS for aa in seq)\n",
    "\n",
    "with torch.no_grad():\n",
    "    for i in tqdm(range(START_IDX, END_IDX)):\n",
    "        seq = df.iloc[i][\"sequence\"]\n",
    "        if not is_valid_sequence(seq):\n",
    "            continue  # Skip invalid sequences\n",
    "\n",
    "        \n",
    "        tokenized_input = tokenizer([df.iloc[i][\"sequence\"]], return_tensors=\"pt\", add_special_tokens=False)['input_ids']\n",
    "        tokenized_input = tokenized_input.cuda()\n",
    "\n",
    "        output = model(tokenized_input)\n",
    "\n",
    "        hidden = output.s_s  # Shape: (1, L, D)\n",
    "\n",
    "        # Mean pooling over residues\n",
    "        mean_pooled = hidden.mean(dim=1).squeeze(0).cpu().numpy()\n",
    "\n",
    "        # Store result\n",
    "        output_dict[\"protein_id\"].append(df.iloc[i][\"id\"])\n",
    "        output_dict[\"sequence\"].append(seq)\n",
    "        output_dict[\"embedding\"].append(mean_pooled)\n",
    "\n",
    "\n",
    "        # Periodically save\n",
    "        if (i + 1) % 50 == 0 or i == END_IDX - 1:\n",
    "            df_out = pd.DataFrame(output_dict)\n",
    "            df_out.to_pickle(f\"structural_embeddings_{START_IDX}_{END_IDX}.pkl\")\n"
   ]
  },
  {
   "cell_type": "markdown",
   "metadata": {},
   "source": []
  },
  {
   "cell_type": "code",
   "execution_count": 4,
   "metadata": {},
   "outputs": [],
   "source": [
    "sample = pd.read_pickle('structural_embeddings_0_1000.pkl')"
   ]
  },
  {
   "cell_type": "code",
   "execution_count": 7,
   "metadata": {},
   "outputs": [
    {
     "data": {
      "text/plain": [
       "(1024,)"
      ]
     },
     "execution_count": 7,
     "metadata": {},
     "output_type": "execute_result"
    }
   ],
   "source": [
    "sample['embedding'][0].shape"
   ]
  },
  {
   "cell_type": "code",
   "execution_count": null,
   "metadata": {},
   "outputs": [],
   "source": [
    "sequences = df['sequence'].tolist()"
   ]
  },
  {
   "cell_type": "code",
   "execution_count": null,
   "metadata": {},
   "outputs": [],
   "source": [
    "x = min([len(i) for i in sequences])\n",
    "x"
   ]
  },
  {
   "cell_type": "code",
   "execution_count": null,
   "metadata": {},
   "outputs": [],
   "source": [
    "is_valid_sequence(sequences[0])"
   ]
  },
  {
   "cell_type": "code",
   "execution_count": null,
   "metadata": {},
   "outputs": [],
   "source": [
    "get_structural_embedding(sequences[0])"
   ]
  },
  {
   "cell_type": "code",
   "execution_count": null,
   "metadata": {},
   "outputs": [],
   "source": [
    "!export CUDA_LAUNCH_BLOCKING=1\n",
    "embeddings = get_structural_embeddings(sequences, batch_size=4)"
   ]
  },
  {
   "attachments": {},
   "cell_type": "markdown",
   "metadata": {},
   "source": [
    "## BATCHED IMPL"
   ]
  },
  {
   "cell_type": "code",
   "execution_count": null,
   "metadata": {},
   "outputs": [],
   "source": [
    "import torch\n",
    "import pandas as pd\n",
    "from tqdm.auto import tqdm\n",
    "\n",
    "START_IDX = 0\n",
    "END_IDX = 1000 # len(df)\n",
    "\n",
    "model.eval()\n",
    "# Define a desired batch size (modify as needed)\n",
    "batch_size = 1\n",
    "\n",
    "# Initialize your output dictionary with metadata keys;\n",
    "# keys from model output will be added on first iteration.\n",
    "output_dict = {\"protein_id\": [], \"sequence\": [], \"pdb\": []}\n",
    "\n",
    "with torch.no_grad():\n",
    "    # Process the DataFrame in batches\n",
    "    for i in tqdm(range(START_IDX, END_IDX, batch_size)):\n",
    "        batch_df = df.iloc[i:i+batch_size]\n",
    "        \n",
    "        # Prepare the list of sequences in the current batch\n",
    "        sequences = batch_df[\"sequence\"].tolist()\n",
    "        \n",
    "        # Tokenize the batch of sequences and move the tensor to GPU\n",
    "        tokenized_input = tokenizer(\n",
    "            sequences, \n",
    "            return_tensors=\"pt\", \n",
    "            add_special_tokens=False,\n",
    "            padding=True,\n",
    "            truncation=True,\n",
    "            max_length=1024\n",
    "        )['input_ids'].cuda()\n",
    "\n",
    "        # Run the model on the batched input\n",
    "        \n",
    "        output = model(tokenized_input)\n",
    "\n",
    "        # Initialize any additional keys from the model output during the first batch\n",
    "        if i == 0:\n",
    "            for k in output.keys():\n",
    "                output_dict[k] = []\n",
    "\n",
    "        # Loop over each key in the model output and process each sample in the batch\n",
    "        for k, value in output.items():\n",
    "            # Convert the output tensor to a NumPy array\n",
    "            output_np = value.cpu().numpy()\n",
    "            # Append each sample separately to keep alignment with metadata\n",
    "            if k == \"ptm\" p:\n",
    "                output_dict[k].append(output_np)\n",
    "            else:\n",
    "\n",
    "                for sample_idx in range(output_np.shape[0]):\n",
    "                    output_dict[k].append(output_np[sample_idx])\n",
    "\n",
    "        # Process protein ids and sequences from the batch\n",
    "        output_dict[\"protein_id\"].extend(batch_df[\"id\"].tolist())\n",
    "        output_dict[\"sequence\"].extend(sequences)\n",
    "\n",
    "        # For each sample in the batch, generate the corresponding pdb string.\n",
    "        # Here we process them one by one to ensure compatibility with output_to_pdb.\n",
    "        for sample_idx in range(tokenized_input.size(0)):\n",
    "            # Prepare a dictionary with the output slice for this specific sample.\n",
    "            single_sample_output = {k: value[sample_idx:sample_idx+1] for k, value in output.items()}\n",
    "            pdb_str = model.output_to_pdb(single_sample_output)\n",
    "            output_dict[\"pdb\"].append(pdb_str)\n",
    "\n",
    "        if i % 50 == 0:\n",
    "            # Create a DataFrame from the completed dictionary.\n",
    "            output_df = pd.DataFrame(output_dict)\n",
    "            np.save(\"structural_test_0_1000.npy\", output_df.to_numpy())\n"
   ]
  },
  {
   "cell_type": "code",
   "execution_count": null,
   "metadata": {},
   "outputs": [],
   "source": [
    "k"
   ]
  },
  {
   "cell_type": "code",
   "execution_count": null,
   "metadata": {},
   "outputs": [],
   "source": [
    "import numpy as np\n",
    "np.save(\"structural_test.npy\", output_df.to_numpy())"
   ]
  },
  {
   "attachments": {},
   "cell_type": "markdown",
   "metadata": {},
   "source": [
    "## Loading"
   ]
  },
  {
   "cell_type": "code",
   "execution_count": null,
   "metadata": {},
   "outputs": [],
   "source": [
    "output_df_loaded = np.load(\"structural_test.npy\", allow_pickle=True)\n",
    "output_df_loaded"
   ]
  },
  {
   "cell_type": "code",
   "execution_count": null,
   "metadata": {},
   "outputs": [],
   "source": [
    "output_dict_loaded = {k : [] for k in ['protein_id', 'sequence', 'pdb', 'frames', 'sidechain_frames',\n",
    "       'unnormalized_angles', 'angles', 'positions', 'states', 's_s', 's_z',\n",
    "       'distogram_logits', 'lm_logits', 'aatype', 'atom14_atom_exists',\n",
    "       'residx_atom14_to_atom37', 'residx_atom37_to_atom14',\n",
    "       'atom37_atom_exists', 'residue_index', 'lddt_head', 'plddt',\n",
    "       'ptm_logits', 'ptm', 'aligned_confidence_probs',\n",
    "       'predicted_aligned_error', 'max_predicted_aligned_error']}"
   ]
  },
  {
   "cell_type": "code",
   "execution_count": null,
   "metadata": {},
   "outputs": [],
   "source": []
  },
  {
   "cell_type": "code",
   "execution_count": null,
   "metadata": {},
   "outputs": [],
   "source": [
    "output_df.to_json(\"structural_test.json\")"
   ]
  },
  {
   "cell_type": "code",
   "execution_count": null,
   "metadata": {},
   "outputs": [],
   "source": [
    "print(model)"
   ]
  },
  {
   "cell_type": "code",
   "execution_count": null,
   "metadata": {},
   "outputs": [],
   "source": []
  }
 ],
 "metadata": {
  "kernelspec": {
   "display_name": "Python (proteinclip)",
   "language": "python",
   "name": "proteinclip"
  },
  "language_info": {
   "codemirror_mode": {
    "name": "ipython",
    "version": 3
   },
   "file_extension": ".py",
   "mimetype": "text/x-python",
   "name": "python",
   "nbconvert_exporter": "python",
   "pygments_lexer": "ipython3",
   "version": "3.10.13"
  },
  "orig_nbformat": 4
 },
 "nbformat": 4,
 "nbformat_minor": 2
}
