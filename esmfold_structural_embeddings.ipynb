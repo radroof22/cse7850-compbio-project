{
 "cells": [
  {
   "attachments": {},
   "cell_type": "markdown",
   "metadata": {},
   "source": [
    "# Version 2 Workspace"
   ]
  },
  {
   "cell_type": "code",
   "execution_count": null,
   "metadata": {},
   "outputs": [],
   "source": [
    "!pip install --upgrade py3Dmol accelerate"
   ]
  },
  {
   "cell_type": "code",
   "execution_count": 1,
   "metadata": {},
   "outputs": [
    {
     "name": "stderr",
     "output_type": "stream",
     "text": [
      "Some weights of EsmForProteinFolding were not initialized from the model checkpoint at facebook/esmfold_v1 and are newly initialized: ['esm.contact_head.regression.bias', 'esm.contact_head.regression.weight']\n",
      "You should probably TRAIN this model on a down-stream task to be able to use it for predictions and inference.\n"
     ]
    }
   ],
   "source": [
    "from transformers import AutoTokenizer, EsmForProteinFolding\n",
    "\n",
    "tokenizer = AutoTokenizer.from_pretrained(\"facebook/esmfold_v1\")\n",
    "model = EsmForProteinFolding.from_pretrained(\"facebook/esmfold_v1\", low_cpu_mem_usage=True)\n",
    "\n",
    "model = model.cuda()"
   ]
  },
  {
   "cell_type": "code",
   "execution_count": 2,
   "metadata": {},
   "outputs": [],
   "source": [
    "import torch\n",
    "\n",
    "torch.backends.cuda.matmul.allow_tf32 = True"
   ]
  },
  {
   "cell_type": "code",
   "execution_count": 3,
   "metadata": {},
   "outputs": [],
   "source": [
    "test_protein = \"MGAGASAEEKHSRELEKKLKEDAEKDARTVKLLLLGAGESGKSTIVKQMKIIHQDGYSLEECLEFIAIIYGNTLQSILAIVRAMTTLNIQYGDSARQDDARKLMHMADTIEEGTMPKEMSDIIQRLWKDSGIQACFERASEYQLNDSAGYYLSDLERLVTPGYVPTEQDVLRSRVKTTGIIETQFSFKDLNFRMFDVGGQRSERKKWIHCFEGVTCIIFIAALSAYDMVLVEDDEVNRMHESLHLFNSICNHRYFATTSIVLFLNKKDVFFEKIKKAHLSICFPDYDGPNTYEDAGNYIKVQFLELNMRRDVKEIYSHMTCATDTQNVKFVFDAVTDIIIKENLKDCGLF\"\n",
    "\n",
    "tokenized_input = tokenizer([test_protein], return_tensors=\"pt\", add_special_tokens=False)['input_ids']\n",
    "tokenized_input = tokenized_input.cuda()\n",
    "\n",
    "with torch.no_grad():\n",
    "    output = model(tokenized_input)\n"
   ]
  },
  {
   "attachments": {},
   "cell_type": "markdown",
   "metadata": {},
   "source": [
    "# Real Structual Embedding Generations"
   ]
  },
  {
   "attachments": {},
   "cell_type": "markdown",
   "metadata": {},
   "source": [
    "## Load Dataset"
   ]
  },
  {
   "cell_type": "code",
   "execution_count": 1,
   "metadata": {},
   "outputs": [],
   "source": [
    "import torch\n",
    "torch.cuda.empty_cache()\n",
    "torch.cuda.ipc_collect()\n"
   ]
  },
  {
   "cell_type": "code",
   "execution_count": 2,
   "metadata": {},
   "outputs": [
    {
     "data": {
      "text/html": [
       "<div>\n",
       "<style scoped>\n",
       "    .dataframe tbody tr th:only-of-type {\n",
       "        vertical-align: middle;\n",
       "    }\n",
       "\n",
       "    .dataframe tbody tr th {\n",
       "        vertical-align: top;\n",
       "    }\n",
       "\n",
       "    .dataframe thead th {\n",
       "        text-align: right;\n",
       "    }\n",
       "</style>\n",
       "<table border=\"1\" class=\"dataframe\">\n",
       "  <thead>\n",
       "    <tr style=\"text-align: right;\">\n",
       "      <th></th>\n",
       "      <th>organism</th>\n",
       "      <th>organism_id</th>\n",
       "      <th>name</th>\n",
       "      <th>evidence</th>\n",
       "      <th>function</th>\n",
       "      <th>id</th>\n",
       "      <th>embedding</th>\n",
       "      <th>sequence</th>\n",
       "    </tr>\n",
       "  </thead>\n",
       "  <tbody>\n",
       "    <tr>\n",
       "      <th>0</th>\n",
       "      <td>Homo sapiens (Human)</td>\n",
       "      <td>9606</td>\n",
       "      <td>EPHA7</td>\n",
       "      <td>1</td>\n",
       "      <td>Receptor tyrosine kinase which binds promiscuo...</td>\n",
       "      <td>Q15375</td>\n",
       "      <td>[-0.015253728, 0.016237658, -0.016555615, 0.02...</td>\n",
       "      <td>MVFQTRYPSWIILCYIWLLRFAHTGEAQAAKEVLLLDSKAQQTELE...</td>\n",
       "    </tr>\n",
       "    <tr>\n",
       "      <th>1</th>\n",
       "      <td>Homo sapiens (Human)</td>\n",
       "      <td>9606</td>\n",
       "      <td>ANXA8</td>\n",
       "      <td>1</td>\n",
       "      <td>This protein is an anticoagulant protein that ...</td>\n",
       "      <td>P13928</td>\n",
       "      <td>[-0.008352073, 0.00474287, 0.006541474, -0.002...</td>\n",
       "      <td>MAWWKSWIEQEGVTVKSSSHFNPDPDAETLYKAMKGIGTNEQAIID...</td>\n",
       "    </tr>\n",
       "    <tr>\n",
       "      <th>2</th>\n",
       "      <td>Homo sapiens (Human)</td>\n",
       "      <td>9606</td>\n",
       "      <td>DPY19L2P1</td>\n",
       "      <td>2</td>\n",
       "      <td>Probable C-mannosyltransferase that mediates C...</td>\n",
       "      <td>Q6NXN4</td>\n",
       "      <td>[-0.00039709447, -0.02393247, -0.014100584, 0....</td>\n",
       "      <td>MKKQGVNPKPLQSSRPSPSKRPYGASPARELEVEKSALGGGKLPGG...</td>\n",
       "    </tr>\n",
       "    <tr>\n",
       "      <th>3</th>\n",
       "      <td>Homo sapiens (Human)</td>\n",
       "      <td>9606</td>\n",
       "      <td>NR1D1</td>\n",
       "      <td>1</td>\n",
       "      <td>Transcriptional repressor which coordinates ci...</td>\n",
       "      <td>P20393</td>\n",
       "      <td>[0.008172105, -0.0116752, -0.016805198, -0.005...</td>\n",
       "      <td>MTTLDSNNNTGGVITYIGSSGSSPSRTSPESLYSDNSNGSFQSLTQ...</td>\n",
       "    </tr>\n",
       "    <tr>\n",
       "      <th>4</th>\n",
       "      <td>Homo sapiens (Human)</td>\n",
       "      <td>9606</td>\n",
       "      <td>SLC15A2</td>\n",
       "      <td>1</td>\n",
       "      <td>Proton-coupled amino-acid transporter that tra...</td>\n",
       "      <td>Q16348</td>\n",
       "      <td>[0.0031013805, -0.0019497981, -0.003831747, 0....</td>\n",
       "      <td>MNPFQKNESKETLFSPVSIEEVPPRPPSPPKKPSPTICGSNYPLSI...</td>\n",
       "    </tr>\n",
       "  </tbody>\n",
       "</table>\n",
       "</div>"
      ],
      "text/plain": [
       "               organism organism_id       name  evidence  \\\n",
       "0  Homo sapiens (Human)        9606      EPHA7         1   \n",
       "1  Homo sapiens (Human)        9606      ANXA8         1   \n",
       "2  Homo sapiens (Human)        9606  DPY19L2P1         2   \n",
       "3  Homo sapiens (Human)        9606      NR1D1         1   \n",
       "4  Homo sapiens (Human)        9606    SLC15A2         1   \n",
       "\n",
       "                                            function      id  \\\n",
       "0  Receptor tyrosine kinase which binds promiscuo...  Q15375   \n",
       "1  This protein is an anticoagulant protein that ...  P13928   \n",
       "2  Probable C-mannosyltransferase that mediates C...  Q6NXN4   \n",
       "3  Transcriptional repressor which coordinates ci...  P20393   \n",
       "4  Proton-coupled amino-acid transporter that tra...  Q16348   \n",
       "\n",
       "                                           embedding  \\\n",
       "0  [-0.015253728, 0.016237658, -0.016555615, 0.02...   \n",
       "1  [-0.008352073, 0.00474287, 0.006541474, -0.002...   \n",
       "2  [-0.00039709447, -0.02393247, -0.014100584, 0....   \n",
       "3  [0.008172105, -0.0116752, -0.016805198, -0.005...   \n",
       "4  [0.0031013805, -0.0019497981, -0.003831747, 0....   \n",
       "\n",
       "                                            sequence  \n",
       "0  MVFQTRYPSWIILCYIWLLRFAHTGEAQAAKEVLLLDSKAQQTELE...  \n",
       "1  MAWWKSWIEQEGVTVKSSSHFNPDPDAETLYKAMKGIGTNEQAIID...  \n",
       "2  MKKQGVNPKPLQSSRPSPSKRPYGASPARELEVEKSALGGGKLPGG...  \n",
       "3  MTTLDSNNNTGGVITYIGSSGSSPSRTSPESLYSDNSNGSFQSLTQ...  \n",
       "4  MNPFQKNESKETLFSPVSIEEVPPRPPSPPKKPSPTICGSNYPLSI...  "
      ]
     },
     "execution_count": 2,
     "metadata": {},
     "output_type": "execute_result"
    }
   ],
   "source": [
    "import pandas as pd\n",
    "df = pd.read_parquet(\"./data/dataset/sequence_and_embeddings.parquet\")\n",
    "df.head()"
   ]
  },
  {
   "cell_type": "code",
   "execution_count": 3,
   "metadata": {},
   "outputs": [
    {
     "name": "stderr",
     "output_type": "stream",
     "text": [
      "Some weights of EsmForProteinFolding were not initialized from the model checkpoint at facebook/esmfold_v1 and are newly initialized: ['esm.contact_head.regression.bias', 'esm.contact_head.regression.weight']\n",
      "You should probably TRAIN this model on a down-stream task to be able to use it for predictions and inference.\n"
     ]
    }
   ],
   "source": [
    "from transformers import AutoTokenizer, EsmForProteinFolding\n",
    "\n",
    "tokenizer = AutoTokenizer.from_pretrained(\"facebook/esmfold_v1\")\n",
    "model = EsmForProteinFolding.from_pretrained(\"facebook/esmfold_v1\")\n",
    "\n",
    "model = model.cuda()"
   ]
  },
  {
   "cell_type": "code",
   "execution_count": 4,
   "metadata": {},
   "outputs": [
    {
     "name": "stdout",
     "output_type": "stream",
     "text": [
      "|===========================================================================|\n",
      "|                  PyTorch CUDA memory summary, device ID 0                 |\n",
      "|---------------------------------------------------------------------------|\n",
      "|            CUDA OOMs: 0            |        cudaMalloc retries: 0         |\n",
      "|===========================================================================|\n",
      "|        Metric         | Cur Usage  | Peak Usage | Tot Alloc  | Tot Freed  |\n",
      "|---------------------------------------------------------------------------|\n",
      "| Allocated memory      |   8049 MiB |   8049 MiB |   8049 MiB |      0 B   |\n",
      "|       from large pool |   7919 MiB |   7919 MiB |   7919 MiB |      0 B   |\n",
      "|       from small pool |    129 MiB |    129 MiB |    129 MiB |      0 B   |\n",
      "|---------------------------------------------------------------------------|\n",
      "| Active memory         |   8049 MiB |   8049 MiB |   8049 MiB |      0 B   |\n",
      "|       from large pool |   7919 MiB |   7919 MiB |   7919 MiB |      0 B   |\n",
      "|       from small pool |    129 MiB |    129 MiB |    129 MiB |      0 B   |\n",
      "|---------------------------------------------------------------------------|\n",
      "| Requested memory      |   8049 MiB |   8049 MiB |   8049 MiB |      0 B   |\n",
      "|       from large pool |   7919 MiB |   7919 MiB |   7919 MiB |      0 B   |\n",
      "|       from small pool |    129 MiB |    129 MiB |    129 MiB |      0 B   |\n",
      "|---------------------------------------------------------------------------|\n",
      "| GPU reserved memory   |   8274 MiB |   8274 MiB |   8274 MiB |      0 B   |\n",
      "|       from large pool |   8144 MiB |   8144 MiB |   8144 MiB |      0 B   |\n",
      "|       from small pool |    130 MiB |    130 MiB |    130 MiB |      0 B   |\n",
      "|---------------------------------------------------------------------------|\n",
      "| Non-releasable memory | 229845 KiB | 240629 KiB |   1130 MiB |    905 MiB |\n",
      "|       from large pool | 229782 KiB | 238582 KiB |   1013 MiB |    789 MiB |\n",
      "|       from small pool |     63 KiB |   2145 KiB |    116 MiB |    116 MiB |\n",
      "|---------------------------------------------------------------------------|\n",
      "| Allocations           |    4537    |    4537    |    4537    |       0    |\n",
      "|       from large pool |     461    |     461    |     461    |       0    |\n",
      "|       from small pool |    4076    |    4076    |    4076    |       0    |\n",
      "|---------------------------------------------------------------------------|\n",
      "| Active allocs         |    4537    |    4537    |    4537    |       0    |\n",
      "|       from large pool |     461    |     461    |     461    |       0    |\n",
      "|       from small pool |    4076    |    4076    |    4076    |       0    |\n",
      "|---------------------------------------------------------------------------|\n",
      "| GPU reserved segments |     427    |     427    |     427    |       0    |\n",
      "|       from large pool |     362    |     362    |     362    |       0    |\n",
      "|       from small pool |      65    |      65    |      65    |       0    |\n",
      "|---------------------------------------------------------------------------|\n",
      "| Non-releasable allocs |     147    |     149    |     258    |     111    |\n",
      "|       from large pool |     144    |     145    |     193    |      49    |\n",
      "|       from small pool |       3    |       4    |      65    |      62    |\n",
      "|---------------------------------------------------------------------------|\n",
      "| Oversize allocations  |       0    |       0    |       0    |       0    |\n",
      "|---------------------------------------------------------------------------|\n",
      "| Oversize GPU segments |       0    |       0    |       0    |       0    |\n",
      "|===========================================================================|\n",
      "\n"
     ]
    }
   ],
   "source": [
    "print(torch.cuda.memory_summary())\n"
   ]
  },
  {
   "cell_type": "code",
   "execution_count": 5,
   "metadata": {},
   "outputs": [
    {
     "data": {
      "text/html": [
       "<div>\n",
       "<style scoped>\n",
       "    .dataframe tbody tr th:only-of-type {\n",
       "        vertical-align: middle;\n",
       "    }\n",
       "\n",
       "    .dataframe tbody tr th {\n",
       "        vertical-align: top;\n",
       "    }\n",
       "\n",
       "    .dataframe thead th {\n",
       "        text-align: right;\n",
       "    }\n",
       "</style>\n",
       "<table border=\"1\" class=\"dataframe\">\n",
       "  <thead>\n",
       "    <tr style=\"text-align: right;\">\n",
       "      <th></th>\n",
       "      <th>organism</th>\n",
       "      <th>organism_id</th>\n",
       "      <th>name</th>\n",
       "      <th>evidence</th>\n",
       "      <th>function</th>\n",
       "      <th>id</th>\n",
       "      <th>embedding</th>\n",
       "      <th>sequence</th>\n",
       "    </tr>\n",
       "  </thead>\n",
       "  <tbody>\n",
       "    <tr>\n",
       "      <th>0</th>\n",
       "      <td>Homo sapiens (Human)</td>\n",
       "      <td>9606</td>\n",
       "      <td>EPHA7</td>\n",
       "      <td>1</td>\n",
       "      <td>Receptor tyrosine kinase which binds promiscuo...</td>\n",
       "      <td>Q15375</td>\n",
       "      <td>[-0.015253728, 0.016237658, -0.016555615, 0.02...</td>\n",
       "      <td>MVFQTRYPSWIILCYIWLLRFAHTGEAQAAKEVLLLDSKAQQTELE...</td>\n",
       "    </tr>\n",
       "    <tr>\n",
       "      <th>1</th>\n",
       "      <td>Homo sapiens (Human)</td>\n",
       "      <td>9606</td>\n",
       "      <td>ANXA8</td>\n",
       "      <td>1</td>\n",
       "      <td>This protein is an anticoagulant protein that ...</td>\n",
       "      <td>P13928</td>\n",
       "      <td>[-0.008352073, 0.00474287, 0.006541474, -0.002...</td>\n",
       "      <td>MAWWKSWIEQEGVTVKSSSHFNPDPDAETLYKAMKGIGTNEQAIID...</td>\n",
       "    </tr>\n",
       "    <tr>\n",
       "      <th>2</th>\n",
       "      <td>Homo sapiens (Human)</td>\n",
       "      <td>9606</td>\n",
       "      <td>DPY19L2P1</td>\n",
       "      <td>2</td>\n",
       "      <td>Probable C-mannosyltransferase that mediates C...</td>\n",
       "      <td>Q6NXN4</td>\n",
       "      <td>[-0.00039709447, -0.02393247, -0.014100584, 0....</td>\n",
       "      <td>MKKQGVNPKPLQSSRPSPSKRPYGASPARELEVEKSALGGGKLPGG...</td>\n",
       "    </tr>\n",
       "    <tr>\n",
       "      <th>3</th>\n",
       "      <td>Homo sapiens (Human)</td>\n",
       "      <td>9606</td>\n",
       "      <td>NR1D1</td>\n",
       "      <td>1</td>\n",
       "      <td>Transcriptional repressor which coordinates ci...</td>\n",
       "      <td>P20393</td>\n",
       "      <td>[0.008172105, -0.0116752, -0.016805198, -0.005...</td>\n",
       "      <td>MTTLDSNNNTGGVITYIGSSGSSPSRTSPESLYSDNSNGSFQSLTQ...</td>\n",
       "    </tr>\n",
       "    <tr>\n",
       "      <th>4</th>\n",
       "      <td>Homo sapiens (Human)</td>\n",
       "      <td>9606</td>\n",
       "      <td>SLC15A2</td>\n",
       "      <td>1</td>\n",
       "      <td>Proton-coupled amino-acid transporter that tra...</td>\n",
       "      <td>Q16348</td>\n",
       "      <td>[0.0031013805, -0.0019497981, -0.003831747, 0....</td>\n",
       "      <td>MNPFQKNESKETLFSPVSIEEVPPRPPSPPKKPSPTICGSNYPLSI...</td>\n",
       "    </tr>\n",
       "  </tbody>\n",
       "</table>\n",
       "</div>"
      ],
      "text/plain": [
       "               organism organism_id       name  evidence  \\\n",
       "0  Homo sapiens (Human)        9606      EPHA7         1   \n",
       "1  Homo sapiens (Human)        9606      ANXA8         1   \n",
       "2  Homo sapiens (Human)        9606  DPY19L2P1         2   \n",
       "3  Homo sapiens (Human)        9606      NR1D1         1   \n",
       "4  Homo sapiens (Human)        9606    SLC15A2         1   \n",
       "\n",
       "                                            function      id  \\\n",
       "0  Receptor tyrosine kinase which binds promiscuo...  Q15375   \n",
       "1  This protein is an anticoagulant protein that ...  P13928   \n",
       "2  Probable C-mannosyltransferase that mediates C...  Q6NXN4   \n",
       "3  Transcriptional repressor which coordinates ci...  P20393   \n",
       "4  Proton-coupled amino-acid transporter that tra...  Q16348   \n",
       "\n",
       "                                           embedding  \\\n",
       "0  [-0.015253728, 0.016237658, -0.016555615, 0.02...   \n",
       "1  [-0.008352073, 0.00474287, 0.006541474, -0.002...   \n",
       "2  [-0.00039709447, -0.02393247, -0.014100584, 0....   \n",
       "3  [0.008172105, -0.0116752, -0.016805198, -0.005...   \n",
       "4  [0.0031013805, -0.0019497981, -0.003831747, 0....   \n",
       "\n",
       "                                            sequence  \n",
       "0  MVFQTRYPSWIILCYIWLLRFAHTGEAQAAKEVLLLDSKAQQTELE...  \n",
       "1  MAWWKSWIEQEGVTVKSSSHFNPDPDAETLYKAMKGIGTNEQAIID...  \n",
       "2  MKKQGVNPKPLQSSRPSPSKRPYGASPARELEVEKSALGGGKLPGG...  \n",
       "3  MTTLDSNNNTGGVITYIGSSGSSPSRTSPESLYSDNSNGSFQSLTQ...  \n",
       "4  MNPFQKNESKETLFSPVSIEEVPPRPPSPPKKPSPTICGSNYPLSI...  "
      ]
     },
     "execution_count": 5,
     "metadata": {},
     "output_type": "execute_result"
    }
   ],
   "source": [
    "df.head()"
   ]
  },
  {
   "attachments": {},
   "cell_type": "markdown",
   "metadata": {},
   "source": [
    "## Single Batch"
   ]
  },
  {
   "cell_type": "code",
   "execution_count": 11,
   "metadata": {},
   "outputs": [
    {
     "data": {
      "application/vnd.jupyter.widget-view+json": {
       "model_id": "54d44c8e15c74c74bfb5a135f69b2e5d",
       "version_major": 2,
       "version_minor": 0
      },
      "text/plain": [
       "  0%|          | 0/1000 [00:00<?, ?it/s]"
      ]
     },
     "metadata": {},
     "output_type": "display_data"
    },
    {
     "ename": "",
     "evalue": "",
     "output_type": "error",
     "traceback": [
      "\u001b[1;31mCanceled future for execute_request message before replies were done"
     ]
    },
    {
     "ename": "",
     "evalue": "",
     "output_type": "error",
     "traceback": [
      "\u001b[1;31mThe Kernel crashed while executing code in the the current cell or a previous cell. Please review the code in the cell(s) to identify a possible cause of the failure. Click <a href='https://aka.ms/vscodeJupyterKernelCrash'>here</a> for more info. View Jupyter <a href='command:jupyter.viewOutput'>log</a> for further details."
     ]
    }
   ],
   "source": [
    "import torch\n",
    "import pandas as pd\n",
    "from tqdm.auto import tqdm\n",
    "import numpy as np\n",
    "\n",
    "output_dict = {\"protein_id\": [], \"sequence\": [], \"pdb\": []}\n",
    "\n",
    "START_IDX = 0\n",
    "END_IDX = 1000 # len(df)\n",
    "\n",
    "with torch.no_grad():\n",
    "    for i in tqdm(range(START_IDX, END_IDX)):\n",
    "\n",
    "        tokenized_input = tokenizer([df.iloc[i][\"sequence\"]], return_tensors=\"pt\", add_special_tokens=False)['input_ids']\n",
    "        tokenized_input = tokenized_input.cuda()\n",
    "\n",
    "        output = model(tokenized_input)\n",
    "        if len(output_dict.keys()) < 4:\n",
    "            for k in output.keys():\n",
    "                output_dict[k] = []\n",
    "\n",
    "        for k in output.keys():\n",
    "            output_dict[k].append(output[k].cpu().numpy())\n",
    "\n",
    "        output_dict[\"protein_id\"].append(df.iloc[i][\"id\"])\n",
    "        output_dict[\"sequence\"].append(df.iloc[i][\"sequence\"])\n",
    "        output_dict[\"pdb\"].append(model.output_to_pdb(output))\n",
    "\n",
    "        if i % 50 == 0:\n",
    "            # Create a DataFrame from the completed dictionary.\n",
    "            output_df = pd.DataFrame(output_dict)\n",
    "            np.save(f\"structural_test_{START_IDX}_{END_IDX}.npy\", output_df.to_numpy())"
   ]
  },
  {
   "attachments": {},
   "cell_type": "markdown",
   "metadata": {},
   "source": [
    "## BATCHED IMPL"
   ]
  },
  {
   "cell_type": "code",
   "execution_count": 7,
   "metadata": {},
   "outputs": [
    {
     "data": {
      "application/vnd.jupyter.widget-view+json": {
       "model_id": "734ae36a5b2d4b468cd4fd6deb920b28",
       "version_major": 2,
       "version_minor": 0
      },
      "text/plain": [
       "  0%|          | 0/1000 [00:00<?, ?it/s]"
      ]
     },
     "metadata": {},
     "output_type": "display_data"
    },
    {
     "ename": "IndexError",
     "evalue": "tuple index out of range",
     "output_type": "error",
     "traceback": [
      "\u001b[31m---------------------------------------------------------------------------\u001b[39m",
      "\u001b[31mIndexError\u001b[39m                                Traceback (most recent call last)",
      "\u001b[36mCell\u001b[39m\u001b[36m \u001b[39m\u001b[32mIn[7]\u001b[39m\u001b[32m, line 52\u001b[39m\n\u001b[32m     49\u001b[39m         output_dict[k].append(output_np)\n\u001b[32m     50\u001b[39m     \u001b[38;5;28;01melse\u001b[39;00m:\n\u001b[32m---> \u001b[39m\u001b[32m52\u001b[39m         \u001b[38;5;28;01mfor\u001b[39;00m sample_idx \u001b[38;5;129;01min\u001b[39;00m \u001b[38;5;28mrange\u001b[39m(\u001b[43moutput_np\u001b[49m\u001b[43m.\u001b[49m\u001b[43mshape\u001b[49m\u001b[43m[\u001b[49m\u001b[32;43m0\u001b[39;49m\u001b[43m]\u001b[49m):\n\u001b[32m     53\u001b[39m             output_dict[k].append(output_np[sample_idx])\n\u001b[32m     55\u001b[39m \u001b[38;5;66;03m# Process protein ids and sequences from the batch\u001b[39;00m\n",
      "\u001b[31mIndexError\u001b[39m: tuple index out of range"
     ]
    }
   ],
   "source": [
    "import torch\n",
    "import pandas as pd\n",
    "from tqdm.auto import tqdm\n",
    "\n",
    "START_IDX = 0\n",
    "END_IDX = 1000 # len(df)\n",
    "\n",
    "model.eval()\n",
    "# Define a desired batch size (modify as needed)\n",
    "batch_size = 1\n",
    "\n",
    "# Initialize your output dictionary with metadata keys;\n",
    "# keys from model output will be added on first iteration.\n",
    "output_dict = {\"protein_id\": [], \"sequence\": [], \"pdb\": []}\n",
    "\n",
    "with torch.no_grad():\n",
    "    # Process the DataFrame in batches\n",
    "    for i in tqdm(range(START_IDX, END_IDX, batch_size)):\n",
    "        batch_df = df.iloc[i:i+batch_size]\n",
    "        \n",
    "        # Prepare the list of sequences in the current batch\n",
    "        sequences = batch_df[\"sequence\"].tolist()\n",
    "        \n",
    "        # Tokenize the batch of sequences and move the tensor to GPU\n",
    "        tokenized_input = tokenizer(\n",
    "            sequences, \n",
    "            return_tensors=\"pt\", \n",
    "            add_special_tokens=False,\n",
    "            padding=True,\n",
    "            truncation=True,\n",
    "            max_length=1024\n",
    "        )['input_ids'].cuda()\n",
    "\n",
    "        # Run the model on the batched input\n",
    "        \n",
    "        output = model(tokenized_input)\n",
    "\n",
    "        # Initialize any additional keys from the model output during the first batch\n",
    "        if i == 0:\n",
    "            for k in output.keys():\n",
    "                output_dict[k] = []\n",
    "\n",
    "        # Loop over each key in the model output and process each sample in the batch\n",
    "        for k, value in output.items():\n",
    "            # Convert the output tensor to a NumPy array\n",
    "            output_np = value.cpu().numpy()\n",
    "            # Append each sample separately to keep alignment with metadata\n",
    "            if k == \"ptm\" p:\n",
    "                output_dict[k].append(output_np)\n",
    "            else:\n",
    "\n",
    "                for sample_idx in range(output_np.shape[0]):\n",
    "                    output_dict[k].append(output_np[sample_idx])\n",
    "\n",
    "        # Process protein ids and sequences from the batch\n",
    "        output_dict[\"protein_id\"].extend(batch_df[\"id\"].tolist())\n",
    "        output_dict[\"sequence\"].extend(sequences)\n",
    "\n",
    "        # For each sample in the batch, generate the corresponding pdb string.\n",
    "        # Here we process them one by one to ensure compatibility with output_to_pdb.\n",
    "        for sample_idx in range(tokenized_input.size(0)):\n",
    "            # Prepare a dictionary with the output slice for this specific sample.\n",
    "            single_sample_output = {k: value[sample_idx:sample_idx+1] for k, value in output.items()}\n",
    "            pdb_str = model.output_to_pdb(single_sample_output)\n",
    "            output_dict[\"pdb\"].append(pdb_str)\n",
    "\n",
    "        if i % 50 == 0:\n",
    "            # Create a DataFrame from the completed dictionary.\n",
    "            output_df = pd.DataFrame(output_dict)\n",
    "            np.save(\"structural_test_0_1000.npy\", output_df.to_numpy())\n"
   ]
  },
  {
   "cell_type": "code",
   "execution_count": 9,
   "metadata": {},
   "outputs": [
    {
     "data": {
      "text/plain": [
       "'max_predicted_aligned_error'"
      ]
     },
     "execution_count": 9,
     "metadata": {},
     "output_type": "execute_result"
    }
   ],
   "source": [
    "k"
   ]
  },
  {
   "cell_type": "code",
   "execution_count": 48,
   "metadata": {},
   "outputs": [],
   "source": [
    "import numpy as np\n",
    "np.save(\"structural_test.npy\", output_df.to_numpy())"
   ]
  },
  {
   "attachments": {},
   "cell_type": "markdown",
   "metadata": {},
   "source": [
    "## Loading"
   ]
  },
  {
   "cell_type": "code",
   "execution_count": null,
   "metadata": {},
   "outputs": [],
   "source": [
    "output_df_loaded = np.load(\"structural_test.npy\", allow_pickle=True)\n",
    "output_df_loaded"
   ]
  },
  {
   "cell_type": "code",
   "execution_count": 52,
   "metadata": {},
   "outputs": [],
   "source": [
    "output_dict_loaded = {k : [] for k in ['protein_id', 'sequence', 'pdb', 'frames', 'sidechain_frames',\n",
    "       'unnormalized_angles', 'angles', 'positions', 'states', 's_s', 's_z',\n",
    "       'distogram_logits', 'lm_logits', 'aatype', 'atom14_atom_exists',\n",
    "       'residx_atom14_to_atom37', 'residx_atom37_to_atom14',\n",
    "       'atom37_atom_exists', 'residue_index', 'lddt_head', 'plddt',\n",
    "       'ptm_logits', 'ptm', 'aligned_confidence_probs',\n",
    "       'predicted_aligned_error', 'max_predicted_aligned_error']}"
   ]
  },
  {
   "cell_type": "code",
   "execution_count": null,
   "metadata": {},
   "outputs": [],
   "source": []
  },
  {
   "cell_type": "code",
   "execution_count": 43,
   "metadata": {},
   "outputs": [
    {
     "ename": "TypeError",
     "evalue": "array(0.94865006, dtype=float32) (numpy-scalar) is not JSON serializable at the moment",
     "output_type": "error",
     "traceback": [
      "\u001b[31m---------------------------------------------------------------------------\u001b[39m",
      "\u001b[31mTypeError\u001b[39m                                 Traceback (most recent call last)",
      "\u001b[36mCell\u001b[39m\u001b[36m \u001b[39m\u001b[32mIn[43]\u001b[39m\u001b[32m, line 1\u001b[39m\n\u001b[32m----> \u001b[39m\u001b[32m1\u001b[39m \u001b[43moutput_df\u001b[49m\u001b[43m.\u001b[49m\u001b[43mto_json\u001b[49m\u001b[43m(\u001b[49m\u001b[33;43m\"\u001b[39;49m\u001b[33;43mstructural_test.json\u001b[39;49m\u001b[33;43m\"\u001b[39;49m\u001b[43m)\u001b[49m\n",
      "\u001b[36mFile \u001b[39m\u001b[32m~/.conda/envs/compbio/lib/python3.13/site-packages/pandas/util/_decorators.py:333\u001b[39m, in \u001b[36mdeprecate_nonkeyword_arguments.<locals>.decorate.<locals>.wrapper\u001b[39m\u001b[34m(*args, **kwargs)\u001b[39m\n\u001b[32m    327\u001b[39m \u001b[38;5;28;01mif\u001b[39;00m \u001b[38;5;28mlen\u001b[39m(args) > num_allow_args:\n\u001b[32m    328\u001b[39m     warnings.warn(\n\u001b[32m    329\u001b[39m         msg.format(arguments=_format_argument_list(allow_args)),\n\u001b[32m    330\u001b[39m         \u001b[38;5;167;01mFutureWarning\u001b[39;00m,\n\u001b[32m    331\u001b[39m         stacklevel=find_stack_level(),\n\u001b[32m    332\u001b[39m     )\n\u001b[32m--> \u001b[39m\u001b[32m333\u001b[39m \u001b[38;5;28;01mreturn\u001b[39;00m \u001b[43mfunc\u001b[49m\u001b[43m(\u001b[49m\u001b[43m*\u001b[49m\u001b[43margs\u001b[49m\u001b[43m,\u001b[49m\u001b[43m \u001b[49m\u001b[43m*\u001b[49m\u001b[43m*\u001b[49m\u001b[43mkwargs\u001b[49m\u001b[43m)\u001b[49m\n",
      "\u001b[36mFile \u001b[39m\u001b[32m~/.conda/envs/compbio/lib/python3.13/site-packages/pandas/core/generic.py:2702\u001b[39m, in \u001b[36mNDFrame.to_json\u001b[39m\u001b[34m(self, path_or_buf, orient, date_format, double_precision, force_ascii, date_unit, default_handler, lines, compression, index, indent, storage_options, mode)\u001b[39m\n\u001b[32m   2699\u001b[39m config.is_nonnegative_int(indent)\n\u001b[32m   2700\u001b[39m indent = indent \u001b[38;5;129;01mor\u001b[39;00m \u001b[32m0\u001b[39m\n\u001b[32m-> \u001b[39m\u001b[32m2702\u001b[39m \u001b[38;5;28;01mreturn\u001b[39;00m \u001b[43mjson\u001b[49m\u001b[43m.\u001b[49m\u001b[43mto_json\u001b[49m\u001b[43m(\u001b[49m\n\u001b[32m   2703\u001b[39m \u001b[43m    \u001b[49m\u001b[43mpath_or_buf\u001b[49m\u001b[43m=\u001b[49m\u001b[43mpath_or_buf\u001b[49m\u001b[43m,\u001b[49m\n\u001b[32m   2704\u001b[39m \u001b[43m    \u001b[49m\u001b[43mobj\u001b[49m\u001b[43m=\u001b[49m\u001b[38;5;28;43mself\u001b[39;49m\u001b[43m,\u001b[49m\n\u001b[32m   2705\u001b[39m \u001b[43m    \u001b[49m\u001b[43morient\u001b[49m\u001b[43m=\u001b[49m\u001b[43morient\u001b[49m\u001b[43m,\u001b[49m\n\u001b[32m   2706\u001b[39m \u001b[43m    \u001b[49m\u001b[43mdate_format\u001b[49m\u001b[43m=\u001b[49m\u001b[43mdate_format\u001b[49m\u001b[43m,\u001b[49m\n\u001b[32m   2707\u001b[39m \u001b[43m    \u001b[49m\u001b[43mdouble_precision\u001b[49m\u001b[43m=\u001b[49m\u001b[43mdouble_precision\u001b[49m\u001b[43m,\u001b[49m\n\u001b[32m   2708\u001b[39m \u001b[43m    \u001b[49m\u001b[43mforce_ascii\u001b[49m\u001b[43m=\u001b[49m\u001b[43mforce_ascii\u001b[49m\u001b[43m,\u001b[49m\n\u001b[32m   2709\u001b[39m \u001b[43m    \u001b[49m\u001b[43mdate_unit\u001b[49m\u001b[43m=\u001b[49m\u001b[43mdate_unit\u001b[49m\u001b[43m,\u001b[49m\n\u001b[32m   2710\u001b[39m \u001b[43m    \u001b[49m\u001b[43mdefault_handler\u001b[49m\u001b[43m=\u001b[49m\u001b[43mdefault_handler\u001b[49m\u001b[43m,\u001b[49m\n\u001b[32m   2711\u001b[39m \u001b[43m    \u001b[49m\u001b[43mlines\u001b[49m\u001b[43m=\u001b[49m\u001b[43mlines\u001b[49m\u001b[43m,\u001b[49m\n\u001b[32m   2712\u001b[39m \u001b[43m    \u001b[49m\u001b[43mcompression\u001b[49m\u001b[43m=\u001b[49m\u001b[43mcompression\u001b[49m\u001b[43m,\u001b[49m\n\u001b[32m   2713\u001b[39m \u001b[43m    \u001b[49m\u001b[43mindex\u001b[49m\u001b[43m=\u001b[49m\u001b[43mindex\u001b[49m\u001b[43m,\u001b[49m\n\u001b[32m   2714\u001b[39m \u001b[43m    \u001b[49m\u001b[43mindent\u001b[49m\u001b[43m=\u001b[49m\u001b[43mindent\u001b[49m\u001b[43m,\u001b[49m\n\u001b[32m   2715\u001b[39m \u001b[43m    \u001b[49m\u001b[43mstorage_options\u001b[49m\u001b[43m=\u001b[49m\u001b[43mstorage_options\u001b[49m\u001b[43m,\u001b[49m\n\u001b[32m   2716\u001b[39m \u001b[43m    \u001b[49m\u001b[43mmode\u001b[49m\u001b[43m=\u001b[49m\u001b[43mmode\u001b[49m\u001b[43m,\u001b[49m\n\u001b[32m   2717\u001b[39m \u001b[43m\u001b[49m\u001b[43m)\u001b[49m\n",
      "\u001b[36mFile \u001b[39m\u001b[32m~/.conda/envs/compbio/lib/python3.13/site-packages/pandas/io/json/_json.py:210\u001b[39m, in \u001b[36mto_json\u001b[39m\u001b[34m(path_or_buf, obj, orient, date_format, double_precision, force_ascii, date_unit, default_handler, lines, compression, index, indent, storage_options, mode)\u001b[39m\n\u001b[32m    197\u001b[39m \u001b[38;5;28;01melse\u001b[39;00m:\n\u001b[32m    198\u001b[39m     \u001b[38;5;28;01mraise\u001b[39;00m \u001b[38;5;167;01mNotImplementedError\u001b[39;00m(\u001b[33m\"\u001b[39m\u001b[33m'\u001b[39m\u001b[33mobj\u001b[39m\u001b[33m'\u001b[39m\u001b[33m should be a Series or a DataFrame\u001b[39m\u001b[33m\"\u001b[39m)\n\u001b[32m    200\u001b[39m s = \u001b[43mwriter\u001b[49m\u001b[43m(\u001b[49m\n\u001b[32m    201\u001b[39m \u001b[43m    \u001b[49m\u001b[43mobj\u001b[49m\u001b[43m,\u001b[49m\n\u001b[32m    202\u001b[39m \u001b[43m    \u001b[49m\u001b[43morient\u001b[49m\u001b[43m=\u001b[49m\u001b[43morient\u001b[49m\u001b[43m,\u001b[49m\n\u001b[32m    203\u001b[39m \u001b[43m    \u001b[49m\u001b[43mdate_format\u001b[49m\u001b[43m=\u001b[49m\u001b[43mdate_format\u001b[49m\u001b[43m,\u001b[49m\n\u001b[32m    204\u001b[39m \u001b[43m    \u001b[49m\u001b[43mdouble_precision\u001b[49m\u001b[43m=\u001b[49m\u001b[43mdouble_precision\u001b[49m\u001b[43m,\u001b[49m\n\u001b[32m    205\u001b[39m \u001b[43m    \u001b[49m\u001b[43mensure_ascii\u001b[49m\u001b[43m=\u001b[49m\u001b[43mforce_ascii\u001b[49m\u001b[43m,\u001b[49m\n\u001b[32m    206\u001b[39m \u001b[43m    \u001b[49m\u001b[43mdate_unit\u001b[49m\u001b[43m=\u001b[49m\u001b[43mdate_unit\u001b[49m\u001b[43m,\u001b[49m\n\u001b[32m    207\u001b[39m \u001b[43m    \u001b[49m\u001b[43mdefault_handler\u001b[49m\u001b[43m=\u001b[49m\u001b[43mdefault_handler\u001b[49m\u001b[43m,\u001b[49m\n\u001b[32m    208\u001b[39m \u001b[43m    \u001b[49m\u001b[43mindex\u001b[49m\u001b[43m=\u001b[49m\u001b[43mindex\u001b[49m\u001b[43m,\u001b[49m\n\u001b[32m    209\u001b[39m \u001b[43m    \u001b[49m\u001b[43mindent\u001b[49m\u001b[43m=\u001b[49m\u001b[43mindent\u001b[49m\u001b[43m,\u001b[49m\n\u001b[32m--> \u001b[39m\u001b[32m210\u001b[39m \u001b[43m\u001b[49m\u001b[43m)\u001b[49m\u001b[43m.\u001b[49m\u001b[43mwrite\u001b[49m\u001b[43m(\u001b[49m\u001b[43m)\u001b[49m\n\u001b[32m    212\u001b[39m \u001b[38;5;28;01mif\u001b[39;00m lines:\n\u001b[32m    213\u001b[39m     s = convert_to_line_delimits(s)\n",
      "\u001b[36mFile \u001b[39m\u001b[32m~/.conda/envs/compbio/lib/python3.13/site-packages/pandas/io/json/_json.py:263\u001b[39m, in \u001b[36mWriter.write\u001b[39m\u001b[34m(self)\u001b[39m\n\u001b[32m    261\u001b[39m \u001b[38;5;28;01mdef\u001b[39;00m\u001b[38;5;250m \u001b[39m\u001b[34mwrite\u001b[39m(\u001b[38;5;28mself\u001b[39m) -> \u001b[38;5;28mstr\u001b[39m:\n\u001b[32m    262\u001b[39m     iso_dates = \u001b[38;5;28mself\u001b[39m.date_format == \u001b[33m\"\u001b[39m\u001b[33miso\u001b[39m\u001b[33m\"\u001b[39m\n\u001b[32m--> \u001b[39m\u001b[32m263\u001b[39m     \u001b[38;5;28;01mreturn\u001b[39;00m \u001b[43mujson_dumps\u001b[49m\u001b[43m(\u001b[49m\n\u001b[32m    264\u001b[39m \u001b[43m        \u001b[49m\u001b[38;5;28;43mself\u001b[39;49m\u001b[43m.\u001b[49m\u001b[43mobj_to_write\u001b[49m\u001b[43m,\u001b[49m\n\u001b[32m    265\u001b[39m \u001b[43m        \u001b[49m\u001b[43morient\u001b[49m\u001b[43m=\u001b[49m\u001b[38;5;28;43mself\u001b[39;49m\u001b[43m.\u001b[49m\u001b[43morient\u001b[49m\u001b[43m,\u001b[49m\n\u001b[32m    266\u001b[39m \u001b[43m        \u001b[49m\u001b[43mdouble_precision\u001b[49m\u001b[43m=\u001b[49m\u001b[38;5;28;43mself\u001b[39;49m\u001b[43m.\u001b[49m\u001b[43mdouble_precision\u001b[49m\u001b[43m,\u001b[49m\n\u001b[32m    267\u001b[39m \u001b[43m        \u001b[49m\u001b[43mensure_ascii\u001b[49m\u001b[43m=\u001b[49m\u001b[38;5;28;43mself\u001b[39;49m\u001b[43m.\u001b[49m\u001b[43mensure_ascii\u001b[49m\u001b[43m,\u001b[49m\n\u001b[32m    268\u001b[39m \u001b[43m        \u001b[49m\u001b[43mdate_unit\u001b[49m\u001b[43m=\u001b[49m\u001b[38;5;28;43mself\u001b[39;49m\u001b[43m.\u001b[49m\u001b[43mdate_unit\u001b[49m\u001b[43m,\u001b[49m\n\u001b[32m    269\u001b[39m \u001b[43m        \u001b[49m\u001b[43miso_dates\u001b[49m\u001b[43m=\u001b[49m\u001b[43miso_dates\u001b[49m\u001b[43m,\u001b[49m\n\u001b[32m    270\u001b[39m \u001b[43m        \u001b[49m\u001b[43mdefault_handler\u001b[49m\u001b[43m=\u001b[49m\u001b[38;5;28;43mself\u001b[39;49m\u001b[43m.\u001b[49m\u001b[43mdefault_handler\u001b[49m\u001b[43m,\u001b[49m\n\u001b[32m    271\u001b[39m \u001b[43m        \u001b[49m\u001b[43mindent\u001b[49m\u001b[43m=\u001b[49m\u001b[38;5;28;43mself\u001b[39;49m\u001b[43m.\u001b[49m\u001b[43mindent\u001b[49m\u001b[43m,\u001b[49m\n\u001b[32m    272\u001b[39m \u001b[43m    \u001b[49m\u001b[43m)\u001b[49m\n",
      "\u001b[31mTypeError\u001b[39m: array(0.94865006, dtype=float32) (numpy-scalar) is not JSON serializable at the moment"
     ]
    }
   ],
   "source": [
    "output_df.to_json(\"structural_test.json\")"
   ]
  },
  {
   "cell_type": "code",
   "execution_count": 3,
   "metadata": {},
   "outputs": [
    {
     "name": "stdout",
     "output_type": "stream",
     "text": [
      "EsmForProteinFolding(\n",
      "  (esm): EsmModel(\n",
      "    (embeddings): EsmEmbeddings(\n",
      "      (word_embeddings): Embedding(33, 2560, padding_idx=1)\n",
      "      (dropout): Dropout(p=0.0, inplace=False)\n",
      "      (position_embeddings): Embedding(1026, 2560, padding_idx=1)\n",
      "    )\n",
      "    (encoder): EsmEncoder(\n",
      "      (layer): ModuleList(\n",
      "        (0-35): 36 x EsmLayer(\n",
      "          (attention): EsmAttention(\n",
      "            (self): EsmSelfAttention(\n",
      "              (query): Linear(in_features=2560, out_features=2560, bias=True)\n",
      "              (key): Linear(in_features=2560, out_features=2560, bias=True)\n",
      "              (value): Linear(in_features=2560, out_features=2560, bias=True)\n",
      "              (dropout): Dropout(p=0.0, inplace=False)\n",
      "              (rotary_embeddings): RotaryEmbedding()\n",
      "            )\n",
      "            (output): EsmSelfOutput(\n",
      "              (dense): Linear(in_features=2560, out_features=2560, bias=True)\n",
      "              (dropout): Dropout(p=0.0, inplace=False)\n",
      "            )\n",
      "            (LayerNorm): LayerNorm((2560,), eps=1e-05, elementwise_affine=True)\n",
      "          )\n",
      "          (intermediate): EsmIntermediate(\n",
      "            (dense): Linear(in_features=2560, out_features=10240, bias=True)\n",
      "          )\n",
      "          (output): EsmOutput(\n",
      "            (dense): Linear(in_features=10240, out_features=2560, bias=True)\n",
      "            (dropout): Dropout(p=0.0, inplace=False)\n",
      "          )\n",
      "          (LayerNorm): LayerNorm((2560,), eps=1e-05, elementwise_affine=True)\n",
      "        )\n",
      "      )\n",
      "      (emb_layer_norm_after): LayerNorm((2560,), eps=1e-05, elementwise_affine=True)\n",
      "    )\n",
      "    (contact_head): EsmContactPredictionHead(\n",
      "      (regression): Linear(in_features=1440, out_features=1, bias=True)\n",
      "      (activation): Sigmoid()\n",
      "    )\n",
      "  )\n",
      "  (esm_s_mlp): Sequential(\n",
      "    (0): LayerNorm((2560,), eps=1e-05, elementwise_affine=True)\n",
      "    (1): Linear(in_features=2560, out_features=1024, bias=True)\n",
      "    (2): ReLU()\n",
      "    (3): Linear(in_features=1024, out_features=1024, bias=True)\n",
      "  )\n",
      "  (embedding): Embedding(23, 1024, padding_idx=0)\n",
      "  (trunk): EsmFoldingTrunk(\n",
      "    (pairwise_positional_embedding): EsmFoldRelativePosition(\n",
      "      (embedding): Embedding(66, 128)\n",
      "    )\n",
      "    (blocks): ModuleList(\n",
      "      (0-47): 48 x EsmFoldTriangularSelfAttentionBlock(\n",
      "        (layernorm_1): LayerNorm((1024,), eps=1e-05, elementwise_affine=True)\n",
      "        (sequence_to_pair): EsmFoldSequenceToPair(\n",
      "          (layernorm): LayerNorm((1024,), eps=1e-05, elementwise_affine=True)\n",
      "          (proj): Linear(in_features=1024, out_features=128, bias=True)\n",
      "          (o_proj): Linear(in_features=128, out_features=128, bias=True)\n",
      "        )\n",
      "        (pair_to_sequence): EsmFoldPairToSequence(\n",
      "          (layernorm): LayerNorm((128,), eps=1e-05, elementwise_affine=True)\n",
      "          (linear): Linear(in_features=128, out_features=32, bias=False)\n",
      "        )\n",
      "        (seq_attention): EsmFoldSelfAttention(\n",
      "          (proj): Linear(in_features=1024, out_features=3072, bias=False)\n",
      "          (o_proj): Linear(in_features=1024, out_features=1024, bias=True)\n",
      "          (g_proj): Linear(in_features=1024, out_features=1024, bias=True)\n",
      "        )\n",
      "        (tri_mul_out): EsmFoldTriangleMultiplicativeUpdate(\n",
      "          (linear_a_p): EsmFoldLinear(in_features=128, out_features=128, bias=True)\n",
      "          (linear_a_g): EsmFoldLinear(in_features=128, out_features=128, bias=True)\n",
      "          (linear_b_p): EsmFoldLinear(in_features=128, out_features=128, bias=True)\n",
      "          (linear_b_g): EsmFoldLinear(in_features=128, out_features=128, bias=True)\n",
      "          (linear_g): EsmFoldLinear(in_features=128, out_features=128, bias=True)\n",
      "          (linear_z): EsmFoldLinear(in_features=128, out_features=128, bias=True)\n",
      "          (layer_norm_in): LayerNorm((128,), eps=1e-05, elementwise_affine=True)\n",
      "          (layer_norm_out): LayerNorm((128,), eps=1e-05, elementwise_affine=True)\n",
      "          (sigmoid): Sigmoid()\n",
      "        )\n",
      "        (tri_mul_in): EsmFoldTriangleMultiplicativeUpdate(\n",
      "          (linear_a_p): EsmFoldLinear(in_features=128, out_features=128, bias=True)\n",
      "          (linear_a_g): EsmFoldLinear(in_features=128, out_features=128, bias=True)\n",
      "          (linear_b_p): EsmFoldLinear(in_features=128, out_features=128, bias=True)\n",
      "          (linear_b_g): EsmFoldLinear(in_features=128, out_features=128, bias=True)\n",
      "          (linear_g): EsmFoldLinear(in_features=128, out_features=128, bias=True)\n",
      "          (linear_z): EsmFoldLinear(in_features=128, out_features=128, bias=True)\n",
      "          (layer_norm_in): LayerNorm((128,), eps=1e-05, elementwise_affine=True)\n",
      "          (layer_norm_out): LayerNorm((128,), eps=1e-05, elementwise_affine=True)\n",
      "          (sigmoid): Sigmoid()\n",
      "        )\n",
      "        (tri_att_start): EsmFoldTriangleAttention(\n",
      "          (layer_norm): LayerNorm((128,), eps=1e-05, elementwise_affine=True)\n",
      "          (linear): EsmFoldLinear(in_features=128, out_features=4, bias=False)\n",
      "          (mha): EsmFoldAttention(\n",
      "            (linear_q): EsmFoldLinear(in_features=128, out_features=128, bias=False)\n",
      "            (linear_k): EsmFoldLinear(in_features=128, out_features=128, bias=False)\n",
      "            (linear_v): EsmFoldLinear(in_features=128, out_features=128, bias=False)\n",
      "            (linear_o): EsmFoldLinear(in_features=128, out_features=128, bias=True)\n",
      "            (linear_g): EsmFoldLinear(in_features=128, out_features=128, bias=True)\n",
      "            (sigmoid): Sigmoid()\n",
      "          )\n",
      "        )\n",
      "        (tri_att_end): EsmFoldTriangleAttention(\n",
      "          (layer_norm): LayerNorm((128,), eps=1e-05, elementwise_affine=True)\n",
      "          (linear): EsmFoldLinear(in_features=128, out_features=4, bias=False)\n",
      "          (mha): EsmFoldAttention(\n",
      "            (linear_q): EsmFoldLinear(in_features=128, out_features=128, bias=False)\n",
      "            (linear_k): EsmFoldLinear(in_features=128, out_features=128, bias=False)\n",
      "            (linear_v): EsmFoldLinear(in_features=128, out_features=128, bias=False)\n",
      "            (linear_o): EsmFoldLinear(in_features=128, out_features=128, bias=True)\n",
      "            (linear_g): EsmFoldLinear(in_features=128, out_features=128, bias=True)\n",
      "            (sigmoid): Sigmoid()\n",
      "          )\n",
      "        )\n",
      "        (mlp_seq): EsmFoldResidueMLP(\n",
      "          (mlp): Sequential(\n",
      "            (0): LayerNorm((1024,), eps=1e-05, elementwise_affine=True)\n",
      "            (1): Linear(in_features=1024, out_features=4096, bias=True)\n",
      "            (2): ReLU()\n",
      "            (3): Linear(in_features=4096, out_features=1024, bias=True)\n",
      "            (4): Dropout(p=0, inplace=False)\n",
      "          )\n",
      "        )\n",
      "        (mlp_pair): EsmFoldResidueMLP(\n",
      "          (mlp): Sequential(\n",
      "            (0): LayerNorm((128,), eps=1e-05, elementwise_affine=True)\n",
      "            (1): Linear(in_features=128, out_features=512, bias=True)\n",
      "            (2): ReLU()\n",
      "            (3): Linear(in_features=512, out_features=128, bias=True)\n",
      "            (4): Dropout(p=0, inplace=False)\n",
      "          )\n",
      "        )\n",
      "        (drop): Dropout(p=0, inplace=False)\n",
      "        (row_drop): EsmFoldDropout(\n",
      "          (dropout): Dropout(p=0, inplace=False)\n",
      "        )\n",
      "        (col_drop): EsmFoldDropout(\n",
      "          (dropout): Dropout(p=0, inplace=False)\n",
      "        )\n",
      "      )\n",
      "    )\n",
      "    (recycle_s_norm): LayerNorm((1024,), eps=1e-05, elementwise_affine=True)\n",
      "    (recycle_z_norm): LayerNorm((128,), eps=1e-05, elementwise_affine=True)\n",
      "    (recycle_disto): Embedding(15, 128)\n",
      "    (structure_module): EsmFoldStructureModule(\n",
      "      (layer_norm_s): LayerNorm((384,), eps=1e-05, elementwise_affine=True)\n",
      "      (layer_norm_z): LayerNorm((128,), eps=1e-05, elementwise_affine=True)\n",
      "      (linear_in): EsmFoldLinear(in_features=384, out_features=384, bias=True)\n",
      "      (ipa): EsmFoldInvariantPointAttention(\n",
      "        (linear_q): EsmFoldLinear(in_features=384, out_features=192, bias=True)\n",
      "        (linear_kv): EsmFoldLinear(in_features=384, out_features=384, bias=True)\n",
      "        (linear_q_points): EsmFoldLinear(in_features=384, out_features=144, bias=True)\n",
      "        (linear_kv_points): EsmFoldLinear(in_features=384, out_features=432, bias=True)\n",
      "        (linear_b): EsmFoldLinear(in_features=128, out_features=12, bias=True)\n",
      "        (linear_out): EsmFoldLinear(in_features=2112, out_features=384, bias=True)\n",
      "        (softmax): Softmax(dim=-1)\n",
      "        (softplus): Softplus(beta=1.0, threshold=20.0)\n",
      "      )\n",
      "      (ipa_dropout): Dropout(p=0.1, inplace=False)\n",
      "      (layer_norm_ipa): LayerNorm((384,), eps=1e-05, elementwise_affine=True)\n",
      "      (transition): EsmFoldStructureModuleTransition(\n",
      "        (layers): ModuleList(\n",
      "          (0): EsmFoldStructureModuleTransitionLayer(\n",
      "            (linear_1): EsmFoldLinear(in_features=384, out_features=384, bias=True)\n",
      "            (linear_2): EsmFoldLinear(in_features=384, out_features=384, bias=True)\n",
      "            (linear_3): EsmFoldLinear(in_features=384, out_features=384, bias=True)\n",
      "            (relu): ReLU()\n",
      "          )\n",
      "        )\n",
      "        (dropout): Dropout(p=0.1, inplace=False)\n",
      "        (layer_norm): LayerNorm((384,), eps=1e-05, elementwise_affine=True)\n",
      "      )\n",
      "      (bb_update): EsmFoldBackboneUpdate(\n",
      "        (linear): EsmFoldLinear(in_features=384, out_features=6, bias=True)\n",
      "      )\n",
      "      (angle_resnet): EsmFoldAngleResnet(\n",
      "        (linear_in): EsmFoldLinear(in_features=384, out_features=128, bias=True)\n",
      "        (linear_initial): EsmFoldLinear(in_features=384, out_features=128, bias=True)\n",
      "        (layers): ModuleList(\n",
      "          (0-1): 2 x EsmFoldAngleResnetBlock(\n",
      "            (linear_1): EsmFoldLinear(in_features=128, out_features=128, bias=True)\n",
      "            (linear_2): EsmFoldLinear(in_features=128, out_features=128, bias=True)\n",
      "            (relu): ReLU()\n",
      "          )\n",
      "        )\n",
      "        (linear_out): EsmFoldLinear(in_features=128, out_features=14, bias=True)\n",
      "        (relu): ReLU()\n",
      "      )\n",
      "    )\n",
      "    (trunk2sm_s): Linear(in_features=1024, out_features=384, bias=True)\n",
      "    (trunk2sm_z): Linear(in_features=128, out_features=128, bias=True)\n",
      "  )\n",
      "  (distogram_head): Linear(in_features=128, out_features=64, bias=True)\n",
      "  (ptm_head): Linear(in_features=128, out_features=64, bias=True)\n",
      "  (lm_head): Linear(in_features=1024, out_features=23, bias=True)\n",
      "  (lddt_head): Sequential(\n",
      "    (0): LayerNorm((384,), eps=1e-05, elementwise_affine=True)\n",
      "    (1): Linear(in_features=384, out_features=128, bias=True)\n",
      "    (2): Linear(in_features=128, out_features=128, bias=True)\n",
      "    (3): Linear(in_features=128, out_features=1850, bias=True)\n",
      "  )\n",
      ")\n"
     ]
    }
   ],
   "source": [
    "print(model)"
   ]
  },
  {
   "cell_type": "code",
   "execution_count": null,
   "metadata": {},
   "outputs": [],
   "source": []
  }
 ],
 "metadata": {
  "kernelspec": {
   "display_name": "compbio",
   "language": "python",
   "name": "python3"
  },
  "language_info": {
   "codemirror_mode": {
    "name": "ipython",
    "version": 3
   },
   "file_extension": ".py",
   "mimetype": "text/x-python",
   "name": "python",
   "nbconvert_exporter": "python",
   "pygments_lexer": "ipython3",
   "version": "3.13.2"
  },
  "orig_nbformat": 4
 },
 "nbformat": 4,
 "nbformat_minor": 2
}
