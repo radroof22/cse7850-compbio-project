{
 "cells": [
  {
   "cell_type": "code",
   "execution_count": 50,
   "metadata": {},
   "outputs": [],
   "source": [
    "import os\n",
    "os.chdir('../')\n",
    "import argparse\n",
    "import json\n",
    "from glob import glob\n",
    "import logging\n",
    "from pathlib import Path\n",
    "from typing import Any, Dict, Literal, List, Tuple\n",
    "\n",
    "import torch\n",
    "import numpy as np\n",
    "import pandas as pd\n",
    "from torch.utils.data import DataLoader\n",
    "import lightning.pytorch as pl\n",
    "from lightning.pytorch.loggers.csv_logs import CSVLogger\n",
    "from lightning.pytorch.callbacks import ModelCheckpoint, EarlyStopping\n",
    "\n",
    "from tqdm.auto import tqdm\n",
    "\n",
    "import sys\n",
    "import os\n",
    "\n",
    "from proteinclip import contrastive\n",
    "from proteinclip import data_utils\n",
    "from proteinclip import hparams\n",
    "\n",
    "from proteinclip.ppi_data import load_ppi_data\n",
    "from proteinclip.model_utils import ONNXModel\n",
    "\n",
    "PPI_DATA_DIR = data_utils.DATA_DIR / \"ppi\"\n"
   ]
  },
  {
   "cell_type": "code",
   "execution_count": 49,
   "metadata": {},
   "outputs": [
    {
     "data": {
      "text/plain": [
       "'/storage/ice1/6/2/savunuri3/cse7850-compbio-project/proteinclip/proteinclip'"
      ]
     },
     "execution_count": 49,
     "metadata": {},
     "output_type": "execute_result"
    }
   ],
   "source": []
  },
  {
   "cell_type": "code",
   "execution_count": 2,
   "metadata": {},
   "outputs": [],
   "source": [
    "def infer_esm_size_from_path(path: str) -> int:\n",
    "    bname = os.path.basename(path)\n",
    "    if \"33layer\" in bname and \"30layer\" not in bname:\n",
    "        return 33\n",
    "    elif \"30layer\" in bname and \"33layer\" not in bname:\n",
    "        return 30\n",
    "    raise ValueError(f\"Could not infer ESM size from path {path}\")\n"
   ]
  },
  {
   "cell_type": "code",
   "execution_count": 3,
   "metadata": {},
   "outputs": [],
   "source": [
    "def load_model_config(model_dir: Path | str) -> Dict[str, Any]:\n",
    "    \"\"\"Load model and training configuration.\"\"\"\n",
    "    model_config_path = Path(model_dir) / \"model_config.json\"\n",
    "    if model_config_path.exists():\n",
    "        with open(model_config_path) as source:\n",
    "            model_config = json.load(source)\n",
    "\n",
    "    training_config_path = Path(model_dir) / \"training_config.json\"\n",
    "    with open(training_config_path) as source:\n",
    "        training_config = json.load(source)\n",
    "    return model_config, training_config\n"
   ]
  },
  {
   "cell_type": "code",
   "execution_count": 4,
   "metadata": {},
   "outputs": [],
   "source": [
    "train_pairs, valid_pairs, test_pairs = (\n",
    "    load_ppi_data(split) for split in (\"train\", \"valid\", \"test\")\n",
    ")"
   ]
  },
  {
   "cell_type": "code",
   "execution_count": 6,
   "metadata": {},
   "outputs": [],
   "source": [
    "all_keys = set()\n",
    "for p in train_pairs + valid_pairs + test_pairs:\n",
    "    all_keys.add(p[0])\n",
    "    all_keys.add(p[1])\n"
   ]
  },
  {
   "cell_type": "code",
   "execution_count": 54,
   "metadata": {},
   "outputs": [],
   "source": [
    "full_embed_map = pd.read_parquet('text+ESM+protclip.parquet')"
   ]
  },
  {
   "cell_type": "code",
   "execution_count": 59,
   "metadata": {},
   "outputs": [
    {
     "data": {
      "text/plain": [
       "Index(['organism', 'organism_id', 'name', 'evidence', 'function', 'id',\n",
       "       'textual_embedding', 'sequence', 'proteinclip_embed', 'ESM_embed'],\n",
       "      dtype='object')"
      ]
     },
     "execution_count": 59,
     "metadata": {},
     "output_type": "execute_result"
    }
   ],
   "source": [
    "full_embed_map.columns"
   ]
  },
  {
   "cell_type": "code",
   "execution_count": 60,
   "metadata": {},
   "outputs": [
    {
     "name": "stderr",
     "output_type": "stream",
     "text": [
      "Loading relevant embeddings: 10000it [00:00, 36050.70it/s]\n"
     ]
    }
   ],
   "source": [
    "embed_map = {\n",
    "    row['id']: torch.from_numpy(row['ESM_embed']).float().numpy()  # Cast to Float32\n",
    "    for _, row in tqdm(full_embed_map.iterrows(), desc=\"Loading relevant embeddings\")\n",
    "    if row['id'] in all_keys\n",
    "}\n"
   ]
  },
  {
   "cell_type": "code",
   "execution_count": 61,
   "metadata": {},
   "outputs": [],
   "source": [
    "embed_map = {k: v / np.linalg.norm(v) for k, v in embed_map.items()}\n"
   ]
  },
  {
   "cell_type": "code",
   "execution_count": 62,
   "metadata": {},
   "outputs": [
    {
     "name": "stderr",
     "output_type": "stream",
     "text": [
      "\u001b[1;31m2025-04-25 23:08:49.341692656 [E:onnxruntime:Default, env.cc:234 ThreadMain] pthread_setaffinity_np failed for thread: 3842959, index: 0, mask: {24, }, error code: 22 error msg: Invalid argument. Specify the number of threads explicitly so the affinity is not set.\u001b[m\n",
      "\u001b[1;31m2025-04-25 23:08:49.341754252 [E:onnxruntime:Default, env.cc:234 ThreadMain] pthread_setaffinity_np failed for thread: 3842966, index: 7, mask: {4, }, error code: 22 error msg: Invalid argument. Specify the number of threads explicitly so the affinity is not set.\u001b[m\n",
      "\u001b[1;31m2025-04-25 23:08:49.341763165 [E:onnxruntime:Default, env.cc:234 ThreadMain] pthread_setaffinity_np failed for thread: 3842962, index: 3, mask: {32, }, error code: 22 error msg: Invalid argument. Specify the number of threads explicitly so the affinity is not set.\u001b[m\n",
      "\u001b[1;31m2025-04-25 23:08:49.341692875 [E:onnxruntime:Default, env.cc:234 ThreadMain] pthread_setaffinity_np failed for thread: 3842960, index: 1, mask: {48, }, error code: 22 error msg: Invalid argument. Specify the number of threads explicitly so the affinity is not set.\u001b[m\n",
      "\u001b[1;31m2025-04-25 23:08:49.341918618 [E:onnxruntime:Default, env.cc:234 ThreadMain] pthread_setaffinity_np failed for thread: 3842977, index: 18, mask: {2, }, error code: 22 error msg: Invalid argument. Specify the number of threads explicitly so the affinity is not set.\u001b[m\n",
      "\u001b[1;31m2025-04-25 23:08:49.341933537 [E:onnxruntime:Default, env.cc:234 ThreadMain] pthread_setaffinity_np failed for thread: 3842969, index: 10, mask: {52, }, error code: 22 error msg: Invalid argument. Specify the number of threads explicitly so the affinity is not set.\u001b[m\n",
      "\u001b[1;31m2025-04-25 23:08:49.341698151 [E:onnxruntime:Default, env.cc:234 ThreadMain] pthread_setaffinity_np failed for thread: 3842961, index: 2, mask: {8, }, error code: 22 error msg: Invalid argument. Specify the number of threads explicitly so the affinity is not set.\u001b[m\n",
      "\u001b[1;31m2025-04-25 23:08:49.349119715 [E:onnxruntime:Default, env.cc:234 ThreadMain] pthread_setaffinity_np failed for thread: 3842968, index: 9, mask: {36, }, error code: 22 error msg: Invalid argument. Specify the number of threads explicitly so the affinity is not set.\u001b[m\n",
      "\u001b[1;31m2025-04-25 23:08:49.350122268 [E:onnxruntime:Default, env.cc:234 ThreadMain] pthread_setaffinity_np failed for thread: 3842970, index: 11, mask: {12, }, error code: 22 error msg: Invalid argument. Specify the number of threads explicitly so the affinity is not set.\u001b[m\n",
      "\u001b[1;31m2025-04-25 23:08:49.353119763 [E:onnxruntime:Default, env.cc:234 ThreadMain] pthread_setaffinity_np failed for thread: 3842964, index: 5, mask: {40, }, error code: 22 error msg: Invalid argument. Specify the number of threads explicitly so the affinity is not set.\u001b[m\n",
      "\u001b[1;31m2025-04-25 23:08:49.355123017 [E:onnxruntime:Default, env.cc:234 ThreadMain] pthread_setaffinity_np failed for thread: 3842973, index: 14, mask: {60, }, error code: 22 error msg: Invalid argument. Specify the number of threads explicitly so the affinity is not set.\u001b[m\n",
      "\u001b[1;31m2025-04-25 23:08:49.357119533 [E:onnxruntime:Default, env.cc:234 ThreadMain] pthread_setaffinity_np failed for thread: 3842967, index: 8, mask: {20, }, error code: 22 error msg: Invalid argument. Specify the number of threads explicitly so the affinity is not set.\u001b[m\n",
      "\u001b[1;31m2025-04-25 23:08:49.360123269 [E:onnxruntime:Default, env.cc:234 ThreadMain] pthread_setaffinity_np failed for thread: 3842974, index: 15, mask: {62, }, error code: 22 error msg: Invalid argument. Specify the number of threads explicitly so the affinity is not set.\u001b[m\n",
      "\u001b[1;31m2025-04-25 23:08:49.360134151 [E:onnxruntime:Default, env.cc:234 ThreadMain] pthread_setaffinity_np failed for thread: 3843012, index: 47, mask: {59, }, error code: 22 error msg: Invalid argument. Specify the number of threads explicitly so the affinity is not set.\u001b[m\n",
      "\u001b[1;31m2025-04-25 23:08:49.364125345 [E:onnxruntime:Default, env.cc:234 ThreadMain] pthread_setaffinity_np failed for thread: 3843013, index: 48, mask: {43, }, error code: 22 error msg: Invalid argument. Specify the number of threads explicitly so the affinity is not set.\u001b[m\n",
      "\u001b[1;31m2025-04-25 23:08:49.365121359 [E:onnxruntime:Default, env.cc:234 ThreadMain] pthread_setaffinity_np failed for thread: 3842975, index: 16, mask: {50, }, error code: 22 error msg: Invalid argument. Specify the number of threads explicitly so the affinity is not set.\u001b[m\n",
      "\u001b[1;31m2025-04-25 23:08:49.365130903 [E:onnxruntime:Default, env.cc:234 ThreadMain] pthread_setaffinity_np failed for thread: 3843001, index: 36, mask: {33, }, error code: 22 error msg: Invalid argument. Specify the number of threads explicitly so the affinity is not set.\u001b[m\n",
      "\u001b[1;31m2025-04-25 23:08:49.368209281 [E:onnxruntime:Default, env.cc:234 ThreadMain] pthread_setaffinity_np failed for thread: 3842963, index: 4, mask: {16, }, error code: 22 error msg: Invalid argument. Specify the number of threads explicitly so the affinity is not set.\u001b[m\n",
      "\u001b[1;31m2025-04-25 23:08:49.368212632 [E:onnxruntime:Default, env.cc:234 ThreadMain] pthread_setaffinity_np failed for thread: 3843002, index: 37, mask: {49, }, error code: 22 error msg: Invalid argument. Specify the number of threads explicitly so the affinity is not set.\u001b[m\n",
      "\u001b[1;31m2025-04-25 23:08:49.368241690 [E:onnxruntime:Default, env.cc:234 ThreadMain] pthread_setaffinity_np failed for thread: 3842976, index: 17, mask: {26, }, error code: 22 error msg: Invalid argument. Specify the number of threads explicitly so the affinity is not set.\u001b[m\n",
      "\u001b[1;31m2025-04-25 23:08:49.368329942 [E:onnxruntime:Default, env.cc:234 ThreadMain] pthread_setaffinity_np failed for thread: 3843015, index: 50, mask: {3, }, error code: 22 error msg: Invalid argument. Specify the number of threads explicitly so the affinity is not set.\u001b[m\n",
      "\u001b[1;31m2025-04-25 23:08:49.374132037 [E:onnxruntime:Default, env.cc:234 ThreadMain] pthread_setaffinity_np failed for thread: 3843016, index: 51, mask: {51, }, error code: 22 error msg: Invalid argument. Specify the number of threads explicitly so the affinity is not set.\u001b[m\n",
      "\u001b[1;31m2025-04-25 23:08:49.376028161 [E:onnxruntime:Default, env.cc:234 ThreadMain] pthread_setaffinity_np failed for thread: 3842972, index: 13, mask: {44, }, error code: 22 error msg: Invalid argument. Specify the number of threads explicitly so the affinity is not set.\u001b[m\n",
      "\u001b[1;31m2025-04-25 23:08:49.376125894 [E:onnxruntime:Default, env.cc:234 ThreadMain] pthread_setaffinity_np failed for thread: 3842998, index: 33, mask: {41, }, error code: 22 error msg: Invalid argument. Specify the number of threads explicitly so the affinity is not set.\u001b[m\n",
      "\u001b[1;31m2025-04-25 23:08:49.379126749 [E:onnxruntime:Default, env.cc:234 ThreadMain] pthread_setaffinity_np failed for thread: 3843017, index: 52, mask: {27, }, error code: 22 error msg: Invalid argument. Specify the number of threads explicitly so the affinity is not set.\u001b[m\n",
      "\u001b[1;31m2025-04-25 23:08:49.380142113 [E:onnxruntime:Default, env.cc:234 ThreadMain] pthread_setaffinity_np failed for thread: 3842997, index: 32, mask: {25, }, error code: 22 error msg: Invalid argument. Specify the number of threads explicitly so the affinity is not set.\u001b[m\n",
      "\u001b[1;31m2025-04-25 23:08:49.380768917 [E:onnxruntime:Default, env.cc:234 ThreadMain] pthread_setaffinity_np failed for thread: 3842965, index: 6, mask: {56, }, error code: 22 error msg: Invalid argument. Specify the number of threads explicitly so the affinity is not set.\u001b[m\n",
      "\u001b[1;31m2025-04-25 23:08:49.381381721 [E:onnxruntime:Default, env.cc:234 ThreadMain] pthread_setaffinity_np failed for thread: 3842993, index: 28, mask: {14, }, error code: 22 error msg: Invalid argument. Specify the number of threads explicitly so the affinity is not set.\u001b[m\n",
      "\u001b[1;31m2025-04-25 23:08:49.384123436 [E:onnxruntime:Default, env.cc:234 ThreadMain] pthread_setaffinity_np failed for thread: 3842994, index: 29, mask: {46, }, error code: 22 error msg: Invalid argument. Specify the number of threads explicitly so the affinity is not set.\u001b[m\n",
      "\u001b[1;31m2025-04-25 23:08:49.384123817 [E:onnxruntime:Default, env.cc:234 ThreadMain] pthread_setaffinity_np failed for thread: 3843018, index: 53, mask: {11, }, error code: 22 error msg: Invalid argument. Specify the number of threads explicitly so the affinity is not set.\u001b[m\n",
      "\u001b[1;31m2025-04-25 23:08:49.387180676 [E:onnxruntime:Default, env.cc:234 ThreadMain] pthread_setaffinity_np failed for thread: 3843003, index: 38, mask: {57, }, error code: 22 error msg: Invalid argument. Specify the number of threads explicitly so the affinity is not set.\u001b[m\n",
      "\u001b[1;31m2025-04-25 23:08:49.389122538 [E:onnxruntime:Default, env.cc:234 ThreadMain] pthread_setaffinity_np failed for thread: 3843019, index: 54, mask: {63, }, error code: 22 error msg: Invalid argument. Specify the number of threads explicitly so the affinity is not set.\u001b[m\n",
      "\u001b[1;31m2025-04-25 23:08:49.392122522 [E:onnxruntime:Default, env.cc:234 ThreadMain] pthread_setaffinity_np failed for thread: 3842991, index: 26, mask: {6, }, error code: 22 error msg: Invalid argument. Specify the number of threads explicitly so the affinity is not set.\u001b[m\n",
      "\u001b[1;31m2025-04-25 23:08:49.392232262 [E:onnxruntime:Default, env.cc:234 ThreadMain] pthread_setaffinity_np failed for thread: 3843004, index: 39, mask: {5, }, error code: 22 error msg: Invalid argument. Specify the number of threads explicitly so the affinity is not set.\u001b[m\n",
      "\u001b[1;31m2025-04-25 23:08:49.394121459 [E:onnxruntime:Default, env.cc:234 ThreadMain] pthread_setaffinity_np failed for thread: 3842971, index: 12, mask: {28, }, error code: 22 error msg: Invalid argument. Specify the number of threads explicitly so the affinity is not set.\u001b[m\n",
      "\u001b[1;31m2025-04-25 23:08:49.396123450 [E:onnxruntime:Default, env.cc:234 ThreadMain] pthread_setaffinity_np failed for thread: 3842992, index: 27, mask: {38, }, error code: 22 error msg: Invalid argument. Specify the number of threads explicitly so the affinity is not set.\u001b[m\n",
      "\u001b[1;31m2025-04-25 23:08:49.397313969 [E:onnxruntime:Default, env.cc:234 ThreadMain] pthread_setaffinity_np failed for thread: 3843006, index: 41, mask: {37, }, error code: 22 error msg: Invalid argument. Specify the number of threads explicitly so the affinity is not set.\u001b[m\n",
      "\u001b[1;31m2025-04-25 23:08:49.399123895 [E:onnxruntime:Default, env.cc:234 ThreadMain] pthread_setaffinity_np failed for thread: 3842999, index: 34, mask: {9, }, error code: 22 error msg: Invalid argument. Specify the number of threads explicitly so the affinity is not set.\u001b[m\n",
      "\u001b[1;31m2025-04-25 23:08:49.402341615 [E:onnxruntime:Default, env.cc:234 ThreadMain] pthread_setaffinity_np failed for thread: 3843007, index: 42, mask: {53, }, error code: 22 error msg: Invalid argument. Specify the number of threads explicitly so the affinity is not set.\u001b[m\n",
      "\u001b[1;31m2025-04-25 23:08:49.407391838 [E:onnxruntime:Default, env.cc:234 ThreadMain] pthread_setaffinity_np failed for thread: 3843008, index: 43, mask: {13, }, error code: 22 error msg: Invalid argument. Specify the number of threads explicitly so the affinity is not set.\u001b[m\n",
      "\u001b[1;31m2025-04-25 23:08:49.410123879 [E:onnxruntime:Default, env.cc:234 ThreadMain] pthread_setaffinity_np failed for thread: 3842995, index: 30, mask: {22, }, error code: 22 error msg: Invalid argument. Specify the number of threads explicitly so the affinity is not set.\u001b[m\n",
      "\u001b[1;31m2025-04-25 23:08:49.412446994 [E:onnxruntime:Default, env.cc:234 ThreadMain] pthread_setaffinity_np failed for thread: 3843009, index: 44, mask: {29, }, error code: 22 error msg: Invalid argument. Specify the number of threads explicitly so the affinity is not set.\u001b[m\n",
      "\u001b[1;31m2025-04-25 23:08:49.415123832 [E:onnxruntime:Default, env.cc:234 ThreadMain] pthread_setaffinity_np failed for thread: 3842984, index: 19, mask: {58, }, error code: 22 error msg: Invalid argument. Specify the number of threads explicitly so the affinity is not set.\u001b[m\n",
      "\u001b[1;31m2025-04-25 23:08:49.416128662 [E:onnxruntime:Default, env.cc:234 ThreadMain] pthread_setaffinity_np failed for thread: 3843010, index: 45, mask: {45, }, error code: 22 error msg: Invalid argument. Specify the number of threads explicitly so the affinity is not set.\u001b[m\n",
      "\u001b[1;31m2025-04-25 23:08:49.419346975 [E:onnxruntime:Default, env.cc:234 ThreadMain] pthread_setaffinity_np failed for thread: 3842985, index: 20, mask: {34, }, error code: 22 error msg: Invalid argument. Specify the number of threads explicitly so the affinity is not set.\u001b[m\n",
      "\u001b[1;31m2025-04-25 23:08:49.421134990 [E:onnxruntime:Default, env.cc:234 ThreadMain] pthread_setaffinity_np failed for thread: 3843011, index: 46, mask: {61, }, error code: 22 error msg: Invalid argument. Specify the number of threads explicitly so the affinity is not set.\u001b[m\n",
      "\u001b[1;31m2025-04-25 23:08:49.425140061 [E:onnxruntime:Default, env.cc:234 ThreadMain] pthread_setaffinity_np failed for thread: 3842986, index: 21, mask: {10, }, error code: 22 error msg: Invalid argument. Specify the number of threads explicitly so the affinity is not set.\u001b[m\n",
      "\u001b[1;31m2025-04-25 23:08:49.426127439 [E:onnxruntime:Default, env.cc:234 ThreadMain] pthread_setaffinity_np failed for thread: 3843020, index: 55, mask: {35, }, error code: 22 error msg: Invalid argument. Specify the number of threads explicitly so the affinity is not set.\u001b[m\n",
      "\u001b[1;31m2025-04-25 23:08:49.430129092 [E:onnxruntime:Default, env.cc:234 ThreadMain] pthread_setaffinity_np failed for thread: 3842987, index: 22, mask: {54, }, error code: 22 error msg: Invalid argument. Specify the number of threads explicitly so the affinity is not set.\u001b[m\n",
      "\u001b[1;31m2025-04-25 23:08:49.431147814 [E:onnxruntime:Default, env.cc:234 ThreadMain] pthread_setaffinity_np failed for thread: 3843021, index: 56, mask: {55, }, error code: 22 error msg: Invalid argument. Specify the number of threads explicitly so the affinity is not set.\u001b[m\n",
      "\u001b[1;31m2025-04-25 23:08:49.434127580 [E:onnxruntime:Default, env.cc:234 ThreadMain] pthread_setaffinity_np failed for thread: 3842988, index: 23, mask: {42, }, error code: 22 error msg: Invalid argument. Specify the number of threads explicitly so the affinity is not set.\u001b[m\n",
      "\u001b[1;31m2025-04-25 23:08:49.438130580 [E:onnxruntime:Default, env.cc:234 ThreadMain] pthread_setaffinity_np failed for thread: 3842989, index: 24, mask: {18, }, error code: 22 error msg: Invalid argument. Specify the number of threads explicitly so the affinity is not set.\u001b[m\n",
      "\u001b[1;31m2025-04-25 23:08:49.439131159 [E:onnxruntime:Default, env.cc:234 ThreadMain] pthread_setaffinity_np failed for thread: 3842996, index: 31, mask: {1, }, error code: 22 error msg: Invalid argument. Specify the number of threads explicitly so the affinity is not set.\u001b[m\n",
      "\u001b[1;31m2025-04-25 23:08:49.449589962 [E:onnxruntime:Default, env.cc:234 ThreadMain] pthread_setaffinity_np failed for thread: 3843022, index: 57, mask: {31, }, error code: 22 error msg: Invalid argument. Specify the number of threads explicitly so the affinity is not set.\u001b[m\n",
      "\u001b[1;31m2025-04-25 23:08:49.451933154 [E:onnxruntime:Default, env.cc:234 ThreadMain] pthread_setaffinity_np failed for thread: 3843026, index: 61, mask: {47, }, error code: 22 error msg: Invalid argument. Specify the number of threads explicitly so the affinity is not set.\u001b[m\n",
      "\u001b[1;31m2025-04-25 23:08:49.456987586 [E:onnxruntime:Default, env.cc:234 ThreadMain] pthread_setaffinity_np failed for thread: 3843025, index: 60, mask: {15, }, error code: 22 error msg: Invalid argument. Specify the number of threads explicitly so the affinity is not set.\u001b[m\n",
      "\u001b[1;31m2025-04-25 23:08:49.460129165 [E:onnxruntime:Default, env.cc:234 ThreadMain] pthread_setaffinity_np failed for thread: 3843023, index: 58, mask: {7, }, error code: 22 error msg: Invalid argument. Specify the number of threads explicitly so the affinity is not set.\u001b[m\n",
      "\u001b[1;31m2025-04-25 23:08:49.465670288 [E:onnxruntime:Default, env.cc:234 ThreadMain] pthread_setaffinity_np failed for thread: 3843024, index: 59, mask: {39, }, error code: 22 error msg: Invalid argument. Specify the number of threads explicitly so the affinity is not set.\u001b[m\n",
      "\u001b[1;31m2025-04-25 23:08:49.470123308 [E:onnxruntime:Default, env.cc:234 ThreadMain] pthread_setaffinity_np failed for thread: 3842990, index: 25, mask: {30, }, error code: 22 error msg: Invalid argument. Specify the number of threads explicitly so the affinity is not set.\u001b[m\n"
     ]
    }
   ],
   "source": [
    "import onnxruntime as ort\n",
    "\n",
    "session = ort.InferenceSession(\"pc_project_1_10000.onnx\", providers=[\"CUDAExecutionProvider\"])  # or \"CPUExecutionProvider\"\n"
   ]
  },
  {
   "cell_type": "code",
   "execution_count": 63,
   "metadata": {},
   "outputs": [
    {
     "name": "stdout",
     "output_type": "stream",
     "text": [
      "Input name: input, shape: ['batch_size', 1280], type: tensor(float)\n"
     ]
    }
   ],
   "source": [
    "input_name = session.get_inputs()[0].name\n",
    "input_shape = session.get_inputs()[0].shape\n",
    "input_type = session.get_inputs()[0].type\n",
    "print(f\"Input name: {input_name}, shape: {input_shape}, type: {input_type}\")\n"
   ]
  },
  {
   "cell_type": "code",
   "execution_count": 64,
   "metadata": {},
   "outputs": [],
   "source": [
    "def generate_embeds(mp,batch_size=32):\n",
    "    clip_embeds = []\n",
    "    ls = []\n",
    "    keys = []\n",
    "    for i in mp:\n",
    "        keys.append(i)\n",
    "        ls.append(mp[i])\n",
    "\n",
    "    for i in tqdm(range(0, len(ls), batch_size)):\n",
    "        batch_seqs = ls[i:i+batch_size]\n",
    "\n",
    "\n",
    "        batch_clip_plus_plus_embs = session.run(None, {input_name: batch_seqs})[0]  \n",
    "\n",
    "\n",
    "        clip_embeds.extend(batch_clip_plus_plus_embs)\n",
    "    \n",
    "    ans = {}\n",
    "    for ind,i in enumerate(keys):\n",
    "        ans[i] = clip_embeds[ind]\n",
    "\n",
    "    return ans\n"
   ]
  },
  {
   "cell_type": "code",
   "execution_count": 65,
   "metadata": {},
   "outputs": [
    {
     "name": "stderr",
     "output_type": "stream",
     "text": [
      "100%|██████████| 171/171 [00:00<00:00, 4947.55it/s]"
     ]
    },
    {
     "name": "stdout",
     "output_type": "stream",
     "text": [
      "(32, 128)\n",
      "(32, 128)\n",
      "(32, 128)\n",
      "(32, 128)\n",
      "(32, 128)\n",
      "(32, 128)\n",
      "(32, 128)\n",
      "(32, 128)\n",
      "(32, 128)\n",
      "(32, 128)\n",
      "(32, 128)\n",
      "(32, 128)\n",
      "(32, 128)\n",
      "(32, 128)\n",
      "(32, 128)\n",
      "(32, 128)\n",
      "(32, 128)\n",
      "(32, 128)\n",
      "(32, 128)\n",
      "(32, 128)\n",
      "(32, 128)\n",
      "(32, 128)\n",
      "(32, 128)\n",
      "(32, 128)\n",
      "(32, 128)\n",
      "(32, 128)\n",
      "(32, 128)\n",
      "(32, 128)\n",
      "(32, 128)\n",
      "(32, 128)\n",
      "(32, 128)\n",
      "(32, 128)\n",
      "(32, 128)\n",
      "(32, 128)\n",
      "(32, 128)\n",
      "(32, 128)\n",
      "(32, 128)\n",
      "(32, 128)\n",
      "(32, 128)\n",
      "(32, 128)\n",
      "(32, 128)\n",
      "(32, 128)\n",
      "(32, 128)\n",
      "(32, 128)\n",
      "(32, 128)\n",
      "(32, 128)\n",
      "(32, 128)\n",
      "(32, 128)\n",
      "(32, 128)\n",
      "(32, 128)\n",
      "(32, 128)\n",
      "(32, 128)\n",
      "(32, 128)\n",
      "(32, 128)\n",
      "(32, 128)\n",
      "(32, 128)\n",
      "(32, 128)\n",
      "(32, 128)\n",
      "(32, 128)\n",
      "(32, 128)\n",
      "(32, 128)\n",
      "(32, 128)\n",
      "(32, 128)\n",
      "(32, 128)\n",
      "(32, 128)\n",
      "(32, 128)\n",
      "(32, 128)\n",
      "(32, 128)\n",
      "(32, 128)\n",
      "(32, 128)\n",
      "(32, 128)\n",
      "(32, 128)\n",
      "(32, 128)\n",
      "(32, 128)\n",
      "(32, 128)\n",
      "(32, 128)\n",
      "(32, 128)\n",
      "(32, 128)\n",
      "(32, 128)\n",
      "(32, 128)\n",
      "(32, 128)\n",
      "(32, 128)\n",
      "(32, 128)\n",
      "(32, 128)\n",
      "(32, 128)\n",
      "(32, 128)\n",
      "(32, 128)\n",
      "(32, 128)\n",
      "(32, 128)\n",
      "(32, 128)\n",
      "(32, 128)\n",
      "(32, 128)\n",
      "(32, 128)\n",
      "(32, 128)\n",
      "(32, 128)\n",
      "(32, 128)\n",
      "(32, 128)\n",
      "(32, 128)\n",
      "(32, 128)\n",
      "(32, 128)\n",
      "(32, 128)\n",
      "(32, 128)\n",
      "(32, 128)\n",
      "(32, 128)\n",
      "(32, 128)\n",
      "(32, 128)\n",
      "(32, 128)\n",
      "(32, 128)\n",
      "(32, 128)\n",
      "(32, 128)\n",
      "(32, 128)\n",
      "(32, 128)\n",
      "(32, 128)\n",
      "(32, 128)\n",
      "(32, 128)\n",
      "(32, 128)\n",
      "(32, 128)\n",
      "(32, 128)\n",
      "(32, 128)\n",
      "(32, 128)\n",
      "(32, 128)\n",
      "(32, 128)\n",
      "(32, 128)\n",
      "(32, 128)\n",
      "(32, 128)\n",
      "(32, 128)\n",
      "(32, 128)\n",
      "(32, 128)\n",
      "(32, 128)\n",
      "(32, 128)\n",
      "(32, 128)\n",
      "(32, 128)\n",
      "(32, 128)\n",
      "(32, 128)\n",
      "(32, 128)\n",
      "(32, 128)\n",
      "(32, 128)\n",
      "(32, 128)\n",
      "(32, 128)\n",
      "(32, 128)\n",
      "(32, 128)\n",
      "(32, 128)\n",
      "(32, 128)\n",
      "(32, 128)\n",
      "(32, 128)\n",
      "(32, 128)\n",
      "(32, 128)\n",
      "(32, 128)\n",
      "(32, 128)\n",
      "(32, 128)\n",
      "(32, 128)\n",
      "(32, 128)\n",
      "(32, 128)\n",
      "(32, 128)\n",
      "(32, 128)\n",
      "(32, 128)\n",
      "(32, 128)\n",
      "(32, 128)\n",
      "(32, 128)\n",
      "(32, 128)\n",
      "(32, 128)\n",
      "(32, 128)\n",
      "(32, 128)\n",
      "(32, 128)\n",
      "(32, 128)\n",
      "(32, 128)\n",
      "(32, 128)\n",
      "(32, 128)\n",
      "(32, 128)\n",
      "(32, 128)\n",
      "(26, 128)\n"
     ]
    },
    {
     "name": "stderr",
     "output_type": "stream",
     "text": [
      "\n"
     ]
    }
   ],
   "source": [
    "embed_map = generate_embeds(embed_map)"
   ]
  },
  {
   "cell_type": "code",
   "execution_count": 66,
   "metadata": {},
   "outputs": [
    {
     "name": "stderr",
     "output_type": "stream",
     "text": [
      "WARNING:root:163192 to 36232 pairs due to missing embeddings\n",
      "WARNING:root:59260 to 18076 pairs due to missing embeddings\n",
      "WARNING:root:52048 to 16331 pairs due to missing embeddings\n"
     ]
    }
   ],
   "source": [
    "    train_dset, valid_dset, test_dset = [\n",
    "        data_utils.LabeledPairDataset(p, embed_map)\n",
    "        for p in (train_pairs, valid_pairs, test_pairs)\n",
    "    ]\n"
   ]
  },
  {
   "cell_type": "code",
   "execution_count": 67,
   "metadata": {},
   "outputs": [
    {
     "name": "stderr",
     "output_type": "stream",
     "text": [
      "/home/hice1/savunuri3/.local/lib/python3.10/site-packages/torch/utils/data/dataloader.py:624: UserWarning: This DataLoader will create 16 worker processes in total. Our suggested max number of worker in current system is 4, which is smaller than what this DataLoader is going to create. Please be aware that excessive worker creation might get DataLoader running slow or even freeze, lower the worker number to avoid potential slowness/freeze if necessary.\n",
      "  warnings.warn(\n"
     ]
    }
   ],
   "source": [
    "    train_dl, valid_dl, test_dl = [\n",
    "        DataLoader(\n",
    "            d, batch_size=128, shuffle=(i == 0), num_workers=16\n",
    "        )\n",
    "        for i, d in enumerate([train_dset, valid_dset, test_dset])\n",
    "    ]\n"
   ]
  },
  {
   "cell_type": "code",
   "execution_count": 68,
   "metadata": {},
   "outputs": [
    {
     "name": "stderr",
     "output_type": "stream",
     "text": [
      "[rank: 0] Seed set to 6489\n"
     ]
    },
    {
     "data": {
      "text/plain": [
       "6489"
      ]
     },
     "execution_count": 68,
     "metadata": {},
     "output_type": "execute_result"
    }
   ],
   "source": [
    "    pl.seed_everything(seed=6489)\n"
   ]
  },
  {
   "cell_type": "code",
   "execution_count": 69,
   "metadata": {},
   "outputs": [],
   "source": [
    "net = contrastive.MLPForClassification(\n",
    "    init_dim=next(iter(train_dl))[0].shape[-1],\n",
    "    dims=[128, 1],\n",
    "    lr=1e-4,\n",
    "    unit_norm=False,\n",
    ")\n"
   ]
  },
  {
   "cell_type": "code",
   "execution_count": 70,
   "metadata": {},
   "outputs": [],
   "source": [
    "ckpt_callback = ModelCheckpoint(\n",
    "    dirpath=None,\n",
    "    filename=\"{epoch}-{val_auprc:.4f}\",\n",
    "    monitor=\"val_auprc\",\n",
    "    mode=\"max\",\n",
    "    save_top_k=1,\n",
    "    save_weights_only=True,\n",
    "    auto_insert_metric_name=True,\n",
    ")\n",
    "\n",
    "early_stop_callback = EarlyStopping(\n",
    "    monitor='val_auprc',         # metric name to monitor\n",
    "    patience=50,                 # epochs with no improvement after which to stop\n",
    "    mode='max',                 # 'min' if you want to minimize the metric\n",
    "    verbose=True                # optional: prints a message when triggered\n",
    ")\n"
   ]
  },
  {
   "cell_type": "code",
   "execution_count": 71,
   "metadata": {},
   "outputs": [
    {
     "name": "stderr",
     "output_type": "stream",
     "text": [
      "GPU available: True (cuda), used: True\n",
      "TPU available: False, using: 0 TPU cores\n",
      "HPU available: False, using: 0 HPUs\n"
     ]
    }
   ],
   "source": [
    "    trainer = pl.Trainer(\n",
    "        max_epochs=1000,\n",
    "        accelerator=\"cuda\",\n",
    "        enable_progress_bar=True,\n",
    "        # logger=logger,\n",
    "        callbacks=[ckpt_callback, early_stop_callback],\n",
    "        # log_every_n_steps=1,\n",
    "        deterministic=True,\n",
    "        devices=1\n",
    "    )\n"
   ]
  },
  {
   "cell_type": "code",
   "execution_count": 73,
   "metadata": {},
   "outputs": [
    {
     "name": "stderr",
     "output_type": "stream",
     "text": [
      "/home/hice1/savunuri3/.local/lib/python3.10/site-packages/lightning/pytorch/callbacks/model_checkpoint.py:654: Checkpoint directory /storage/ice1/6/2/savunuri3/cse7850-compbio-project/proteinclip/lightning_logs/version_2509887/checkpoints exists and is not empty.\n",
      "LOCAL_RANK: 0 - CUDA_VISIBLE_DEVICES: [0]\n",
      "\n",
      "  | Name   | Type       | Params | Mode \n",
      "----------------------------------------------\n",
      "0 | layers | Sequential | 33.3 K | train\n",
      "----------------------------------------------\n",
      "33.3 K    Trainable params\n",
      "0         Non-trainable params\n",
      "33.3 K    Total params\n",
      "0.133     Total estimated model params size (MB)\n",
      "5         Modules in train mode\n",
      "0         Modules in eval mode\n",
      "SLURM auto-requeueing enabled. Setting signal handlers.\n"
     ]
    },
    {
     "name": "stdout",
     "output_type": "stream",
     "text": [
      "Sanity Checking: |          | 0/? [00:00<?, ?it/s]"
     ]
    },
    {
     "name": "stderr",
     "output_type": "stream",
     "text": [
      "/home/hice1/savunuri3/.local/lib/python3.10/site-packages/torch/utils/data/dataloader.py:624: UserWarning: This DataLoader will create 16 worker processes in total. Our suggested max number of worker in current system is 4, which is smaller than what this DataLoader is going to create. Please be aware that excessive worker creation might get DataLoader running slow or even freeze, lower the worker number to avoid potential slowness/freeze if necessary.\n",
      "  warnings.warn(\n"
     ]
    },
    {
     "name": "stdout",
     "output_type": "stream",
     "text": [
      "                                                                            \r"
     ]
    },
    {
     "name": "stderr",
     "output_type": "stream",
     "text": [
      "/home/hice1/savunuri3/.local/lib/python3.10/site-packages/torch/utils/data/dataloader.py:624: UserWarning: This DataLoader will create 16 worker processes in total. Our suggested max number of worker in current system is 4, which is smaller than what this DataLoader is going to create. Please be aware that excessive worker creation might get DataLoader running slow or even freeze, lower the worker number to avoid potential slowness/freeze if necessary.\n",
      "  warnings.warn(\n"
     ]
    },
    {
     "name": "stdout",
     "output_type": "stream",
     "text": [
      "Epoch 262: 100%|██████████| 284/284 [00:02<00:00, 113.29it/s, v_num=2509887, train_loss=0.337, val_loss=0.906, val_auroc=0.573, val_auprc=0.588]"
     ]
    },
    {
     "name": "stderr",
     "output_type": "stream",
     "text": [
      "Monitored metric val_auprc did not improve in the last 51 records. Best score: 0.594. Signaling Trainer to stop.\n"
     ]
    },
    {
     "name": "stdout",
     "output_type": "stream",
     "text": [
      "Epoch 262: 100%|██████████| 284/284 [00:02<00:00, 113.22it/s, v_num=2509887, train_loss=0.337, val_loss=0.906, val_auroc=0.573, val_auprc=0.588]\n"
     ]
    }
   ],
   "source": [
    "trainer.fit(net, train_dataloaders=train_dl, val_dataloaders=valid_dl)"
   ]
  },
  {
   "cell_type": "code",
   "execution_count": null,
   "metadata": {},
   "outputs": [],
   "source": []
  }
 ],
 "metadata": {
  "kernelspec": {
   "display_name": "Python (proteinclip)",
   "language": "python",
   "name": "proteinclip"
  },
  "language_info": {
   "codemirror_mode": {
    "name": "ipython",
    "version": 3
   },
   "file_extension": ".py",
   "mimetype": "text/x-python",
   "name": "python",
   "nbconvert_exporter": "python",
   "pygments_lexer": "ipython3",
   "version": "3.10.13"
  },
  "orig_nbformat": 4
 },
 "nbformat": 4,
 "nbformat_minor": 2
}
