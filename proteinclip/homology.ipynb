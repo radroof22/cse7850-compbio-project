{
 "cells": [
  {
   "cell_type": "code",
   "execution_count": 1,
   "metadata": {},
   "outputs": [
    {
     "name": "stderr",
     "output_type": "stream",
     "text": [
      "/usr/local/pace-apps/manual/packages/anaconda3/2023.03/lib/python3.10/site-packages/tqdm/auto.py:21: TqdmWarning: IProgress not found. Please update jupyter and ipywidgets. See https://ipywidgets.readthedocs.io/en/stable/user_install.html\n",
      "  from .autonotebook import tqdm as notebook_tqdm\n",
      "Loading checkpoint shards: 100%|██████████| 2/2 [00:20<00:00, 10.10s/it]\n",
      "Device set to use cuda:0\n"
     ]
    }
   ],
   "source": [
    "\"\"\"\n",
    "Functions and classes for working with CATH data.\n",
    "\"\"\"\n",
    "\n",
    "from itertools import chain\n",
    "import logging\n",
    "from typing import Callable, Collection, Dict, Literal, Tuple\n",
    "\n",
    "import numpy as np\n",
    "import pandas as pd\n",
    "\n",
    "from tqdm.auto import tqdm\n",
    "\n",
    "from proteinclip.fasta_utils import read_fasta\n",
    "from proteinclip.data_utils import DATA_DIR\n",
    "\n",
    "CATH_DIR = DATA_DIR / \"cath\"\n",
    "assert CATH_DIR.is_dir()\n"
   ]
  },
  {
   "cell_type": "code",
   "execution_count": 2,
   "metadata": {},
   "outputs": [],
   "source": [
    "class CathSequences:\n",
    "    \"\"\"Class for working with CATH sequences.\"\"\"\n",
    "\n",
    "    def __init__(\n",
    "        self,\n",
    "        version: Literal[\"S20\", \"S40\"] = \"S20\",\n",
    "        cath_dir: str = CATH_DIR,\n",
    "        blacklisted_identifiers: Collection[str] | None = None,\n",
    "    ):\n",
    "        self._cath_dir = cath_dir\n",
    "\n",
    "        fa_files = [f for f in CATH_DIR.glob(\"*.fa\") if version in f.name]\n",
    "        assert len(fa_files) == 1\n",
    "        self._cath_fa = str(fa_files.pop())\n",
    "\n",
    "        # Load the sequencesn\n",
    "        # An example fasta key: cath|current|1a48A01/2-112\n",
    "        self._seq_records = read_fasta(\n",
    "            self._cath_fa, key_func=lambda s: s.split(\"|\")[2].split(\"/\")[0]\n",
    "        )\n",
    "        if blacklisted_identifiers:\n",
    "            logging.info(f\"Excluding n={len(blacklisted_identifiers)} identifiers\")\n",
    "            self._seq_records = {\n",
    "                k: v\n",
    "                for k, v in self._seq_records.items()\n",
    "                if k not in set(blacklisted_identifiers)\n",
    "            }\n",
    "\n",
    "        # Read in the table that maps these to CATH domains\n",
    "        table_files = list(CATH_DIR.glob(\"cath-domain-list-*.txt\"))\n",
    "        assert len(table_files) == 1\n",
    "        self._cath_table_file = str(table_files.pop())\n",
    "        self._cath_table = pd.read_csv(\n",
    "            self._cath_table_file,\n",
    "            comment=\"#\",\n",
    "            delimiter=\"\\s+\",\n",
    "            low_memory=False,\n",
    "            header=None,\n",
    "        )\n",
    "        self._cath_table.columns = [\n",
    "            \"domain\",\n",
    "            \"class\",\n",
    "            \"architecture\",\n",
    "            \"topology\",\n",
    "            \"homologous_superfamily\",\n",
    "            \"s35_cluster\",\n",
    "            \"s60_cluster\",\n",
    "            \"s95_cluster\",\n",
    "            \"s100_cluster\",\n",
    "            \"s100_count\",\n",
    "            \"domain_length\",\n",
    "            \"resolution\",\n",
    "        ]\n",
    "        self._cath_table = self._cath_table[\n",
    "            self._cath_table[\"domain\"].isin(self._seq_records.keys())\n",
    "        ]\n",
    "        self._cath_table = self._cath_table.set_index(\"domain\")\n",
    "        assert len(self._cath_table) == len(self._seq_records)\n",
    "\n",
    "        # Create a new column that combines the four CATH classifications\n",
    "        self._cath_table[\"cath_classification\"] = self._cath_table[\n",
    "            [\"class\", \"architecture\", \"topology\", \"homologous_superfamily\"]\n",
    "        ].apply(lambda x: \".\".join([str(s) for s in x]), axis=1)\n",
    "\n",
    "        # Report lengths\n",
    "        logging.info(\n",
    "            f\"Domain lengths from {np.min(self._cath_table['domain_length'])} to {np.max(self._cath_table['domain_length'])}\"\n",
    "        )\n",
    "\n",
    "        # Group by homologous_superfamily\n",
    "        self._grouped = self._cath_table.groupby(\"cath_classification\").groups\n",
    "        self._multi_member_groups = {\n",
    "            k: v for k, v in self._grouped.items() if len(v) > 1\n",
    "        }\n",
    "        logging.info(\n",
    "            f\"Found {len(self._multi_member_groups)} multi-member groups among {len(self._grouped)} total groups.\"\n",
    "        )\n",
    "\n",
    "    def get_sequence(self, identifier: str) -> str:\n",
    "        \"\"\"Get the sequence for the identifier if it exists; empty string otherwise.\"\"\"\n",
    "        return self._seq_records.get(identifier, \"\")\n",
    "\n",
    "    def get_sequence_items(self) -> Collection[Tuple[str, str]]:\n",
    "        \"\"\"Return the sequence items as a collection of (identifier, sequence) tuples.\"\"\"\n",
    "        return list(self._seq_records.items())\n",
    "\n",
    "    def __len__(self) -> int:\n",
    "        return len(self._seq_records)\n",
    "\n",
    "    def build_ref_query_set(self) -> Tuple[Dict[str, str], Dict[str, str]]:\n",
    "        \"\"\"\n",
    "        Build a dataset to test retrieval, inspired by:\n",
    "        https://www.frontiersin.org/articles/10.3389/fbinf.2022.1033775/full\n",
    "\n",
    "        The reference dataset is all domains\n",
    "        The query dataset is all domains that belong to a multi-member CATH group\n",
    "        Return each as a dictionary of {domain: sequence} mappings.\n",
    "        \"\"\"\n",
    "        multi_member_seqs = set(chain.from_iterable(self._multi_member_groups.values()))\n",
    "        references = {k: self._seq_records[k] for k in self._seq_records.keys()}\n",
    "        queries = {k: self._seq_records[k] for k in multi_member_seqs}\n",
    "        assert set(queries.keys()) < set(references.keys())\n",
    "        return references, queries\n",
    "\n",
    "    def get_cath_class(self, domain: str) -> str:\n",
    "        \"\"\"Return the CATH class for a domain.\"\"\"\n",
    "        return self._cath_table.loc[domain][\"cath_classification\"]\n",
    "\n",
    "    def cath_class_is_multidomain(self, cath_class: str) -> bool:\n",
    "        \"\"\"Return True if the CATH class is a multi-domain class.\"\"\"\n",
    "        return cath_class in self._multi_member_groups\n",
    "\n"
   ]
  },
  {
   "cell_type": "code",
   "execution_count": 3,
   "metadata": {},
   "outputs": [
    {
     "name": "stderr",
     "output_type": "stream",
     "text": [
      "INFO:root:Read 14942 sequences from /storage/ice1/6/2/savunuri3/cse7850-compbio-project/proteinclip/data/cath/cath-dataset-nonredundant-S20-v4_3_0.fa\n",
      "INFO:root:Domain lengths from 9 to 1202\n",
      "INFO:root:Found 1543 multi-member groups among 5559 total groups.\n"
     ]
    }
   ],
   "source": [
    "logging.basicConfig(level=logging.INFO)\n",
    "x = CathSequences()\n"
   ]
  },
  {
   "cell_type": "code",
   "execution_count": 4,
   "metadata": {},
   "outputs": [
    {
     "data": {
      "text/plain": [
       "('12asA00',\n",
       " 'MKTAYIAKQRQISFVKSHFSRQLEERLGLIEVQAPILSRVGDGTQDNLSGAEKAVQVKVKALPDAQFEVVHSLAKWKRQTLGQHDFSAGEGLYTHMKALRPDEDRLSPLHSVYVDQWDWERVMGDGERQFSTLKSTVEAIWAGIKATEAAVSEEFGLAPFLPDQIHFVHSQELLSRYPDLDAKGRERAIAKDLGAVFLVGIGGKLSDGHRHDVRAPDYDDWSTPSELGHAGLNGDILVWNPVLEDAFELSSMGIRVDADTLKHQLALTGDEDRLELEWHQALLRGEMPQTIGGGIGQSRLTMLLLQLPHIGQVQAGVWPAAVRESVPSLL')"
      ]
     },
     "execution_count": 4,
     "metadata": {},
     "output_type": "execute_result"
    }
   ],
   "source": [
    "x.get_sequence_items()[0]"
   ]
  },
  {
   "cell_type": "code",
   "execution_count": 5,
   "metadata": {},
   "outputs": [],
   "source": [
    "ref, query = x.build_ref_query_set()"
   ]
  },
  {
   "cell_type": "code",
   "execution_count": 6,
   "metadata": {},
   "outputs": [],
   "source": [
    "import torch\n",
    "import numpy as np\n",
    "import pandas as pd\n",
    "from tqdm import tqdm\n",
    "from esm import pretrained\n",
    "from importlib import reload\n",
    "from proteinclip.model_utils import ONNXModel"
   ]
  },
  {
   "cell_type": "code",
   "execution_count": 7,
   "metadata": {},
   "outputs": [
    {
     "name": "stderr",
     "output_type": "stream",
     "text": [
      "\u001b[1;31m2025-04-25 11:09:43.103485554 [E:onnxruntime:Default, env.cc:234 ThreadMain] pthread_setaffinity_np failed for thread: 2034553, index: 12, mask: {13, }, error code: 22 error msg: Invalid argument. Specify the number of threads explicitly so the affinity is not set.\u001b[m\n",
      "\u001b[1;31m2025-04-25 11:09:43.103570501 [E:onnxruntime:Default, env.cc:234 ThreadMain] pthread_setaffinity_np failed for thread: 2034579, index: 38, mask: {39, }, error code: 22 error msg: Invalid argument. Specify the number of threads explicitly so the affinity is not set.\u001b[m\n",
      "\u001b[1;31m2025-04-25 11:09:43.103460258 [E:onnxruntime:Default, env.cc:234 ThreadMain] pthread_setaffinity_np failed for thread: 2034555, index: 14, mask: {15, }, error code: 22 error msg: Invalid argument. Specify the number of threads explicitly so the affinity is not set.\u001b[m\n",
      "\u001b[1;31m2025-04-25 11:09:43.103572509 [E:onnxruntime:Default, env.cc:234 ThreadMain] pthread_setaffinity_np failed for thread: 2034580, index: 39, mask: {40, }, error code: 22 error msg: Invalid argument. Specify the number of threads explicitly so the affinity is not set.\u001b[m\n",
      "\u001b[1;31m2025-04-25 11:09:43.103549833 [E:onnxruntime:Default, env.cc:234 ThreadMain] pthread_setaffinity_np failed for thread: 2034571, index: 30, mask: {31, }, error code: 22 error msg: Invalid argument. Specify the number of threads explicitly so the affinity is not set.\u001b[m\n",
      "\u001b[1;31m2025-04-25 11:09:43.103519236 [E:onnxruntime:Default, env.cc:234 ThreadMain] pthread_setaffinity_np failed for thread: 2034557, index: 16, mask: {17, }, error code: 22 error msg: Invalid argument. Specify the number of threads explicitly so the affinity is not set.\u001b[m\n",
      "\u001b[1;31m2025-04-25 11:09:43.103574210 [E:onnxruntime:Default, env.cc:234 ThreadMain] pthread_setaffinity_np failed for thread: 2034582, index: 41, mask: {42, }, error code: 22 error msg: Invalid argument. Specify the number of threads explicitly so the affinity is not set.\u001b[m\n",
      "\u001b[1;31m2025-04-25 11:09:43.103550572 [E:onnxruntime:Default, env.cc:234 ThreadMain] pthread_setaffinity_np failed for thread: 2034576, index: 35, mask: {36, }, error code: 22 error msg: Invalid argument. Specify the number of threads explicitly so the affinity is not set.\u001b[m\n",
      "\u001b[1;31m2025-04-25 11:09:43.103575896 [E:onnxruntime:Default, env.cc:234 ThreadMain] pthread_setaffinity_np failed for thread: 2034583, index: 42, mask: {43, }, error code: 22 error msg: Invalid argument. Specify the number of threads explicitly so the affinity is not set.\u001b[m\n",
      "\u001b[1;31m2025-04-25 11:09:43.103495429 [E:onnxruntime:Default, env.cc:234 ThreadMain] pthread_setaffinity_np failed for thread: 2034560, index: 19, mask: {20, }, error code: 22 error msg: Invalid argument. Specify the number of threads explicitly so the affinity is not set.\u001b[m\n",
      "\u001b[1;31m2025-04-25 11:09:43.103559394 [E:onnxruntime:Default, env.cc:234 ThreadMain] pthread_setaffinity_np failed for thread: 2034584, index: 43, mask: {44, }, error code: 22 error msg: Invalid argument. Specify the number of threads explicitly so the affinity is not set.\u001b[m\n",
      "\u001b[1;31m2025-04-25 11:09:43.103520305 [E:onnxruntime:Default, env.cc:234 ThreadMain] pthread_setaffinity_np failed for thread: 2034568, index: 27, mask: {28, }, error code: 22 error msg: Invalid argument. Specify the number of threads explicitly so the affinity is not set.\u001b[m\n",
      "\u001b[1;31m2025-04-25 11:09:43.103531320 [E:onnxruntime:Default, env.cc:234 ThreadMain] pthread_setaffinity_np failed for thread: 2034569, index: 28, mask: {29, }, error code: 22 error msg: Invalid argument. Specify the number of threads explicitly so the affinity is not set.\u001b[m\n",
      "\u001b[1;31m2025-04-25 11:09:43.103676942 [E:onnxruntime:Default, env.cc:234 ThreadMain] pthread_setaffinity_np failed for thread: 2034588, index: 47, mask: {48, }, error code: 22 error msg: Invalid argument. Specify the number of threads explicitly so the affinity is not set.\u001b[m\n",
      "\u001b[1;31m2025-04-25 11:09:43.103538094 [E:onnxruntime:Default, env.cc:234 ThreadMain] pthread_setaffinity_np failed for thread: 2034567, index: 26, mask: {27, }, error code: 22 error msg: Invalid argument. Specify the number of threads explicitly so the affinity is not set.\u001b[m\n",
      "\u001b[1;31m2025-04-25 11:09:43.103466637 [E:onnxruntime:Default, env.cc:234 ThreadMain] pthread_setaffinity_np failed for thread: 2034547, index: 6, mask: {7, }, error code: 22 error msg: Invalid argument. Specify the number of threads explicitly so the affinity is not set.\u001b[m\n",
      "\u001b[1;31m2025-04-25 11:09:43.103703739 [E:onnxruntime:Default, env.cc:234 ThreadMain] pthread_setaffinity_np failed for thread: 2034589, index: 48, mask: {49, }, error code: 22 error msg: Invalid argument. Specify the number of threads explicitly so the affinity is not set.\u001b[m\n",
      "\u001b[1;31m2025-04-25 11:09:43.103566226 [E:onnxruntime:Default, env.cc:234 ThreadMain] pthread_setaffinity_np failed for thread: 2034577, index: 36, mask: {37, }, error code: 22 error msg: Invalid argument. Specify the number of threads explicitly so the affinity is not set.\u001b[m\n",
      "\u001b[1;31m2025-04-25 11:09:43.103532757 [E:onnxruntime:Default, env.cc:234 ThreadMain] pthread_setaffinity_np failed for thread: 2034545, index: 4, mask: {5, }, error code: 22 error msg: Invalid argument. Specify the number of threads explicitly so the affinity is not set.\u001b[m\n",
      "\u001b[1;31m2025-04-25 11:09:43.103508136 [E:onnxruntime:Default, env.cc:234 ThreadMain] pthread_setaffinity_np failed for thread: 2034564, index: 23, mask: {24, }, error code: 22 error msg: Invalid argument. Specify the number of threads explicitly so the affinity is not set.\u001b[m\n",
      "\u001b[1;31m2025-04-25 11:09:43.103726825 [E:onnxruntime:Default, env.cc:234 ThreadMain] pthread_setaffinity_np failed for thread: 2034590, index: 49, mask: {50, }, error code: 22 error msg: Invalid argument. Specify the number of threads explicitly so the affinity is not set.\u001b[m\n",
      "\u001b[1;31m2025-04-25 11:09:43.103510714 [E:onnxruntime:Default, env.cc:234 ThreadMain] pthread_setaffinity_np failed for thread: 2034573, index: 32, mask: {33, }, error code: 22 error msg: Invalid argument. Specify the number of threads explicitly so the affinity is not set.\u001b[m\n",
      "\u001b[1;31m2025-04-25 11:09:43.103474232 [E:onnxruntime:Default, env.cc:234 ThreadMain] pthread_setaffinity_np failed for thread: 2034551, index: 10, mask: {11, }, error code: 22 error msg: Invalid argument. Specify the number of threads explicitly so the affinity is not set.\u001b[m\n",
      "\u001b[1;31m2025-04-25 11:09:43.103750716 [E:onnxruntime:Default, env.cc:234 ThreadMain] pthread_setaffinity_np failed for thread: 2034591, index: 50, mask: {51, }, error code: 22 error msg: Invalid argument. Specify the number of threads explicitly so the affinity is not set.\u001b[m\n",
      "\u001b[1;31m2025-04-25 11:09:43.103797585 [E:onnxruntime:Default, env.cc:234 ThreadMain] pthread_setaffinity_np failed for thread: 2034593, index: 52, mask: {53, }, error code: 22 error msg: Invalid argument. Specify the number of threads explicitly so the affinity is not set.\u001b[m\n",
      "\u001b[1;31m2025-04-25 11:09:43.103461983 [E:onnxruntime:Default, env.cc:234 ThreadMain] pthread_setaffinity_np failed for thread: 2034543, index: 2, mask: {3, }, error code: 22 error msg: Invalid argument. Specify the number of threads explicitly so the affinity is not set.\u001b[m\n",
      "\u001b[1;31m2025-04-25 11:09:43.103495360 [E:onnxruntime:Default, env.cc:234 ThreadMain] pthread_setaffinity_np failed for thread: 2034559, index: 18, mask: {19, }, error code: 22 error msg: Invalid argument. Specify the number of threads explicitly so the affinity is not set.\u001b[m\n",
      "\u001b[1;31m2025-04-25 11:09:43.103772486 [E:onnxruntime:Default, env.cc:234 ThreadMain] pthread_setaffinity_np failed for thread: 2034592, index: 51, mask: {52, }, error code: 22 error msg: Invalid argument. Specify the number of threads explicitly so the affinity is not set.\u001b[m\n",
      "\u001b[1;31m2025-04-25 11:09:43.103822633 [E:onnxruntime:Default, env.cc:234 ThreadMain] pthread_setaffinity_np failed for thread: 2034594, index: 53, mask: {54, }, error code: 22 error msg: Invalid argument. Specify the number of threads explicitly so the affinity is not set.\u001b[m\n",
      "\u001b[1;31m2025-04-25 11:09:43.103520356 [E:onnxruntime:Default, env.cc:234 ThreadMain] pthread_setaffinity_np failed for thread: 2034542, index: 1, mask: {2, }, error code: 22 error msg: Invalid argument. Specify the number of threads explicitly so the affinity is not set.\u001b[m\n",
      "\u001b[1;31m2025-04-25 11:09:43.103491956 [E:onnxruntime:Default, env.cc:234 ThreadMain] pthread_setaffinity_np failed for thread: 2034556, index: 15, mask: {16, }, error code: 22 error msg: Invalid argument. Specify the number of threads explicitly so the affinity is not set.\u001b[m\n",
      "\u001b[1;31m2025-04-25 11:09:43.103842804 [E:onnxruntime:Default, env.cc:234 ThreadMain] pthread_setaffinity_np failed for thread: 2034595, index: 54, mask: {55, }, error code: 22 error msg: Invalid argument. Specify the number of threads explicitly so the affinity is not set.\u001b[m\n",
      "\u001b[1;31m2025-04-25 11:09:43.103479483 [E:onnxruntime:Default, env.cc:234 ThreadMain] pthread_setaffinity_np failed for thread: 2034541, index: 0, mask: {1, }, error code: 22 error msg: Invalid argument. Specify the number of threads explicitly so the affinity is not set.\u001b[m\n",
      "\u001b[1;31m2025-04-25 11:09:43.103487599 [E:onnxruntime:Default, env.cc:234 ThreadMain] pthread_setaffinity_np failed for thread: 2034549, index: 8, mask: {9, }, error code: 22 error msg: Invalid argument. Specify the number of threads explicitly so the affinity is not set.\u001b[m\n",
      "\u001b[1;31m2025-04-25 11:09:43.103868572 [E:onnxruntime:Default, env.cc:234 ThreadMain] pthread_setaffinity_np failed for thread: 2034596, index: 55, mask: {56, }, error code: 22 error msg: Invalid argument. Specify the number of threads explicitly so the affinity is not set.\u001b[m\n",
      "\u001b[1;31m2025-04-25 11:09:43.103508032 [E:onnxruntime:Default, env.cc:234 ThreadMain] pthread_setaffinity_np failed for thread: 2034563, index: 22, mask: {23, }, error code: 22 error msg: Invalid argument. Specify the number of threads explicitly so the affinity is not set.\u001b[m\n",
      "\u001b[1;31m2025-04-25 11:09:43.103557421 [E:onnxruntime:Default, env.cc:234 ThreadMain] pthread_setaffinity_np failed for thread: 2034585, index: 44, mask: {45, }, error code: 22 error msg: Invalid argument. Specify the number of threads explicitly so the affinity is not set.\u001b[m\n",
      "\u001b[1;31m2025-04-25 11:09:43.103542083 [E:onnxruntime:Default, env.cc:234 ThreadMain] pthread_setaffinity_np failed for thread: 2034570, index: 29, mask: {30, }, error code: 22 error msg: Invalid argument. Specify the number of threads explicitly so the affinity is not set.\u001b[m\n",
      "\u001b[1;31m2025-04-25 11:09:43.103564053 [E:onnxruntime:Default, env.cc:234 ThreadMain] pthread_setaffinity_np failed for thread: 2034575, index: 34, mask: {35, }, error code: 22 error msg: Invalid argument. Specify the number of threads explicitly so the affinity is not set.\u001b[m\n",
      "\u001b[1;31m2025-04-25 11:09:43.103489344 [E:onnxruntime:Default, env.cc:234 ThreadMain] pthread_setaffinity_np failed for thread: 2034546, index: 5, mask: {6, }, error code: 22 error msg: Invalid argument. Specify the number of threads explicitly so the affinity is not set.\u001b[m\n",
      "\u001b[1;31m2025-04-25 11:09:43.103479884 [E:onnxruntime:Default, env.cc:234 ThreadMain] pthread_setaffinity_np failed for thread: 2034550, index: 9, mask: {10, }, error code: 22 error msg: Invalid argument. Specify the number of threads explicitly so the affinity is not set.\u001b[m\n",
      "\u001b[1;31m2025-04-25 11:09:43.103956485 [E:onnxruntime:Default, env.cc:234 ThreadMain] pthread_setaffinity_np failed for thread: 2034599, index: 58, mask: {59, }, error code: 22 error msg: Invalid argument. Specify the number of threads explicitly so the affinity is not set.\u001b[m\n",
      "\u001b[1;31m2025-04-25 11:09:43.103498342 [E:onnxruntime:Default, env.cc:234 ThreadMain] pthread_setaffinity_np failed for thread: 2034562, index: 21, mask: {22, }, error code: 22 error msg: Invalid argument. Specify the number of threads explicitly so the affinity is not set.\u001b[m\n",
      "\u001b[1;31m2025-04-25 11:09:43.104486748 [E:onnxruntime:Default, env.cc:234 ThreadMain] pthread_setaffinity_np failed for thread: 2034598, index: 57, mask: {58, }, error code: 22 error msg: Invalid argument. Specify the number of threads explicitly so the affinity is not set.\u001b[m\n",
      "\u001b[1;31m2025-04-25 11:09:43.103543107 [E:onnxruntime:Default, env.cc:234 ThreadMain] pthread_setaffinity_np failed for thread: 2034574, index: 33, mask: {34, }, error code: 22 error msg: Invalid argument. Specify the number of threads explicitly so the affinity is not set.\u001b[m\n",
      "\u001b[1;31m2025-04-25 11:09:43.103516568 [E:onnxruntime:Default, env.cc:234 ThreadMain] pthread_setaffinity_np failed for thread: 2034565, index: 24, mask: {25, }, error code: 22 error msg: Invalid argument. Specify the number of threads explicitly so the affinity is not set.\u001b[m\n",
      "\u001b[1;31m2025-04-25 11:09:43.103502578 [E:onnxruntime:Default, env.cc:234 ThreadMain] pthread_setaffinity_np failed for thread: 2034561, index: 20, mask: {21, }, error code: 22 error msg: Invalid argument. Specify the number of threads explicitly so the affinity is not set.\u001b[m\n",
      "\u001b[1;31m2025-04-25 11:09:43.103470822 [E:onnxruntime:Default, env.cc:234 ThreadMain] pthread_setaffinity_np failed for thread: 2034544, index: 3, mask: {4, }, error code: 22 error msg: Invalid argument. Specify the number of threads explicitly so the affinity is not set.\u001b[m\n",
      "\u001b[1;31m2025-04-25 11:09:43.103490779 [E:onnxruntime:Default, env.cc:234 ThreadMain] pthread_setaffinity_np failed for thread: 2034552, index: 11, mask: {12, }, error code: 22 error msg: Invalid argument. Specify the number of threads explicitly so the affinity is not set.\u001b[m\n",
      "\u001b[1;31m2025-04-25 11:09:43.103466314 [E:onnxruntime:Default, env.cc:234 ThreadMain] pthread_setaffinity_np failed for thread: 2034554, index: 13, mask: {14, }, error code: 22 error msg: Invalid argument. Specify the number of threads explicitly so the affinity is not set.\u001b[m\n",
      "\u001b[1;31m2025-04-25 11:09:43.103484545 [E:onnxruntime:Default, env.cc:234 ThreadMain] pthread_setaffinity_np failed for thread: 2034548, index: 7, mask: {8, }, error code: 22 error msg: Invalid argument. Specify the number of threads explicitly so the affinity is not set.\u001b[m\n",
      "\u001b[1;31m2025-04-25 11:09:43.103526743 [E:onnxruntime:Default, env.cc:234 ThreadMain] pthread_setaffinity_np failed for thread: 2034558, index: 17, mask: {18, }, error code: 22 error msg: Invalid argument. Specify the number of threads explicitly so the affinity is not set.\u001b[m\n",
      "\u001b[1;31m2025-04-25 11:09:43.103494761 [E:onnxruntime:Default, env.cc:234 ThreadMain] pthread_setaffinity_np failed for thread: 2034566, index: 25, mask: {26, }, error code: 22 error msg: Invalid argument. Specify the number of threads explicitly so the affinity is not set.\u001b[m\n",
      "\u001b[1;31m2025-04-25 11:09:43.103568381 [E:onnxruntime:Default, env.cc:234 ThreadMain] pthread_setaffinity_np failed for thread: 2034578, index: 37, mask: {38, }, error code: 22 error msg: Invalid argument. Specify the number of threads explicitly so the affinity is not set.\u001b[m\n",
      "\u001b[1;31m2025-04-25 11:09:43.103887969 [E:onnxruntime:Default, env.cc:234 ThreadMain] pthread_setaffinity_np failed for thread: 2034597, index: 56, mask: {57, }, error code: 22 error msg: Invalid argument. Specify the number of threads explicitly so the affinity is not set.\u001b[m\n",
      "\u001b[1;31m2025-04-25 11:09:43.333251529 [E:onnxruntime:Default, env.cc:234 ThreadMain] pthread_setaffinity_np failed for thread: 2034600, index: 59, mask: {60, }, error code: 22 error msg: Invalid argument. Specify the number of threads explicitly so the affinity is not set.\u001b[m\n",
      "\u001b[1;31m2025-04-25 11:09:43.339274723 [E:onnxruntime:Default, env.cc:234 ThreadMain] pthread_setaffinity_np failed for thread: 2034603, index: 62, mask: {63, }, error code: 22 error msg: Invalid argument. Specify the number of threads explicitly so the affinity is not set.\u001b[m\n",
      "\u001b[1;31m2025-04-25 11:09:43.343240431 [E:onnxruntime:Default, env.cc:234 ThreadMain] pthread_setaffinity_np failed for thread: 2034602, index: 61, mask: {62, }, error code: 22 error msg: Invalid argument. Specify the number of threads explicitly so the affinity is not set.\u001b[m\n",
      "\u001b[1;31m2025-04-25 11:09:43.353228240 [E:onnxruntime:Default, env.cc:234 ThreadMain] pthread_setaffinity_np failed for thread: 2034601, index: 60, mask: {61, }, error code: 22 error msg: Invalid argument. Specify the number of threads explicitly so the affinity is not set.\u001b[m\n"
     ]
    }
   ],
   "source": [
    "model_path = \"pretrained/proteinclip_esm2_33.onnx\"\n",
    "proteinclip_model = ONNXModel(model_path)"
   ]
  },
  {
   "cell_type": "code",
   "execution_count": 8,
   "metadata": {},
   "outputs": [
    {
     "data": {
      "text/plain": [
       "ESM2(\n",
       "  (embed_tokens): Embedding(33, 1280, padding_idx=1)\n",
       "  (layers): ModuleList(\n",
       "    (0-32): 33 x TransformerLayer(\n",
       "      (self_attn): MultiheadAttention(\n",
       "        (k_proj): Linear(in_features=1280, out_features=1280, bias=True)\n",
       "        (v_proj): Linear(in_features=1280, out_features=1280, bias=True)\n",
       "        (q_proj): Linear(in_features=1280, out_features=1280, bias=True)\n",
       "        (out_proj): Linear(in_features=1280, out_features=1280, bias=True)\n",
       "        (rot_emb): RotaryEmbedding()\n",
       "      )\n",
       "      (self_attn_layer_norm): LayerNorm((1280,), eps=1e-05, elementwise_affine=True)\n",
       "      (fc1): Linear(in_features=1280, out_features=5120, bias=True)\n",
       "      (fc2): Linear(in_features=5120, out_features=1280, bias=True)\n",
       "      (final_layer_norm): LayerNorm((1280,), eps=1e-05, elementwise_affine=True)\n",
       "    )\n",
       "  )\n",
       "  (contact_head): ContactPredictionHead(\n",
       "    (regression): Linear(in_features=660, out_features=1, bias=True)\n",
       "    (activation): Sigmoid()\n",
       "  )\n",
       "  (emb_layer_norm_after): LayerNorm((1280,), eps=1e-05, elementwise_affine=True)\n",
       "  (lm_head): RobertaLMHead(\n",
       "    (dense): Linear(in_features=1280, out_features=1280, bias=True)\n",
       "    (layer_norm): LayerNorm((1280,), eps=1e-05, elementwise_affine=True)\n",
       "  )\n",
       ")"
      ]
     },
     "execution_count": 8,
     "metadata": {},
     "output_type": "execute_result"
    }
   ],
   "source": [
    "# Load ESM2-33 model\n",
    "esm_model, alphabet = pretrained.esm2_t33_650M_UR50D()\n",
    "esm_model.eval()\n",
    "batch_converter = alphabet.get_batch_converter()\n",
    "device = 'cuda' if torch.cuda.is_available() else 'cpu'\n",
    "esm_model.to(device)\n"
   ]
  },
  {
   "cell_type": "code",
   "execution_count": 32,
   "metadata": {},
   "outputs": [
    {
     "name": "stderr",
     "output_type": "stream",
     "text": [
      "\u001b[1;31m2025-04-25 11:44:01.862209256 [E:onnxruntime:Default, env.cc:234 ThreadMain] pthread_setaffinity_np failed for thread: 2062410, index: 0, mask: {1, }, error code: 22 error msg: Invalid argument. Specify the number of threads explicitly so the affinity is not set.\u001b[m\n",
      "\u001b[1;31m2025-04-25 11:44:01.862265359 [E:onnxruntime:Default, env.cc:234 ThreadMain] pthread_setaffinity_np failed for thread: 2062411, index: 1, mask: {2, }, error code: 22 error msg: Invalid argument. Specify the number of threads explicitly so the affinity is not set.\u001b[m\n",
      "\u001b[1;31m2025-04-25 11:44:01.862276475 [E:onnxruntime:Default, env.cc:234 ThreadMain] pthread_setaffinity_np failed for thread: 2062412, index: 2, mask: {3, }, error code: 22 error msg: Invalid argument. Specify the number of threads explicitly so the affinity is not set.\u001b[m\n",
      "\u001b[1;31m2025-04-25 11:44:01.864140216 [E:onnxruntime:Default, env.cc:234 ThreadMain] pthread_setaffinity_np failed for thread: 2062445, index: 35, mask: {36, }, error code: 22 error msg: Invalid argument. Specify the number of threads explicitly so the affinity is not set.\u001b[m\n",
      "\u001b[1;31m2025-04-25 11:44:01.867239063 [E:onnxruntime:Default, env.cc:234 ThreadMain] pthread_setaffinity_np failed for thread: 2062443, index: 33, mask: {34, }, error code: 22 error msg: Invalid argument. Specify the number of threads explicitly so the affinity is not set.\u001b[m\n",
      "\u001b[1;31m2025-04-25 11:44:01.869240619 [E:onnxruntime:Default, env.cc:234 ThreadMain] pthread_setaffinity_np failed for thread: 2062427, index: 17, mask: {18, }, error code: 22 error msg: Invalid argument. Specify the number of threads explicitly so the affinity is not set.\u001b[m\n",
      "\u001b[1;31m2025-04-25 11:44:01.870333417 [E:onnxruntime:Default, env.cc:234 ThreadMain] pthread_setaffinity_np failed for thread: 2062442, index: 32, mask: {33, }, error code: 22 error msg: Invalid argument. Specify the number of threads explicitly so the affinity is not set.\u001b[m\n",
      "\u001b[1;31m2025-04-25 11:44:01.870414143 [E:onnxruntime:Default, env.cc:234 ThreadMain] pthread_setaffinity_np failed for thread: 2062444, index: 34, mask: {35, }, error code: 22 error msg: Invalid argument. Specify the number of threads explicitly so the affinity is not set.\u001b[m\n",
      "\u001b[1;31m2025-04-25 11:44:01.871240146 [E:onnxruntime:Default, env.cc:234 ThreadMain] pthread_setaffinity_np failed for thread: 2062446, index: 36, mask: {37, }, error code: 22 error msg: Invalid argument. Specify the number of threads explicitly so the affinity is not set.\u001b[m\n",
      "\u001b[1;31m2025-04-25 11:44:01.873235588 [E:onnxruntime:Default, env.cc:234 ThreadMain] pthread_setaffinity_np failed for thread: 2062428, index: 18, mask: {19, }, error code: 22 error msg: Invalid argument. Specify the number of threads explicitly so the affinity is not set.\u001b[m\n",
      "\u001b[1;31m2025-04-25 11:44:01.875254227 [E:onnxruntime:Default, env.cc:234 ThreadMain] pthread_setaffinity_np failed for thread: 2062451, index: 41, mask: {42, }, error code: 22 error msg: Invalid argument. Specify the number of threads explicitly so the affinity is not set.\u001b[m\n",
      "\u001b[1;31m2025-04-25 11:44:01.879265310 [E:onnxruntime:Default, env.cc:234 ThreadMain] pthread_setaffinity_np failed for thread: 2062429, index: 19, mask: {20, }, error code: 22 error msg: Invalid argument. Specify the number of threads explicitly so the affinity is not set.\u001b[m\n",
      "\u001b[1;31m2025-04-25 11:44:01.879274590 [E:onnxruntime:Default, env.cc:234 ThreadMain] pthread_setaffinity_np failed for thread: 2062454, index: 44, mask: {45, }, error code: 22 error msg: Invalid argument. Specify the number of threads explicitly so the affinity is not set.\u001b[m\n",
      "\u001b[1;31m2025-04-25 11:44:01.883235658 [E:onnxruntime:Default, env.cc:234 ThreadMain] pthread_setaffinity_np failed for thread: 2062452, index: 42, mask: {43, }, error code: 22 error msg: Invalid argument. Specify the number of threads explicitly so the affinity is not set.\u001b[m\n",
      "\u001b[1;31m2025-04-25 11:44:01.883242080 [E:onnxruntime:Default, env.cc:234 ThreadMain] pthread_setaffinity_np failed for thread: 2062432, index: 22, mask: {23, }, error code: 22 error msg: Invalid argument. Specify the number of threads explicitly so the affinity is not set.\u001b[m\n",
      "\u001b[1;31m2025-04-25 11:44:01.884240775 [E:onnxruntime:Default, env.cc:234 ThreadMain] pthread_setaffinity_np failed for thread: 2062447, index: 37, mask: {38, }, error code: 22 error msg: Invalid argument. Specify the number of threads explicitly so the affinity is not set.\u001b[m\n",
      "\u001b[1;31m2025-04-25 11:44:01.887269555 [E:onnxruntime:Default, env.cc:234 ThreadMain] pthread_setaffinity_np failed for thread: 2062431, index: 21, mask: {22, }, error code: 22 error msg: Invalid argument. Specify the number of threads explicitly so the affinity is not set.\u001b[m\n",
      "\u001b[1;31m2025-04-25 11:44:01.887276589 [E:onnxruntime:Default, env.cc:234 ThreadMain] pthread_setaffinity_np failed for thread: 2062457, index: 47, mask: {48, }, error code: 22 error msg: Invalid argument. Specify the number of threads explicitly so the affinity is not set.\u001b[m\n",
      "\u001b[1;31m2025-04-25 11:44:01.889241857 [E:onnxruntime:Default, env.cc:234 ThreadMain] pthread_setaffinity_np failed for thread: 2062449, index: 39, mask: {40, }, error code: 22 error msg: Invalid argument. Specify the number of threads explicitly so the affinity is not set.\u001b[m\n",
      "\u001b[1;31m2025-04-25 11:44:01.891288278 [E:onnxruntime:Default, env.cc:234 ThreadMain] pthread_setaffinity_np failed for thread: 2062417, index: 7, mask: {8, }, error code: 22 error msg: Invalid argument. Specify the number of threads explicitly so the affinity is not set.\u001b[m\n",
      "\u001b[1;31m2025-04-25 11:44:01.891307005 [E:onnxruntime:Default, env.cc:234 ThreadMain] pthread_setaffinity_np failed for thread: 2062461, index: 51, mask: {52, }, error code: 22 error msg: Invalid argument. Specify the number of threads explicitly so the affinity is not set.\u001b[m\n",
      "\u001b[1;31m2025-04-25 11:44:01.891323990 [E:onnxruntime:Default, env.cc:234 ThreadMain] pthread_setaffinity_np failed for thread: 2062425, index: 15, mask: {16, }, error code: 22 error msg: Invalid argument. Specify the number of threads explicitly so the affinity is not set.\u001b[m\n",
      "\u001b[1;31m2025-04-25 11:44:01.894236373 [E:onnxruntime:Default, env.cc:234 ThreadMain] pthread_setaffinity_np failed for thread: 2062464, index: 54, mask: {55, }, error code: 22 error msg: Invalid argument. Specify the number of threads explicitly so the affinity is not set.\u001b[m\n",
      "\u001b[1;31m2025-04-25 11:44:01.895241139 [E:onnxruntime:Default, env.cc:234 ThreadMain] pthread_setaffinity_np failed for thread: 2062462, index: 52, mask: {53, }, error code: 22 error msg: Invalid argument. Specify the number of threads explicitly so the affinity is not set.\u001b[m\n",
      "\u001b[1;31m2025-04-25 11:44:01.904249113 [E:onnxruntime:Default, env.cc:234 ThreadMain] pthread_setaffinity_np failed for thread: 2062453, index: 43, mask: {44, }, error code: 22 error msg: Invalid argument. Specify the number of threads explicitly so the affinity is not set.\u001b[m\n",
      "\u001b[1;31m2025-04-25 11:44:01.907269043 [E:onnxruntime:Default, env.cc:234 ThreadMain] pthread_setaffinity_np failed for thread: 2062413, index: 3, mask: {4, }, error code: 22 error msg: Invalid argument. Specify the number of threads explicitly so the affinity is not set.\u001b[m\n",
      "\u001b[1;31m2025-04-25 11:44:01.908233227 [E:onnxruntime:Default, env.cc:234 ThreadMain] pthread_setaffinity_np failed for thread: 2062433, index: 23, mask: {24, }, error code: 22 error msg: Invalid argument. Specify the number of threads explicitly so the affinity is not set.\u001b[m\n",
      "\u001b[1;31m2025-04-25 11:44:01.912256022 [E:onnxruntime:Default, env.cc:234 ThreadMain] pthread_setaffinity_np failed for thread: 2062435, index: 25, mask: {26, }, error code: 22 error msg: Invalid argument. Specify the number of threads explicitly so the affinity is not set.\u001b[m\n",
      "\u001b[1;31m2025-04-25 11:44:01.916236190 [E:onnxruntime:Default, env.cc:234 ThreadMain] pthread_setaffinity_np failed for thread: 2062436, index: 26, mask: {27, }, error code: 22 error msg: Invalid argument. Specify the number of threads explicitly so the affinity is not set.\u001b[m\n",
      "\u001b[1;31m2025-04-25 11:44:01.920241014 [E:onnxruntime:Default, env.cc:234 ThreadMain] pthread_setaffinity_np failed for thread: 2062437, index: 27, mask: {28, }, error code: 22 error msg: Invalid argument. Specify the number of threads explicitly so the affinity is not set.\u001b[m\n",
      "\u001b[1;31m2025-04-25 11:44:01.912232323 [E:onnxruntime:Default, env.cc:234 ThreadMain] pthread_setaffinity_np failed for thread: 2062434, index: 24, mask: {25, }, error code: 22 error msg: Invalid argument. Specify the number of threads explicitly so the affinity is not set.\u001b[m\n",
      "\u001b[1;31m2025-04-25 11:44:01.896307972 [E:onnxruntime:Default, env.cc:234 ThreadMain] pthread_setaffinity_np failed for thread: 2062430, index: 20, mask: {21, }, error code: 22 error msg: Invalid argument. Specify the number of threads explicitly so the affinity is not set.\u001b[m\n",
      "\u001b[1;31m2025-04-25 11:44:01.899237956 [E:onnxruntime:Default, env.cc:234 ThreadMain] pthread_setaffinity_np failed for thread: 2062458, index: 48, mask: {49, }, error code: 22 error msg: Invalid argument. Specify the number of threads explicitly so the affinity is not set.\u001b[m\n",
      "\u001b[1;31m2025-04-25 11:44:01.899244775 [E:onnxruntime:Default, env.cc:234 ThreadMain] pthread_setaffinity_np failed for thread: 2062460, index: 50, mask: {51, }, error code: 22 error msg: Invalid argument. Specify the number of threads explicitly so the affinity is not set.\u001b[m\n",
      "\u001b[1;31m2025-04-25 11:44:01.896317700 [E:onnxruntime:Default, env.cc:234 ThreadMain] pthread_setaffinity_np failed for thread: 2062426, index: 16, mask: {17, }, error code: 22 error msg: Invalid argument. Specify the number of threads explicitly so the affinity is not set.\u001b[m\n",
      "\u001b[1;31m2025-04-25 11:44:01.904225712 [E:onnxruntime:Default, env.cc:234 ThreadMain] pthread_setaffinity_np failed for thread: 2062440, index: 30, mask: {31, }, error code: 22 error msg: Invalid argument. Specify the number of threads explicitly so the affinity is not set.\u001b[m\n",
      "\u001b[1;31m2025-04-25 11:44:01.904235629 [E:onnxruntime:Default, env.cc:234 ThreadMain] pthread_setaffinity_np failed for thread: 2062420, index: 10, mask: {11, }, error code: 22 error msg: Invalid argument. Specify the number of threads explicitly so the affinity is not set.\u001b[m\n",
      "\u001b[1;31m2025-04-25 11:44:01.965257229 [E:onnxruntime:Default, env.cc:234 ThreadMain] pthread_setaffinity_np failed for thread: 2062414, index: 4, mask: {5, }, error code: 22 error msg: Invalid argument. Specify the number of threads explicitly so the affinity is not set.\u001b[m\n",
      "\u001b[1;31m2025-04-25 11:44:01.969238580 [E:onnxruntime:Default, env.cc:234 ThreadMain] pthread_setaffinity_np failed for thread: 2062459, index: 49, mask: {50, }, error code: 22 error msg: Invalid argument. Specify the number of threads explicitly so the affinity is not set.\u001b[m\n",
      "\u001b[1;31m2025-04-25 11:44:01.973318525 [E:onnxruntime:Default, env.cc:234 ThreadMain] pthread_setaffinity_np failed for thread: 2062465, index: 55, mask: {56, }, error code: 22 error msg: Invalid argument. Specify the number of threads explicitly so the affinity is not set.\u001b[m\n",
      "\u001b[1;31m2025-04-25 11:44:01.977231000 [E:onnxruntime:Default, env.cc:234 ThreadMain] pthread_setaffinity_np failed for thread: 2062438, index: 28, mask: {29, }, error code: 22 error msg: Invalid argument. Specify the number of threads explicitly so the affinity is not set.\u001b[m\n",
      "\u001b[1;31m2025-04-25 11:44:01.981229996 [E:onnxruntime:Default, env.cc:234 ThreadMain] pthread_setaffinity_np failed for thread: 2062466, index: 56, mask: {57, }, error code: 22 error msg: Invalid argument. Specify the number of threads explicitly so the affinity is not set.\u001b[m\n",
      "\u001b[1;31m2025-04-25 11:44:01.985372988 [E:onnxruntime:Default, env.cc:234 ThreadMain] pthread_setaffinity_np failed for thread: 2062467, index: 57, mask: {58, }, error code: 22 error msg: Invalid argument. Specify the number of threads explicitly so the affinity is not set.\u001b[m\n",
      "\u001b[1;31m2025-04-25 11:44:01.989232311 [E:onnxruntime:Default, env.cc:234 ThreadMain] pthread_setaffinity_np failed for thread: 2062468, index: 58, mask: {59, }, error code: 22 error msg: Invalid argument. Specify the number of threads explicitly so the affinity is not set.\u001b[m\n",
      "\u001b[1;31m2025-04-25 11:44:01.993231288 [E:onnxruntime:Default, env.cc:234 ThreadMain] pthread_setaffinity_np failed for thread: 2062469, index: 59, mask: {60, }, error code: 22 error msg: Invalid argument. Specify the number of threads explicitly so the affinity is not set.\u001b[m\n",
      "\u001b[1;31m2025-04-25 11:44:01.996270173 [E:onnxruntime:Default, env.cc:234 ThreadMain] pthread_setaffinity_np failed for thread: 2062470, index: 60, mask: {61, }, error code: 22 error msg: Invalid argument. Specify the number of threads explicitly so the affinity is not set.\u001b[m\n",
      "\u001b[1;31m2025-04-25 11:44:02.000232708 [E:onnxruntime:Default, env.cc:234 ThreadMain] pthread_setaffinity_np failed for thread: 2062471, index: 61, mask: {62, }, error code: 22 error msg: Invalid argument. Specify the number of threads explicitly so the affinity is not set.\u001b[m\n",
      "\u001b[1;31m2025-04-25 11:44:02.004231312 [E:onnxruntime:Default, env.cc:234 ThreadMain] pthread_setaffinity_np failed for thread: 2062472, index: 62, mask: {63, }, error code: 22 error msg: Invalid argument. Specify the number of threads explicitly so the affinity is not set.\u001b[m\n",
      "\u001b[1;31m2025-04-25 11:44:02.008231941 [E:onnxruntime:Default, env.cc:234 ThreadMain] pthread_setaffinity_np failed for thread: 2062418, index: 8, mask: {9, }, error code: 22 error msg: Invalid argument. Specify the number of threads explicitly so the affinity is not set.\u001b[m\n",
      "\u001b[1;31m2025-04-25 11:44:02.012265377 [E:onnxruntime:Default, env.cc:234 ThreadMain] pthread_setaffinity_np failed for thread: 2062424, index: 14, mask: {15, }, error code: 22 error msg: Invalid argument. Specify the number of threads explicitly so the affinity is not set.\u001b[m\n",
      "\u001b[1;31m2025-04-25 11:44:02.016274061 [E:onnxruntime:Default, env.cc:234 ThreadMain] pthread_setaffinity_np failed for thread: 2062419, index: 9, mask: {10, }, error code: 22 error msg: Invalid argument. Specify the number of threads explicitly so the affinity is not set.\u001b[m\n",
      "\u001b[1;31m2025-04-25 11:44:01.949231312 [E:onnxruntime:Default, env.cc:234 ThreadMain] pthread_setaffinity_np failed for thread: 2062423, index: 13, mask: {14, }, error code: 22 error msg: Invalid argument. Specify the number of threads explicitly so the affinity is not set.\u001b[m\n",
      "\u001b[1;31m2025-04-25 11:44:02.012242952 [E:onnxruntime:Default, env.cc:234 ThreadMain] pthread_setaffinity_np failed for thread: 2062421, index: 11, mask: {12, }, error code: 22 error msg: Invalid argument. Specify the number of threads explicitly so the affinity is not set.\u001b[m\n",
      "\u001b[1;31m2025-04-25 11:44:02.034236101 [E:onnxruntime:Default, env.cc:234 ThreadMain] pthread_setaffinity_np failed for thread: 2062448, index: 38, mask: {39, }, error code: 22 error msg: Invalid argument. Specify the number of threads explicitly so the affinity is not set.\u001b[m\n",
      "\u001b[1;31m2025-04-25 11:44:02.034246626 [E:onnxruntime:Default, env.cc:234 ThreadMain] pthread_setaffinity_np failed for thread: 2062415, index: 5, mask: {6, }, error code: 22 error msg: Invalid argument. Specify the number of threads explicitly so the affinity is not set.\u001b[m\n",
      "\u001b[1;31m2025-04-25 11:44:02.020305313 [E:onnxruntime:Default, env.cc:234 ThreadMain] pthread_setaffinity_np failed for thread: 2062416, index: 6, mask: {7, }, error code: 22 error msg: Invalid argument. Specify the number of threads explicitly so the affinity is not set.\u001b[m\n",
      "\u001b[1;31m2025-04-25 11:44:02.038354150 [E:onnxruntime:Default, env.cc:234 ThreadMain] pthread_setaffinity_np failed for thread: 2062422, index: 12, mask: {13, }, error code: 22 error msg: Invalid argument. Specify the number of threads explicitly so the affinity is not set.\u001b[m\n",
      "\u001b[1;31m2025-04-25 11:44:02.042226091 [E:onnxruntime:Default, env.cc:234 ThreadMain] pthread_setaffinity_np failed for thread: 2062439, index: 29, mask: {30, }, error code: 22 error msg: Invalid argument. Specify the number of threads explicitly so the affinity is not set.\u001b[m\n",
      "\u001b[1;31m2025-04-25 11:44:02.052259154 [E:onnxruntime:Default, env.cc:234 ThreadMain] pthread_setaffinity_np failed for thread: 2062463, index: 53, mask: {54, }, error code: 22 error msg: Invalid argument. Specify the number of threads explicitly so the affinity is not set.\u001b[m\n"
     ]
    }
   ],
   "source": [
    "import onnxruntime as ort\n",
    "\n",
    "session = ort.InferenceSession(\"project3d_2_10000.onnx\", providers=[\"CUDAExecutionProvider\"])  # or \"CPUExecutionProvider\"\n"
   ]
  },
  {
   "cell_type": "code",
   "execution_count": 33,
   "metadata": {},
   "outputs": [
    {
     "name": "stdout",
     "output_type": "stream",
     "text": [
      "Input name: input, shape: ['batch_size', 1280], type: tensor(float)\n"
     ]
    }
   ],
   "source": [
    "input_name = session.get_inputs()[0].name\n",
    "input_shape = session.get_inputs()[0].shape\n",
    "input_type = session.get_inputs()[0].type\n",
    "print(f\"Input name: {input_name}, shape: {input_shape}, type: {input_type}\")\n"
   ]
  },
  {
   "cell_type": "code",
   "execution_count": 34,
   "metadata": {},
   "outputs": [],
   "source": [
    "def embed_batch_esm2(seqs, repr_layer=33, device=\"cuda\"):\n",
    "    batch_data = [(f\"seq{i}\", seq) for i, seq in enumerate(seqs)]\n",
    "    _, _, batch_tokens = batch_converter(batch_data)\n",
    "    batch_tokens = batch_tokens.to(device)\n",
    "\n",
    "    with torch.no_grad():\n",
    "        results = esm_model(batch_tokens, repr_layers=[repr_layer], return_contacts=False)\n",
    "    \n",
    "    embeddings = []\n",
    "    for i in range(len(seqs)):\n",
    "        # Extract per-token representations and average (skip BOS and EOS)\n",
    "        token_reps = results[\"representations\"][repr_layer][i, 1:-1]\n",
    "        avg_emb = token_reps.mean(0).cpu().numpy()\n",
    "        embeddings.append(avg_emb)\n",
    "\n",
    "    return embeddings\n",
    "\n",
    "def compute_proteinclip_embeddings(ls, col=\"sequence\", batch_size=32, device=\"cuda\"):\n",
    "    clip_embeds = []\n",
    "\n",
    "    for i in tqdm(range(0, len(ls), batch_size)):\n",
    "        batch_seqs = ls[i:i+batch_size]\n",
    "\n",
    "        # Step 1: ESM2 embeddings — returns (batch_size, emb_dim)\n",
    "        esm_embs = embed_batch_esm2(batch_seqs, device=device)  # numpy or torch tensor\n",
    "\n",
    "        # Step 2: Normalize the batch\n",
    "        norms = np.linalg.norm(esm_embs, axis=1, keepdims=True)\n",
    "        norms[norms == 0] = 1e-8  # prevent division by zero\n",
    "        esm_embs = esm_embs / norms\n",
    "\n",
    "        # Step 3: Batch prediction with ProteinCLIP model\n",
    "        batch_clip_embs = proteinclip_model.predict_batch(esm_embs)  # shape: (B, 128)\n",
    "\n",
    "        clip_embeds.append(batch_clip_embs)\n",
    "\n",
    "    return np.concatenate(clip_embeds, axis=0)  # shape: (N, 128)\n",
    "\n",
    "def compute_proteinclip_plus_embeddings(ls, col=\"sequence\", batch_size=32, device=\"cuda\"):\n",
    "    clip_embeds = []\n",
    "\n",
    "    for i in tqdm(range(0, len(ls), batch_size)):\n",
    "        batch_seqs = ls[i:i+batch_size]\n",
    "\n",
    "        # Step 1: ESM2 embeddings — returns (batch_size, emb_dim)\n",
    "        esm_embs = embed_batch_esm2(batch_seqs, device=device)  # numpy or torch tensor\n",
    "\n",
    "        # Step 2: Normalize the batch\n",
    "        esm_embs = esm_embs / np.linalg.norm(esm_embs, axis=1, keepdims=True)  # shape: (B, D)\n",
    "\n",
    "        # Step 3: Batch prediction with ProteinCLIP model\n",
    "        batch_clip_embs = proteinclip_model.predict_batch(esm_embs)  # shape: (B, 128)\n",
    "        \n",
    "        batch_clip_embs = np.asarray(batch_clip_embs, dtype=np.float32)\n",
    "\n",
    "\n",
    "        batch_clip_plus_embs = session.run(None, {input_name: batch_clip_embs})[0]  \n",
    "\n",
    "\n",
    "\n",
    "        clip_embeds.append(batch_clip_plus_embs)\n",
    "\n",
    "    return np.concatenate(clip_embeds, axis=0)  # shape: (N, 128)\n",
    "\n",
    "\n",
    "def compute_proteinclip_plus_plus_embeddings(ls, col=\"sequence\", batch_size=32, device=\"cuda\"):\n",
    "    clip_embeds = []\n",
    "\n",
    "    for i in tqdm(range(0, len(ls), batch_size)):\n",
    "        batch_seqs = ls[i:i+batch_size]\n",
    "\n",
    "        # Step 1: ESM2 embeddings — returns (batch_size, emb_dim)\n",
    "        esm_embs = embed_batch_esm2(batch_seqs, device=device)  # numpy or torch tensor\n",
    "\n",
    "        # Step 2: Normalize the batch\n",
    "        norms = np.linalg.norm(esm_embs, axis=1, keepdims=True)\n",
    "        norms[norms == 0] = 1e-8  # prevent division by zero\n",
    "        esm_embs = esm_embs / norms\n",
    "\n",
    "\n",
    "        batch_clip_plus_plus_embs = session.run(None, {input_name: esm_embs})[0]  \n",
    "\n",
    "\n",
    "        clip_embeds.append(batch_clip_plus_plus_embs)\n",
    "\n",
    "    return np.concatenate(clip_embeds, axis=0)  # shape: (N, 128)\n",
    "\n",
    "\n",
    "def compute_proteinclip_trained_embeddings(ls, col=\"sequence\", batch_size=32, device=\"cuda\"):\n",
    "    clip_embeds = []\n",
    "\n",
    "    for i in tqdm(range(0, len(ls), batch_size)):\n",
    "        batch_seqs = ls[i:i+batch_size]\n",
    "\n",
    "        # Step 1: ESM2 embeddings — returns (batch_size, emb_dim)\n",
    "        esm_embs = embed_batch_esm2(batch_seqs, device=device)  # numpy or torch tensor\n",
    "\n",
    "        # Step 2: Normalize the batch\n",
    "        esm_embs = esm_embs / np.linalg.norm(esm_embs, axis=1, keepdims=True)  # shape: (B, D)\n",
    "\n",
    "\n",
    "        batch_clip_embs = session.run(None, {input_name: esm_embs})[0]  \n",
    "\n",
    "\n",
    "        clip_embeds.append(batch_clip_embs)\n",
    "\n",
    "    return np.concatenate(clip_embeds, axis=0)  # shape: (N, 128)\n",
    "\n"
   ]
  },
  {
   "cell_type": "code",
   "execution_count": 35,
   "metadata": {},
   "outputs": [],
   "source": [
    "def embed_helper(mp, embed_func):\n",
    "    ref_arr = []\n",
    "    ref_keys = []\n",
    "    for i in mp:    \n",
    "        ref_arr.append(mp[i])\n",
    "        ref_keys.append(i)\n",
    "        \n",
    "    tqdm.write(str(max([len(i) for i in ref_arr])))\n",
    "    ref_embeddings = embed_func(ref_arr, col=\"sequence\", batch_size=128, device=\"cuda\")\n",
    "    ans = {}\n",
    "    for i,key in enumerate(ref_keys):\n",
    "        ans[key] = ref_embeddings[i]\n",
    "    return ans\n",
    "\n",
    "def func(cath_sequences):\n",
    "    reference_sequences, query_sequences = cath_sequences.build_ref_query_set()\n",
    "    ref_embeddings = embed_helper(reference_sequences, compute_proteinclip_plus_plus_embeddings)\n",
    "    query_embeddings = embed_helper(query_sequences, compute_proteinclip_plus_plus_embeddings)\n",
    "    return ref_embeddings, query_embeddings\n",
    "\n",
    "    \n"
   ]
  },
  {
   "cell_type": "code",
   "execution_count": 36,
   "metadata": {},
   "outputs": [],
   "source": [
    "def eval_embedding_function_on_dataset(\n",
    "    cath_sequences: CathSequences,\n",
    "    func_on_identifier: bool = True,\n",
    ") -> Dict[str, Dict[str, float | str | bool]]:\n",
    "    \"\"\"\n",
    "    Evaluate an embedding function on a dataset of sequences.\n",
    "    Return a dictionary of {seq_id: {seq_id: score}} mappings.\n",
    "    \"\"\"\n",
    "    reference_sequences, query_sequences = cath_sequences.build_ref_query_set()\n",
    "\n",
    "    ref_embeddings, query_embeddings = func(cath_sequences)\n",
    "\n",
    "    retval = {}\n",
    "    for query, query_embeddings in tqdm(query_embeddings.items()):\n",
    "        # Create a version of the reference embeddings without the query\n",
    "        ref_keys = sorted(set(ref_embeddings.keys()) - {query})\n",
    "        ref_embeddings_minus_query = np.array([ref_embeddings[k] for k in ref_keys])\n",
    "\n",
    "        # Compute cosine similarity\n",
    "        scores = np.dot(query_embeddings, ref_embeddings_minus_query.T)\n",
    "        assert scores.ndim == 1\n",
    "        max_idx = np.argmax(scores)\n",
    "        matched_key = ref_keys[max_idx]\n",
    "\n",
    "        # Get the class for both the query and the match\n",
    "        query_class = cath_sequences.get_cath_class(query)\n",
    "        match_class = cath_sequences.get_cath_class(matched_key)\n",
    "        retval[query] = {\n",
    "            \"max_score\": np.max(scores),\n",
    "            \"query_cath_class\": query_class,\n",
    "            \"match_cath_class\": match_class,\n",
    "            \"correct\": query_class == match_class,\n",
    "            \"query_length\": len(query_sequences[query]),\n",
    "        }\n",
    "    return retval\n"
   ]
  },
  {
   "cell_type": "code",
   "execution_count": 37,
   "metadata": {},
   "outputs": [
    {
     "name": "stdout",
     "output_type": "stream",
     "text": [
      "1204\n"
     ]
    },
    {
     "name": "stderr",
     "output_type": "stream",
     "text": [
      "100%|██████████| 117/117 [05:37<00:00,  2.88s/it]\n"
     ]
    },
    {
     "name": "stdout",
     "output_type": "stream",
     "text": [
      "1174\n"
     ]
    },
    {
     "name": "stderr",
     "output_type": "stream",
     "text": [
      "100%|██████████| 86/86 [04:21<00:00,  3.05s/it]\n",
      "100%|██████████| 10926/10926 [01:27<00:00, 124.96it/s]\n"
     ]
    },
    {
     "name": "stdout",
     "output_type": "stream",
     "text": [
      "Accuracy: 0.6723412044664104\n"
     ]
    }
   ],
   "source": [
    "eval_results = eval_embedding_function_on_dataset(x)\n",
    "eval_accuracy = np.array([v[\"correct\"] for v in eval_results.values()])\n",
    "print(f\"Accuracy: {eval_accuracy.mean()}\")"
   ]
  },
  {
   "cell_type": "code",
   "execution_count": 27,
   "metadata": {},
   "outputs": [],
   "source": [
    "import pickle"
   ]
  },
  {
   "cell_type": "code",
   "execution_count": 38,
   "metadata": {},
   "outputs": [],
   "source": [
    "with open('homology_pc++_10000.pkl','wb') as f:\n",
    "    pickle.dump(eval_results, f)"
   ]
  },
  {
   "cell_type": "code",
   "execution_count": 62,
   "metadata": {},
   "outputs": [
    {
     "data": {
      "text/plain": [
       "9087"
      ]
     },
     "execution_count": 62,
     "metadata": {},
     "output_type": "execute_result"
    }
   ],
   "source": [
    "import torch\n",
    "import gc\n",
    "\n",
    "torch.cuda.empty_cache()       # Frees cached memory (does NOT free tensors still referenced)\n",
    "gc.collect()                   # Forces garbage collection of unreferenced objects\n"
   ]
  },
  {
   "cell_type": "code",
   "execution_count": 63,
   "metadata": {},
   "outputs": [],
   "source": [
    "for obj in dir():\n",
    "    if 'tensor' in str(type(eval(obj))):\n",
    "        del globals()[obj]\n",
    "gc.collect()\n",
    "torch.cuda.empty_cache()\n"
   ]
  }
 ],
 "metadata": {
  "kernelspec": {
   "display_name": "Python (proteinclip)",
   "language": "python",
   "name": "proteinclip"
  },
  "language_info": {
   "codemirror_mode": {
    "name": "ipython",
    "version": 3
   },
   "file_extension": ".py",
   "mimetype": "text/x-python",
   "name": "python",
   "nbconvert_exporter": "python",
   "pygments_lexer": "ipython3",
   "version": "3.10.13"
  },
  "orig_nbformat": 4
 },
 "nbformat": 4,
 "nbformat_minor": 2
}
